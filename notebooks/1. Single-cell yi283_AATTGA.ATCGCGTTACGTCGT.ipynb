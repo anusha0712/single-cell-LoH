{
 "cells": [
  {
   "cell_type": "markdown",
   "metadata": {},
   "source": [
    "# AIM: CATEGORIZING THE POSITIONS IN yi283_AATTGA.ATCGCGTTACGTCGT AS PSL5 OR PSL2"
   ]
  },
  {
   "cell_type": "markdown",
   "metadata": {},
   "source": [
    "*Programmer's Note:*\n",
    "\n",
    "This was the training notebook. All the code here is using the parental psl2 and psl5 strains for which we already know the outcomes of. Professor Yi used these to walk me through concepts and models related to our research and I could practice coding on this dataset in order to gain familiarity as well as have the ability to check my work on a known dataset. "
   ]
  },
  {
   "cell_type": "code",
   "execution_count": 1,
   "metadata": {},
   "outputs": [],
   "source": [
    "import os \n",
    "import allel\n",
    "import numpy as np \n",
    "import pandas as pd\n",
    "import seaborn as sns\n",
    "import matplotlib.pyplot as plt\n",
    "%matplotlib inline"
   ]
  },
  {
   "cell_type": "markdown",
   "metadata": {},
   "source": [
    "## 1. Extract all CHROM 4 positions from yi283_AATTGA.ATCGCGTTACGTCGT"
   ]
  },
  {
   "cell_type": "code",
   "execution_count": 1,
   "metadata": {},
   "outputs": [
    {
     "name": "stdout",
     "output_type": "stream",
     "text": [
      "[Errno 2] No such file or directory: 'single-cell-LoH/tsv'\n",
      "/Users/anushasubramanian/Desktop/single-cell-LoH/notebooks\n"
     ]
    }
   ],
   "source": [
    "cd single-cell-LoH/tsv"
   ]
  },
  {
   "cell_type": "code",
   "execution_count": 4,
   "metadata": {},
   "outputs": [],
   "source": [
    "data = pd.read_csv('yi283_AATTGA.ATCGCGTTACGTCGT.tsv', sep = '\\t')"
   ]
  },
  {
   "cell_type": "code",
   "execution_count": 5,
   "metadata": {},
   "outputs": [
    {
     "data": {
      "text/html": [
       "<div>\n",
       "<style scoped>\n",
       "    .dataframe tbody tr th:only-of-type {\n",
       "        vertical-align: middle;\n",
       "    }\n",
       "\n",
       "    .dataframe tbody tr th {\n",
       "        vertical-align: top;\n",
       "    }\n",
       "\n",
       "    .dataframe thead th {\n",
       "        text-align: right;\n",
       "    }\n",
       "</style>\n",
       "<table border=\"1\" class=\"dataframe\">\n",
       "  <thead>\n",
       "    <tr style=\"text-align: right;\">\n",
       "      <th></th>\n",
       "      <th>#CHROM</th>\n",
       "      <th>POS</th>\n",
       "      <th>ID</th>\n",
       "      <th>REF</th>\n",
       "      <th>ALT</th>\n",
       "      <th>QUAL</th>\n",
       "      <th>FILTER</th>\n",
       "      <th>INFO</th>\n",
       "      <th>FORMAT</th>\n",
       "      <th>psl5.srt.bam</th>\n",
       "      <th>/net/shendure/vol10/projects/Tn5_scSeq/nobackup/alignment/yeast/Tom/bam/mem/psl2/psl2.sort.dedup.bam</th>\n",
       "      <th>yi283_AATTGA.ATCGCGTTACGTCGT.bam</th>\n",
       "    </tr>\n",
       "  </thead>\n",
       "  <tbody>\n",
       "    <tr>\n",
       "      <th>0</th>\n",
       "      <td>chrI</td>\n",
       "      <td>242</td>\n",
       "      <td>.</td>\n",
       "      <td>A</td>\n",
       "      <td>C</td>\n",
       "      <td>17</td>\n",
       "      <td>.</td>\n",
       "      <td>AMQ=53,27</td>\n",
       "      <td>GT:ADF:ADR:LTDROP</td>\n",
       "      <td>1/1:3,11:0,6:.</td>\n",
       "      <td>0/0:42,0:17,0:.</td>\n",
       "      <td>./.:1,0:0,0:0</td>\n",
       "    </tr>\n",
       "    <tr>\n",
       "      <th>1</th>\n",
       "      <td>chrI</td>\n",
       "      <td>250</td>\n",
       "      <td>.</td>\n",
       "      <td>G</td>\n",
       "      <td>A</td>\n",
       "      <td>20</td>\n",
       "      <td>.</td>\n",
       "      <td>AMQ=49,22</td>\n",
       "      <td>GT:ADF:ADR:LTDROP</td>\n",
       "      <td>1/1:7,14:1,6:.</td>\n",
       "      <td>0/0:53,0:19,0:.</td>\n",
       "      <td>./.:9,0:0,0:0</td>\n",
       "    </tr>\n",
       "    <tr>\n",
       "      <th>2</th>\n",
       "      <td>chrI</td>\n",
       "      <td>262</td>\n",
       "      <td>.</td>\n",
       "      <td>A</td>\n",
       "      <td>G</td>\n",
       "      <td>23</td>\n",
       "      <td>.</td>\n",
       "      <td>AMQ=47,28</td>\n",
       "      <td>GT:ADF:ADR:LTDROP</td>\n",
       "      <td>0/1:14,17:6,2:.</td>\n",
       "      <td>0/0:48,2:13,0:.</td>\n",
       "      <td>./.:5,2:0,0:0</td>\n",
       "    </tr>\n",
       "    <tr>\n",
       "      <th>3</th>\n",
       "      <td>chrI</td>\n",
       "      <td>286</td>\n",
       "      <td>.</td>\n",
       "      <td>A</td>\n",
       "      <td>T</td>\n",
       "      <td>98</td>\n",
       "      <td>.</td>\n",
       "      <td>AMQ=57,32</td>\n",
       "      <td>GT:ADF:ADR:LTDROP</td>\n",
       "      <td>1/1:0,32:0,24:.</td>\n",
       "      <td>0/1:32,23:26,17:.</td>\n",
       "      <td>./.:3,2:0,0:0</td>\n",
       "    </tr>\n",
       "    <tr>\n",
       "      <th>4</th>\n",
       "      <td>chrI</td>\n",
       "      <td>290</td>\n",
       "      <td>.</td>\n",
       "      <td>A</td>\n",
       "      <td>T</td>\n",
       "      <td>39</td>\n",
       "      <td>.</td>\n",
       "      <td>AMQ=46,39</td>\n",
       "      <td>GT:ADF:ADR:LTDROP</td>\n",
       "      <td>1/0:10,24:6,15:.</td>\n",
       "      <td>0/0:56,0:41,0:.</td>\n",
       "      <td>./.:5,0:0,0:0</td>\n",
       "    </tr>\n",
       "  </tbody>\n",
       "</table>\n",
       "</div>"
      ],
      "text/plain": [
       "  #CHROM  POS ID REF ALT  QUAL FILTER       INFO             FORMAT  \\\n",
       "0   chrI  242  .   A   C    17      .  AMQ=53,27  GT:ADF:ADR:LTDROP   \n",
       "1   chrI  250  .   G   A    20      .  AMQ=49,22  GT:ADF:ADR:LTDROP   \n",
       "2   chrI  262  .   A   G    23      .  AMQ=47,28  GT:ADF:ADR:LTDROP   \n",
       "3   chrI  286  .   A   T    98      .  AMQ=57,32  GT:ADF:ADR:LTDROP   \n",
       "4   chrI  290  .   A   T    39      .  AMQ=46,39  GT:ADF:ADR:LTDROP   \n",
       "\n",
       "       psl5.srt.bam  \\\n",
       "0    1/1:3,11:0,6:.   \n",
       "1    1/1:7,14:1,6:.   \n",
       "2   0/1:14,17:6,2:.   \n",
       "3   1/1:0,32:0,24:.   \n",
       "4  1/0:10,24:6,15:.   \n",
       "\n",
       "  /net/shendure/vol10/projects/Tn5_scSeq/nobackup/alignment/yeast/Tom/bam/mem/psl2/psl2.sort.dedup.bam  \\\n",
       "0                                    0/0:42,0:17,0:.                                                     \n",
       "1                                    0/0:53,0:19,0:.                                                     \n",
       "2                                    0/0:48,2:13,0:.                                                     \n",
       "3                                  0/1:32,23:26,17:.                                                     \n",
       "4                                    0/0:56,0:41,0:.                                                     \n",
       "\n",
       "  yi283_AATTGA.ATCGCGTTACGTCGT.bam  \n",
       "0                    ./.:1,0:0,0:0  \n",
       "1                    ./.:9,0:0,0:0  \n",
       "2                    ./.:5,2:0,0:0  \n",
       "3                    ./.:3,2:0,0:0  \n",
       "4                    ./.:5,0:0,0:0  "
      ]
     },
     "execution_count": 5,
     "metadata": {},
     "output_type": "execute_result"
    }
   ],
   "source": [
    "data.head()"
   ]
  },
  {
   "cell_type": "code",
   "execution_count": 6,
   "metadata": {},
   "outputs": [],
   "source": [
    "chrIV = data.loc[data[\"#CHROM\"] == \"chrIV\"] # all chrIV only"
   ]
  },
  {
   "cell_type": "code",
   "execution_count": 7,
   "metadata": {},
   "outputs": [
    {
     "data": {
      "text/html": [
       "<div>\n",
       "<style scoped>\n",
       "    .dataframe tbody tr th:only-of-type {\n",
       "        vertical-align: middle;\n",
       "    }\n",
       "\n",
       "    .dataframe tbody tr th {\n",
       "        vertical-align: top;\n",
       "    }\n",
       "\n",
       "    .dataframe thead th {\n",
       "        text-align: right;\n",
       "    }\n",
       "</style>\n",
       "<table border=\"1\" class=\"dataframe\">\n",
       "  <thead>\n",
       "    <tr style=\"text-align: right;\">\n",
       "      <th></th>\n",
       "      <th>#CHROM</th>\n",
       "      <th>POS</th>\n",
       "      <th>ID</th>\n",
       "      <th>REF</th>\n",
       "      <th>ALT</th>\n",
       "      <th>QUAL</th>\n",
       "      <th>FILTER</th>\n",
       "      <th>INFO</th>\n",
       "      <th>FORMAT</th>\n",
       "      <th>psl5.srt.bam</th>\n",
       "      <th>/net/shendure/vol10/projects/Tn5_scSeq/nobackup/alignment/yeast/Tom/bam/mem/psl2/psl2.sort.dedup.bam</th>\n",
       "      <th>yi283_AATTGA.ATCGCGTTACGTCGT.bam</th>\n",
       "    </tr>\n",
       "  </thead>\n",
       "  <tbody>\n",
       "    <tr>\n",
       "      <th>2388</th>\n",
       "      <td>chrIV</td>\n",
       "      <td>1574</td>\n",
       "      <td>.</td>\n",
       "      <td>A</td>\n",
       "      <td>G</td>\n",
       "      <td>10</td>\n",
       "      <td>.</td>\n",
       "      <td>AMQ=.,42</td>\n",
       "      <td>GT:ADF:ADR:LTDROP</td>\n",
       "      <td>./.:0,6:0,2:.</td>\n",
       "      <td>./.:0,0:0,0:.</td>\n",
       "      <td>./.:0,2:0,0:0</td>\n",
       "    </tr>\n",
       "    <tr>\n",
       "      <th>2389</th>\n",
       "      <td>chrIV</td>\n",
       "      <td>1607</td>\n",
       "      <td>.</td>\n",
       "      <td>T</td>\n",
       "      <td>C</td>\n",
       "      <td>10</td>\n",
       "      <td>.</td>\n",
       "      <td>AMQ=41,38</td>\n",
       "      <td>GT:ADF:ADR:LTDROP</td>\n",
       "      <td>0/1:30,3:11,7:.</td>\n",
       "      <td>./.:4,0:1,0:.</td>\n",
       "      <td>0/0:5,0:6,0:0</td>\n",
       "    </tr>\n",
       "    <tr>\n",
       "      <th>2390</th>\n",
       "      <td>chrIV</td>\n",
       "      <td>1624</td>\n",
       "      <td>.</td>\n",
       "      <td>T</td>\n",
       "      <td>A</td>\n",
       "      <td>14</td>\n",
       "      <td>.</td>\n",
       "      <td>AMQ=43,35</td>\n",
       "      <td>GT:ADF:ADR:LTDROP</td>\n",
       "      <td>0/1:27,3:12,7:.</td>\n",
       "      <td>./.:0,3:0,1:.</td>\n",
       "      <td>0/0:5,0:8,0:0</td>\n",
       "    </tr>\n",
       "    <tr>\n",
       "      <th>2391</th>\n",
       "      <td>chrIV</td>\n",
       "      <td>1633</td>\n",
       "      <td>.</td>\n",
       "      <td>T</td>\n",
       "      <td>G</td>\n",
       "      <td>54</td>\n",
       "      <td>.</td>\n",
       "      <td>AMQ=.,42</td>\n",
       "      <td>GT:ADF:ADR:LTDROP</td>\n",
       "      <td>1/1:0,22:0,19:.</td>\n",
       "      <td>./.:0,0:0,0:.</td>\n",
       "      <td>1/1:0,5:0,8:0</td>\n",
       "    </tr>\n",
       "    <tr>\n",
       "      <th>2392</th>\n",
       "      <td>chrIV</td>\n",
       "      <td>1635</td>\n",
       "      <td>.</td>\n",
       "      <td>G</td>\n",
       "      <td>T</td>\n",
       "      <td>44</td>\n",
       "      <td>.</td>\n",
       "      <td>AMQ=37,44</td>\n",
       "      <td>GT:ADF:ADR:LTDROP</td>\n",
       "      <td>1/0:3,20:8,10:.</td>\n",
       "      <td>./.:3,0:1,0:.</td>\n",
       "      <td>1/1:0,5:0,9:0</td>\n",
       "    </tr>\n",
       "  </tbody>\n",
       "</table>\n",
       "</div>"
      ],
      "text/plain": [
       "     #CHROM   POS ID REF ALT  QUAL FILTER       INFO             FORMAT  \\\n",
       "2388  chrIV  1574  .   A   G    10      .   AMQ=.,42  GT:ADF:ADR:LTDROP   \n",
       "2389  chrIV  1607  .   T   C    10      .  AMQ=41,38  GT:ADF:ADR:LTDROP   \n",
       "2390  chrIV  1624  .   T   A    14      .  AMQ=43,35  GT:ADF:ADR:LTDROP   \n",
       "2391  chrIV  1633  .   T   G    54      .   AMQ=.,42  GT:ADF:ADR:LTDROP   \n",
       "2392  chrIV  1635  .   G   T    44      .  AMQ=37,44  GT:ADF:ADR:LTDROP   \n",
       "\n",
       "         psl5.srt.bam  \\\n",
       "2388    ./.:0,6:0,2:.   \n",
       "2389  0/1:30,3:11,7:.   \n",
       "2390  0/1:27,3:12,7:.   \n",
       "2391  1/1:0,22:0,19:.   \n",
       "2392  1/0:3,20:8,10:.   \n",
       "\n",
       "     /net/shendure/vol10/projects/Tn5_scSeq/nobackup/alignment/yeast/Tom/bam/mem/psl2/psl2.sort.dedup.bam  \\\n",
       "2388                                      ./.:0,0:0,0:.                                                     \n",
       "2389                                      ./.:4,0:1,0:.                                                     \n",
       "2390                                      ./.:0,3:0,1:.                                                     \n",
       "2391                                      ./.:0,0:0,0:.                                                     \n",
       "2392                                      ./.:3,0:1,0:.                                                     \n",
       "\n",
       "     yi283_AATTGA.ATCGCGTTACGTCGT.bam  \n",
       "2388                    ./.:0,2:0,0:0  \n",
       "2389                    0/0:5,0:6,0:0  \n",
       "2390                    0/0:5,0:8,0:0  \n",
       "2391                    1/1:0,5:0,8:0  \n",
       "2392                    1/1:0,5:0,9:0  "
      ]
     },
     "execution_count": 7,
     "metadata": {},
     "output_type": "execute_result"
    }
   ],
   "source": [
    "chrIV.head()"
   ]
  },
  {
   "cell_type": "code",
   "execution_count": 8,
   "metadata": {
    "scrolled": true
   },
   "outputs": [
    {
     "data": {
      "text/plain": [
       "Index(['#CHROM', 'POS', 'ID', 'REF', 'ALT', 'QUAL', 'FILTER', 'INFO', 'FORMAT',\n",
       "       'psl5.srt.bam',\n",
       "       '/net/shendure/vol10/projects/Tn5_scSeq/nobackup/alignment/yeast/Tom/bam/mem/psl2/psl2.sort.dedup.bam',\n",
       "       'yi283_AATTGA.ATCGCGTTACGTCGT.bam'],\n",
       "      dtype='object')"
      ]
     },
     "execution_count": 8,
     "metadata": {},
     "output_type": "execute_result"
    }
   ],
   "source": [
    "chrIV.columns"
   ]
  },
  {
   "cell_type": "code",
   "execution_count": 9,
   "metadata": {},
   "outputs": [
    {
     "data": {
      "text/html": [
       "<div>\n",
       "<style scoped>\n",
       "    .dataframe tbody tr th:only-of-type {\n",
       "        vertical-align: middle;\n",
       "    }\n",
       "\n",
       "    .dataframe tbody tr th {\n",
       "        vertical-align: top;\n",
       "    }\n",
       "\n",
       "    .dataframe thead th {\n",
       "        text-align: right;\n",
       "    }\n",
       "</style>\n",
       "<table border=\"1\" class=\"dataframe\">\n",
       "  <thead>\n",
       "    <tr style=\"text-align: right;\">\n",
       "      <th></th>\n",
       "      <th>CHROM</th>\n",
       "      <th>POS</th>\n",
       "      <th>ID</th>\n",
       "      <th>REF</th>\n",
       "      <th>ALT</th>\n",
       "      <th>QUAL</th>\n",
       "      <th>FILTER</th>\n",
       "      <th>INFO</th>\n",
       "      <th>FORMAT</th>\n",
       "      <th>psl5</th>\n",
       "      <th>psl2</th>\n",
       "      <th>yi283</th>\n",
       "    </tr>\n",
       "  </thead>\n",
       "  <tbody>\n",
       "    <tr>\n",
       "      <th>2388</th>\n",
       "      <td>chrIV</td>\n",
       "      <td>1574</td>\n",
       "      <td>.</td>\n",
       "      <td>A</td>\n",
       "      <td>G</td>\n",
       "      <td>10</td>\n",
       "      <td>.</td>\n",
       "      <td>AMQ=.,42</td>\n",
       "      <td>GT:ADF:ADR:LTDROP</td>\n",
       "      <td>./.:0,6:0,2:.</td>\n",
       "      <td>./.:0,0:0,0:.</td>\n",
       "      <td>./.:0,2:0,0:0</td>\n",
       "    </tr>\n",
       "    <tr>\n",
       "      <th>2389</th>\n",
       "      <td>chrIV</td>\n",
       "      <td>1607</td>\n",
       "      <td>.</td>\n",
       "      <td>T</td>\n",
       "      <td>C</td>\n",
       "      <td>10</td>\n",
       "      <td>.</td>\n",
       "      <td>AMQ=41,38</td>\n",
       "      <td>GT:ADF:ADR:LTDROP</td>\n",
       "      <td>0/1:30,3:11,7:.</td>\n",
       "      <td>./.:4,0:1,0:.</td>\n",
       "      <td>0/0:5,0:6,0:0</td>\n",
       "    </tr>\n",
       "    <tr>\n",
       "      <th>2390</th>\n",
       "      <td>chrIV</td>\n",
       "      <td>1624</td>\n",
       "      <td>.</td>\n",
       "      <td>T</td>\n",
       "      <td>A</td>\n",
       "      <td>14</td>\n",
       "      <td>.</td>\n",
       "      <td>AMQ=43,35</td>\n",
       "      <td>GT:ADF:ADR:LTDROP</td>\n",
       "      <td>0/1:27,3:12,7:.</td>\n",
       "      <td>./.:0,3:0,1:.</td>\n",
       "      <td>0/0:5,0:8,0:0</td>\n",
       "    </tr>\n",
       "    <tr>\n",
       "      <th>2391</th>\n",
       "      <td>chrIV</td>\n",
       "      <td>1633</td>\n",
       "      <td>.</td>\n",
       "      <td>T</td>\n",
       "      <td>G</td>\n",
       "      <td>54</td>\n",
       "      <td>.</td>\n",
       "      <td>AMQ=.,42</td>\n",
       "      <td>GT:ADF:ADR:LTDROP</td>\n",
       "      <td>1/1:0,22:0,19:.</td>\n",
       "      <td>./.:0,0:0,0:.</td>\n",
       "      <td>1/1:0,5:0,8:0</td>\n",
       "    </tr>\n",
       "    <tr>\n",
       "      <th>2392</th>\n",
       "      <td>chrIV</td>\n",
       "      <td>1635</td>\n",
       "      <td>.</td>\n",
       "      <td>G</td>\n",
       "      <td>T</td>\n",
       "      <td>44</td>\n",
       "      <td>.</td>\n",
       "      <td>AMQ=37,44</td>\n",
       "      <td>GT:ADF:ADR:LTDROP</td>\n",
       "      <td>1/0:3,20:8,10:.</td>\n",
       "      <td>./.:3,0:1,0:.</td>\n",
       "      <td>1/1:0,5:0,9:0</td>\n",
       "    </tr>\n",
       "  </tbody>\n",
       "</table>\n",
       "</div>"
      ],
      "text/plain": [
       "      CHROM   POS ID REF ALT  QUAL FILTER       INFO             FORMAT  \\\n",
       "2388  chrIV  1574  .   A   G    10      .   AMQ=.,42  GT:ADF:ADR:LTDROP   \n",
       "2389  chrIV  1607  .   T   C    10      .  AMQ=41,38  GT:ADF:ADR:LTDROP   \n",
       "2390  chrIV  1624  .   T   A    14      .  AMQ=43,35  GT:ADF:ADR:LTDROP   \n",
       "2391  chrIV  1633  .   T   G    54      .   AMQ=.,42  GT:ADF:ADR:LTDROP   \n",
       "2392  chrIV  1635  .   G   T    44      .  AMQ=37,44  GT:ADF:ADR:LTDROP   \n",
       "\n",
       "                 psl5           psl2          yi283  \n",
       "2388    ./.:0,6:0,2:.  ./.:0,0:0,0:.  ./.:0,2:0,0:0  \n",
       "2389  0/1:30,3:11,7:.  ./.:4,0:1,0:.  0/0:5,0:6,0:0  \n",
       "2390  0/1:27,3:12,7:.  ./.:0,3:0,1:.  0/0:5,0:8,0:0  \n",
       "2391  1/1:0,22:0,19:.  ./.:0,0:0,0:.  1/1:0,5:0,8:0  \n",
       "2392  1/0:3,20:8,10:.  ./.:3,0:1,0:.  1/1:0,5:0,9:0  "
      ]
     },
     "execution_count": 9,
     "metadata": {},
     "output_type": "execute_result"
    }
   ],
   "source": [
    "chrIV.columns = ['CHROM', 'POS', 'ID', 'REF', 'ALT', 'QUAL', 'FILTER', 'INFO', 'FORMAT',\n",
    "       'psl5',\n",
    "       'psl2',\n",
    "       'yi283']\n",
    "chrIV.head()"
   ]
  },
  {
   "cell_type": "code",
   "execution_count": 10,
   "metadata": {},
   "outputs": [],
   "source": [
    "# chrIV = chrIV.rename(columns={\"#CHROM\": \"CHROM\", \"psl5.srt.bam\" : \"psl5\", \n",
    "#                       \"/net/shendure/vol10/projects/Tn5_scSeq/nobackup/alignment/yeast/Tom/bam/mem/psl2/psl2.sort.dedup.bam\" : \"psl2\", \n",
    "#              \"yi283_AATTGA.ATCGCGTTACGTCGT.bam\" : \"yi283\"})"
   ]
  },
  {
   "cell_type": "markdown",
   "metadata": {},
   "source": [
    "## 2. Only use positions from sgs1"
   ]
  },
  {
   "cell_type": "code",
   "execution_count": 11,
   "metadata": {
    "scrolled": true
   },
   "outputs": [
    {
     "data": {
      "text/html": [
       "<div>\n",
       "<style scoped>\n",
       "    .dataframe tbody tr th:only-of-type {\n",
       "        vertical-align: middle;\n",
       "    }\n",
       "\n",
       "    .dataframe tbody tr th {\n",
       "        vertical-align: top;\n",
       "    }\n",
       "\n",
       "    .dataframe thead th {\n",
       "        text-align: right;\n",
       "    }\n",
       "</style>\n",
       "<table border=\"1\" class=\"dataframe\">\n",
       "  <thead>\n",
       "    <tr style=\"text-align: right;\">\n",
       "      <th></th>\n",
       "      <th>CHROM</th>\n",
       "      <th>POS</th>\n",
       "      <th>GT1</th>\n",
       "      <th>GT2</th>\n",
       "    </tr>\n",
       "  </thead>\n",
       "  <tbody>\n",
       "    <tr>\n",
       "      <th>0</th>\n",
       "      <td>chrI</td>\n",
       "      <td>101</td>\n",
       "      <td>1/1</td>\n",
       "      <td>0/0</td>\n",
       "    </tr>\n",
       "    <tr>\n",
       "      <th>1</th>\n",
       "      <td>chrI</td>\n",
       "      <td>177</td>\n",
       "      <td>1/1</td>\n",
       "      <td>0/0</td>\n",
       "    </tr>\n",
       "    <tr>\n",
       "      <th>2</th>\n",
       "      <td>chrI</td>\n",
       "      <td>192</td>\n",
       "      <td>1/1</td>\n",
       "      <td>0/0</td>\n",
       "    </tr>\n",
       "    <tr>\n",
       "      <th>3</th>\n",
       "      <td>chrI</td>\n",
       "      <td>194</td>\n",
       "      <td>1/1</td>\n",
       "      <td>0/0</td>\n",
       "    </tr>\n",
       "    <tr>\n",
       "      <th>4</th>\n",
       "      <td>chrI</td>\n",
       "      <td>242</td>\n",
       "      <td>1/1</td>\n",
       "      <td>0/0</td>\n",
       "    </tr>\n",
       "  </tbody>\n",
       "</table>\n",
       "</div>"
      ],
      "text/plain": [
       "  CHROM  POS  GT1  GT2\n",
       "0  chrI  101  1/1  0/0\n",
       "1  chrI  177  1/1  0/0\n",
       "2  chrI  192  1/1  0/0\n",
       "3  chrI  194  1/1  0/0\n",
       "4  chrI  242  1/1  0/0"
      ]
     },
     "execution_count": 11,
     "metadata": {},
     "output_type": "execute_result"
    }
   ],
   "source": [
    "file = pd.read_csv('/Users/anushasubramanian/Desktop/Research/UCLA/yeast_parent_vcf/sgs1_as_csv.csv')\n",
    "sgs1 = pd.DataFrame(file)\n",
    "sgs1.head() #get all the correct positions chromosome numbers from sgs1"
   ]
  },
  {
   "cell_type": "code",
   "execution_count": 12,
   "metadata": {},
   "outputs": [],
   "source": [
    "keys = [\"chrI\",\"chrII\",\"chrIII\",\"chrIV\",\"chrV\",\"chrVI\",\"chrVII\",\"chrVIII\",\"chrIX\",\"chrX\",\n",
    "        \"chrXI\",\"chrXII\",\"chrXIII\",\"chrXIV\", \"chrXV\",\"chrXVI\",\"chrM\"]\n",
    "sgs1PosDict = dict.fromkeys(keys)\n",
    "\n",
    "for k in sgs1PosDict:\n",
    "    sgs1PosDict[k] = list(sgs1.loc[sgs1[\"CHROM\"] == k][\"POS\"]) "
   ]
  },
  {
   "cell_type": "code",
   "execution_count": 13,
   "metadata": {},
   "outputs": [
    {
     "data": {
      "text/plain": [
       "[1647, 1875, 1993, 2002, 2256]"
      ]
     },
     "execution_count": 13,
     "metadata": {},
     "output_type": "execute_result"
    }
   ],
   "source": [
    "sgs1PosDict[\"chrIV\"][:5]"
   ]
  },
  {
   "cell_type": "code",
   "execution_count": 14,
   "metadata": {},
   "outputs": [
    {
     "data": {
      "text/plain": [
       "6741"
      ]
     },
     "execution_count": 14,
     "metadata": {},
     "output_type": "execute_result"
    }
   ],
   "source": [
    "len(sgs1PosDict[\"chrIV\"])"
   ]
  },
  {
   "cell_type": "code",
   "execution_count": 15,
   "metadata": {},
   "outputs": [
    {
     "data": {
      "text/plain": [
       "2296"
      ]
     },
     "execution_count": 15,
     "metadata": {},
     "output_type": "execute_result"
    }
   ],
   "source": [
    "len(chrIV[\"POS\"])"
   ]
  },
  {
   "cell_type": "code",
   "execution_count": 16,
   "metadata": {},
   "outputs": [
    {
     "name": "stderr",
     "output_type": "stream",
     "text": [
      "/Applications/anaconda3/lib/python3.7/site-packages/pandas/core/frame.py:3997: SettingWithCopyWarning: \n",
      "A value is trying to be set on a copy of a slice from a DataFrame\n",
      "\n",
      "See the caveats in the documentation: https://pandas.pydata.org/pandas-docs/stable/user_guide/indexing.html#returning-a-view-versus-a-copy\n",
      "  errors=errors,\n"
     ]
    },
    {
     "data": {
      "text/plain": [
       "2106"
      ]
     },
     "execution_count": 16,
     "metadata": {},
     "output_type": "execute_result"
    }
   ],
   "source": [
    "for pos in chrIV[\"POS\"]:\n",
    "    if pos not in sgs1PosDict[\"chrIV\"]:\n",
    "        chrIV.drop(chrIV.loc[chrIV[\"POS\"] == pos].index, inplace = True)\n",
    "len(chrIV[\"POS\"]) "
   ]
  },
  {
   "cell_type": "code",
   "execution_count": 17,
   "metadata": {},
   "outputs": [],
   "source": [
    "# positions \n",
    "extra = []\n",
    "for pos in sgs1PosDict[\"chrIV\"]:\n",
    "    if chrIV[\"POS\"].isin([pos]).any() == False: #if the chrIV position in sgs1 is not in any chrIV pos of yi283\n",
    "        extra.append(pos) # add it to extra "
   ]
  },
  {
   "cell_type": "code",
   "execution_count": 18,
   "metadata": {},
   "outputs": [
    {
     "data": {
      "text/plain": [
       "4635"
      ]
     },
     "execution_count": 18,
     "metadata": {},
     "output_type": "execute_result"
    }
   ],
   "source": [
    "len(extra)"
   ]
  },
  {
   "cell_type": "code",
   "execution_count": 19,
   "metadata": {},
   "outputs": [
    {
     "data": {
      "text/html": [
       "<div>\n",
       "<style scoped>\n",
       "    .dataframe tbody tr th:only-of-type {\n",
       "        vertical-align: middle;\n",
       "    }\n",
       "\n",
       "    .dataframe tbody tr th {\n",
       "        vertical-align: top;\n",
       "    }\n",
       "\n",
       "    .dataframe thead th {\n",
       "        text-align: right;\n",
       "    }\n",
       "</style>\n",
       "<table border=\"1\" class=\"dataframe\">\n",
       "  <thead>\n",
       "    <tr style=\"text-align: right;\">\n",
       "      <th></th>\n",
       "      <th>CHROM</th>\n",
       "      <th>POS</th>\n",
       "      <th>ID</th>\n",
       "      <th>REF</th>\n",
       "      <th>ALT</th>\n",
       "      <th>QUAL</th>\n",
       "      <th>FILTER</th>\n",
       "      <th>INFO</th>\n",
       "      <th>FORMAT</th>\n",
       "      <th>psl5</th>\n",
       "      <th>psl2</th>\n",
       "      <th>yi283</th>\n",
       "    </tr>\n",
       "  </thead>\n",
       "  <tbody>\n",
       "    <tr>\n",
       "      <th>2393</th>\n",
       "      <td>chrIV</td>\n",
       "      <td>1647</td>\n",
       "      <td>.</td>\n",
       "      <td>C</td>\n",
       "      <td>T</td>\n",
       "      <td>36</td>\n",
       "      <td>.</td>\n",
       "      <td>AMQ=.,43</td>\n",
       "      <td>GT:ADF:ADR:LTDROP</td>\n",
       "      <td>1/1:0,15:0,8:.</td>\n",
       "      <td>./.:0,0:0,0:.</td>\n",
       "      <td>1/1:0,5:0,8:0</td>\n",
       "    </tr>\n",
       "    <tr>\n",
       "      <th>2395</th>\n",
       "      <td>chrIV</td>\n",
       "      <td>5608</td>\n",
       "      <td>.</td>\n",
       "      <td>T</td>\n",
       "      <td>C</td>\n",
       "      <td>14</td>\n",
       "      <td>.</td>\n",
       "      <td>AMQ=26,31</td>\n",
       "      <td>GT:ADF:ADR:LTDROP</td>\n",
       "      <td>1/1:0,4:0,10:.</td>\n",
       "      <td>0/0:17,0:11,0:.</td>\n",
       "      <td>./.:1,0:0,0:0</td>\n",
       "    </tr>\n",
       "    <tr>\n",
       "      <th>2396</th>\n",
       "      <td>chrIV</td>\n",
       "      <td>15005</td>\n",
       "      <td>.</td>\n",
       "      <td>A</td>\n",
       "      <td>G</td>\n",
       "      <td>68</td>\n",
       "      <td>.</td>\n",
       "      <td>AMQ=22,25</td>\n",
       "      <td>GT:ADF:ADR:LTDROP</td>\n",
       "      <td>1/1:0,25:0,36:.</td>\n",
       "      <td>0/0:6,0:12,0:.</td>\n",
       "      <td>./.:0,3:0,4:0</td>\n",
       "    </tr>\n",
       "    <tr>\n",
       "      <th>2404</th>\n",
       "      <td>chrIV</td>\n",
       "      <td>18954</td>\n",
       "      <td>.</td>\n",
       "      <td>A</td>\n",
       "      <td>G</td>\n",
       "      <td>56</td>\n",
       "      <td>.</td>\n",
       "      <td>AMQ=60,60</td>\n",
       "      <td>GT:ADF:ADR:LTDROP</td>\n",
       "      <td>1/1:0,17:0,38:.</td>\n",
       "      <td>0/0:12,0:9,0:.</td>\n",
       "      <td>./.:0,1:0,0:0</td>\n",
       "    </tr>\n",
       "    <tr>\n",
       "      <th>2405</th>\n",
       "      <td>chrIV</td>\n",
       "      <td>18989</td>\n",
       "      <td>.</td>\n",
       "      <td>G</td>\n",
       "      <td>C</td>\n",
       "      <td>45</td>\n",
       "      <td>.</td>\n",
       "      <td>AMQ=60,60</td>\n",
       "      <td>GT:ADF:ADR:LTDROP</td>\n",
       "      <td>1/1:0,16:0,25:.</td>\n",
       "      <td>0/0:6,0:7,0:.</td>\n",
       "      <td>./.:0,2:0,2:0</td>\n",
       "    </tr>\n",
       "  </tbody>\n",
       "</table>\n",
       "</div>"
      ],
      "text/plain": [
       "      CHROM    POS ID REF ALT  QUAL FILTER       INFO             FORMAT  \\\n",
       "2393  chrIV   1647  .   C   T    36      .   AMQ=.,43  GT:ADF:ADR:LTDROP   \n",
       "2395  chrIV   5608  .   T   C    14      .  AMQ=26,31  GT:ADF:ADR:LTDROP   \n",
       "2396  chrIV  15005  .   A   G    68      .  AMQ=22,25  GT:ADF:ADR:LTDROP   \n",
       "2404  chrIV  18954  .   A   G    56      .  AMQ=60,60  GT:ADF:ADR:LTDROP   \n",
       "2405  chrIV  18989  .   G   C    45      .  AMQ=60,60  GT:ADF:ADR:LTDROP   \n",
       "\n",
       "                 psl5             psl2          yi283  \n",
       "2393   1/1:0,15:0,8:.    ./.:0,0:0,0:.  1/1:0,5:0,8:0  \n",
       "2395   1/1:0,4:0,10:.  0/0:17,0:11,0:.  ./.:1,0:0,0:0  \n",
       "2396  1/1:0,25:0,36:.   0/0:6,0:12,0:.  ./.:0,3:0,4:0  \n",
       "2404  1/1:0,17:0,38:.   0/0:12,0:9,0:.  ./.:0,1:0,0:0  \n",
       "2405  1/1:0,16:0,25:.    0/0:6,0:7,0:.  ./.:0,2:0,2:0  "
      ]
     },
     "execution_count": 19,
     "metadata": {},
     "output_type": "execute_result"
    }
   ],
   "source": [
    "chrIV.head()"
   ]
  },
  {
   "cell_type": "markdown",
   "metadata": {},
   "source": [
    "## 3. Cleaning the yi283 data to be in usable form, with ref and alt reads separated"
   ]
  },
  {
   "cell_type": "code",
   "execution_count": 20,
   "metadata": {},
   "outputs": [],
   "source": [
    "ref = []\n",
    "alt = []\n",
    "all_ref = []\n",
    "all_alt = []\n",
    "\n",
    "error = []\n",
    "for item in chrIV[\"yi283\"]:\n",
    "    reads = item.split(sep = ':')[1:3]\n",
    "    if len(reads) == 2:\n",
    "        for read in reads:\n",
    "            tokens = read.split(sep = ',')\n",
    "            ref.append(tokens[0])\n",
    "            alt.append(tokens[1])\n",
    "        all_ref.append([int(x) for x in ref])\n",
    "        all_alt.append([int(x) for x in alt])\n",
    "        ref = []\n",
    "        alt = []   \n",
    "    else:\n",
    "        error.append(item)\n"
   ]
  },
  {
   "cell_type": "code",
   "execution_count": 21,
   "metadata": {},
   "outputs": [
    {
     "data": {
      "text/plain": [
       "[[0, 0], [1, 0]]"
      ]
     },
     "execution_count": 21,
     "metadata": {},
     "output_type": "execute_result"
    }
   ],
   "source": [
    "all_ref[:2]"
   ]
  },
  {
   "cell_type": "code",
   "execution_count": 22,
   "metadata": {},
   "outputs": [
    {
     "data": {
      "text/plain": [
       "[[5, 8], [0, 0]]"
      ]
     },
     "execution_count": 22,
     "metadata": {},
     "output_type": "execute_result"
    }
   ],
   "source": [
    "all_alt[:2]"
   ]
  },
  {
   "cell_type": "code",
   "execution_count": 23,
   "metadata": {},
   "outputs": [],
   "source": [
    "#Finding sum of the reference and alternative reads \n",
    "sum_ref = []\n",
    "sum_alt = []\n",
    "\n",
    "for ref in all_ref:\n",
    "    sum_ref.append(sum(ref))\n",
    "for alt in all_alt:\n",
    "    sum_alt.append(sum(alt))"
   ]
  },
  {
   "cell_type": "code",
   "execution_count": 24,
   "metadata": {},
   "outputs": [],
   "source": [
    "# finding the total number of reads by summing all ref and alts\n",
    "zipped = zip(sum_ref, sum_alt)\n",
    "tot_reads = [x+y for (x,y) in zipped]"
   ]
  },
  {
   "cell_type": "code",
   "execution_count": 25,
   "metadata": {},
   "outputs": [],
   "source": [
    "cleaned_chrIV = pd.DataFrame()\n",
    "cleaned_chrIV[\"CHROM\"] = chrIV[\"CHROM\"]\n",
    "cleaned_chrIV[\"POS\"] = chrIV[\"POS\"]\n",
    "cleaned_chrIV[\"total reads\"] = tot_reads\n",
    "cleaned_chrIV[\"ref reads\"] = all_ref\n",
    "cleaned_chrIV[\"alt reads\"] = all_alt\n",
    "cleaned_chrIV[\"sum_ref\"] = sum_ref\n",
    "cleaned_chrIV[\"sum_alt\"] = sum_alt"
   ]
  },
  {
   "cell_type": "markdown",
   "metadata": {},
   "source": [
    "## Here is your cleaned yi238 column reads"
   ]
  },
  {
   "cell_type": "code",
   "execution_count": 26,
   "metadata": {},
   "outputs": [
    {
     "data": {
      "text/html": [
       "<div>\n",
       "<style scoped>\n",
       "    .dataframe tbody tr th:only-of-type {\n",
       "        vertical-align: middle;\n",
       "    }\n",
       "\n",
       "    .dataframe tbody tr th {\n",
       "        vertical-align: top;\n",
       "    }\n",
       "\n",
       "    .dataframe thead th {\n",
       "        text-align: right;\n",
       "    }\n",
       "</style>\n",
       "<table border=\"1\" class=\"dataframe\">\n",
       "  <thead>\n",
       "    <tr style=\"text-align: right;\">\n",
       "      <th></th>\n",
       "      <th>CHROM</th>\n",
       "      <th>POS</th>\n",
       "      <th>total reads</th>\n",
       "      <th>ref reads</th>\n",
       "      <th>alt reads</th>\n",
       "      <th>sum_ref</th>\n",
       "      <th>sum_alt</th>\n",
       "    </tr>\n",
       "  </thead>\n",
       "  <tbody>\n",
       "    <tr>\n",
       "      <th>2393</th>\n",
       "      <td>chrIV</td>\n",
       "      <td>1647</td>\n",
       "      <td>13</td>\n",
       "      <td>[0, 0]</td>\n",
       "      <td>[5, 8]</td>\n",
       "      <td>0</td>\n",
       "      <td>13</td>\n",
       "    </tr>\n",
       "    <tr>\n",
       "      <th>2395</th>\n",
       "      <td>chrIV</td>\n",
       "      <td>5608</td>\n",
       "      <td>1</td>\n",
       "      <td>[1, 0]</td>\n",
       "      <td>[0, 0]</td>\n",
       "      <td>1</td>\n",
       "      <td>0</td>\n",
       "    </tr>\n",
       "    <tr>\n",
       "      <th>2396</th>\n",
       "      <td>chrIV</td>\n",
       "      <td>15005</td>\n",
       "      <td>7</td>\n",
       "      <td>[0, 0]</td>\n",
       "      <td>[3, 4]</td>\n",
       "      <td>0</td>\n",
       "      <td>7</td>\n",
       "    </tr>\n",
       "    <tr>\n",
       "      <th>2404</th>\n",
       "      <td>chrIV</td>\n",
       "      <td>18954</td>\n",
       "      <td>1</td>\n",
       "      <td>[0, 0]</td>\n",
       "      <td>[1, 0]</td>\n",
       "      <td>0</td>\n",
       "      <td>1</td>\n",
       "    </tr>\n",
       "    <tr>\n",
       "      <th>2405</th>\n",
       "      <td>chrIV</td>\n",
       "      <td>18989</td>\n",
       "      <td>4</td>\n",
       "      <td>[0, 0]</td>\n",
       "      <td>[2, 2]</td>\n",
       "      <td>0</td>\n",
       "      <td>4</td>\n",
       "    </tr>\n",
       "  </tbody>\n",
       "</table>\n",
       "</div>"
      ],
      "text/plain": [
       "      CHROM    POS  total reads ref reads alt reads  sum_ref  sum_alt\n",
       "2393  chrIV   1647           13    [0, 0]    [5, 8]        0       13\n",
       "2395  chrIV   5608            1    [1, 0]    [0, 0]        1        0\n",
       "2396  chrIV  15005            7    [0, 0]    [3, 4]        0        7\n",
       "2404  chrIV  18954            1    [0, 0]    [1, 0]        0        1\n",
       "2405  chrIV  18989            4    [0, 0]    [2, 2]        0        4"
      ]
     },
     "execution_count": 26,
     "metadata": {},
     "output_type": "execute_result"
    }
   ],
   "source": [
    "cleaned_chrIV.head()"
   ]
  },
  {
   "cell_type": "markdown",
   "metadata": {},
   "source": [
    "## 4. Find percentage of alt and reference "
   ]
  },
  {
   "cell_type": "markdown",
   "metadata": {},
   "source": [
    "**You are have to make sure you are NOT dividing by zero - a situation when there are no reads. This particular file doesn't seem to have it, except in psl2, but you have to CHECK in every FILE after this.\n",
    "Or atleast maintain the CHECK**"
   ]
  },
  {
   "cell_type": "code",
   "execution_count": 27,
   "metadata": {},
   "outputs": [
    {
     "data": {
      "text/html": [
       "<div>\n",
       "<style scoped>\n",
       "    .dataframe tbody tr th:only-of-type {\n",
       "        vertical-align: middle;\n",
       "    }\n",
       "\n",
       "    .dataframe tbody tr th {\n",
       "        vertical-align: top;\n",
       "    }\n",
       "\n",
       "    .dataframe thead th {\n",
       "        text-align: right;\n",
       "    }\n",
       "</style>\n",
       "<table border=\"1\" class=\"dataframe\">\n",
       "  <thead>\n",
       "    <tr style=\"text-align: right;\">\n",
       "      <th></th>\n",
       "      <th>CHROM</th>\n",
       "      <th>POS</th>\n",
       "      <th>total reads</th>\n",
       "      <th>ref reads</th>\n",
       "      <th>alt reads</th>\n",
       "      <th>sum_ref</th>\n",
       "      <th>sum_alt</th>\n",
       "      <th>%ref</th>\n",
       "      <th>%alt</th>\n",
       "    </tr>\n",
       "  </thead>\n",
       "  <tbody>\n",
       "    <tr>\n",
       "      <th>2393</th>\n",
       "      <td>chrIV</td>\n",
       "      <td>1647</td>\n",
       "      <td>13</td>\n",
       "      <td>[0, 0]</td>\n",
       "      <td>[5, 8]</td>\n",
       "      <td>0</td>\n",
       "      <td>13</td>\n",
       "      <td>0.0</td>\n",
       "      <td>100.0</td>\n",
       "    </tr>\n",
       "    <tr>\n",
       "      <th>2395</th>\n",
       "      <td>chrIV</td>\n",
       "      <td>5608</td>\n",
       "      <td>1</td>\n",
       "      <td>[1, 0]</td>\n",
       "      <td>[0, 0]</td>\n",
       "      <td>1</td>\n",
       "      <td>0</td>\n",
       "      <td>100.0</td>\n",
       "      <td>0.0</td>\n",
       "    </tr>\n",
       "    <tr>\n",
       "      <th>2396</th>\n",
       "      <td>chrIV</td>\n",
       "      <td>15005</td>\n",
       "      <td>7</td>\n",
       "      <td>[0, 0]</td>\n",
       "      <td>[3, 4]</td>\n",
       "      <td>0</td>\n",
       "      <td>7</td>\n",
       "      <td>0.0</td>\n",
       "      <td>100.0</td>\n",
       "    </tr>\n",
       "    <tr>\n",
       "      <th>2404</th>\n",
       "      <td>chrIV</td>\n",
       "      <td>18954</td>\n",
       "      <td>1</td>\n",
       "      <td>[0, 0]</td>\n",
       "      <td>[1, 0]</td>\n",
       "      <td>0</td>\n",
       "      <td>1</td>\n",
       "      <td>0.0</td>\n",
       "      <td>100.0</td>\n",
       "    </tr>\n",
       "    <tr>\n",
       "      <th>2405</th>\n",
       "      <td>chrIV</td>\n",
       "      <td>18989</td>\n",
       "      <td>4</td>\n",
       "      <td>[0, 0]</td>\n",
       "      <td>[2, 2]</td>\n",
       "      <td>0</td>\n",
       "      <td>4</td>\n",
       "      <td>0.0</td>\n",
       "      <td>100.0</td>\n",
       "    </tr>\n",
       "  </tbody>\n",
       "</table>\n",
       "</div>"
      ],
      "text/plain": [
       "      CHROM    POS  total reads ref reads alt reads  sum_ref  sum_alt   %ref  \\\n",
       "2393  chrIV   1647           13    [0, 0]    [5, 8]        0       13    0.0   \n",
       "2395  chrIV   5608            1    [1, 0]    [0, 0]        1        0  100.0   \n",
       "2396  chrIV  15005            7    [0, 0]    [3, 4]        0        7    0.0   \n",
       "2404  chrIV  18954            1    [0, 0]    [1, 0]        0        1    0.0   \n",
       "2405  chrIV  18989            4    [0, 0]    [2, 2]        0        4    0.0   \n",
       "\n",
       "       %alt  \n",
       "2393  100.0  \n",
       "2395    0.0  \n",
       "2396  100.0  \n",
       "2404  100.0  \n",
       "2405  100.0  "
      ]
     },
     "execution_count": 27,
     "metadata": {},
     "output_type": "execute_result"
    }
   ],
   "source": [
    "# percentage of ref = sum ref / total reads\n",
    "\n",
    "refPer = []\n",
    "altPer = []\n",
    "\n",
    "for ref, reads in zip(sum_ref, tot_reads):\n",
    "    refPer.append((ref/reads)*100)\n",
    "for alt, reads in zip(sum_alt, tot_reads):\n",
    "    altPer.append((alt/reads)*100)\n",
    "\n",
    "cleaned_chrIV[\"%ref\"] = refPer\n",
    "cleaned_chrIV[\"%alt\"] = altPer\n",
    "\n",
    "cleaned_chrIV.head()\n",
    "\n"
   ]
  },
  {
   "cell_type": "code",
   "execution_count": 28,
   "metadata": {
    "scrolled": false
   },
   "outputs": [
    {
     "data": {
      "text/html": [
       "<div>\n",
       "<style scoped>\n",
       "    .dataframe tbody tr th:only-of-type {\n",
       "        vertical-align: middle;\n",
       "    }\n",
       "\n",
       "    .dataframe tbody tr th {\n",
       "        vertical-align: top;\n",
       "    }\n",
       "\n",
       "    .dataframe thead th {\n",
       "        text-align: right;\n",
       "    }\n",
       "</style>\n",
       "<table border=\"1\" class=\"dataframe\">\n",
       "  <thead>\n",
       "    <tr style=\"text-align: right;\">\n",
       "      <th></th>\n",
       "      <th>CHROM</th>\n",
       "      <th>POS</th>\n",
       "      <th>total reads</th>\n",
       "      <th>ref reads</th>\n",
       "      <th>alt reads</th>\n",
       "      <th>sum_ref</th>\n",
       "      <th>sum_alt</th>\n",
       "      <th>%ref</th>\n",
       "      <th>%alt</th>\n",
       "    </tr>\n",
       "  </thead>\n",
       "  <tbody>\n",
       "    <tr>\n",
       "      <th>2486</th>\n",
       "      <td>chrIV</td>\n",
       "      <td>59773</td>\n",
       "      <td>4</td>\n",
       "      <td>[3, 0]</td>\n",
       "      <td>[0, 1]</td>\n",
       "      <td>3</td>\n",
       "      <td>1</td>\n",
       "      <td>75.000000</td>\n",
       "      <td>25.000000</td>\n",
       "    </tr>\n",
       "    <tr>\n",
       "      <th>2587</th>\n",
       "      <td>chrIV</td>\n",
       "      <td>94417</td>\n",
       "      <td>5</td>\n",
       "      <td>[1, 0]</td>\n",
       "      <td>[0, 4]</td>\n",
       "      <td>1</td>\n",
       "      <td>4</td>\n",
       "      <td>20.000000</td>\n",
       "      <td>80.000000</td>\n",
       "    </tr>\n",
       "    <tr>\n",
       "      <th>2636</th>\n",
       "      <td>chrIV</td>\n",
       "      <td>109355</td>\n",
       "      <td>7</td>\n",
       "      <td>[0, 1]</td>\n",
       "      <td>[4, 2]</td>\n",
       "      <td>1</td>\n",
       "      <td>6</td>\n",
       "      <td>14.285714</td>\n",
       "      <td>85.714286</td>\n",
       "    </tr>\n",
       "    <tr>\n",
       "      <th>2792</th>\n",
       "      <td>chrIV</td>\n",
       "      <td>201039</td>\n",
       "      <td>4</td>\n",
       "      <td>[2, 1]</td>\n",
       "      <td>[0, 1]</td>\n",
       "      <td>3</td>\n",
       "      <td>1</td>\n",
       "      <td>75.000000</td>\n",
       "      <td>25.000000</td>\n",
       "    </tr>\n",
       "    <tr>\n",
       "      <th>2807</th>\n",
       "      <td>chrIV</td>\n",
       "      <td>211126</td>\n",
       "      <td>2</td>\n",
       "      <td>[1, 0]</td>\n",
       "      <td>[1, 0]</td>\n",
       "      <td>1</td>\n",
       "      <td>1</td>\n",
       "      <td>50.000000</td>\n",
       "      <td>50.000000</td>\n",
       "    </tr>\n",
       "  </tbody>\n",
       "</table>\n",
       "</div>"
      ],
      "text/plain": [
       "      CHROM     POS  total reads ref reads alt reads  sum_ref  sum_alt  \\\n",
       "2486  chrIV   59773            4    [3, 0]    [0, 1]        3        1   \n",
       "2587  chrIV   94417            5    [1, 0]    [0, 4]        1        4   \n",
       "2636  chrIV  109355            7    [0, 1]    [4, 2]        1        6   \n",
       "2792  chrIV  201039            4    [2, 1]    [0, 1]        3        1   \n",
       "2807  chrIV  211126            2    [1, 0]    [1, 0]        1        1   \n",
       "\n",
       "           %ref       %alt  \n",
       "2486  75.000000  25.000000  \n",
       "2587  20.000000  80.000000  \n",
       "2636  14.285714  85.714286  \n",
       "2792  75.000000  25.000000  \n",
       "2807  50.000000  50.000000  "
      ]
     },
     "execution_count": 28,
     "metadata": {},
     "output_type": "execute_result"
    }
   ],
   "source": [
    "final = cleaned_chrIV.loc[(cleaned_chrIV[\"%ref\"] != 0) & (cleaned_chrIV[\"%ref\"] != 100)]\n",
    "final.head() #all your heterozygous loci"
   ]
  },
  {
   "cell_type": "code",
   "execution_count": 29,
   "metadata": {},
   "outputs": [
    {
     "name": "stdout",
     "output_type": "stream",
     "text": [
      "True\n"
     ]
    }
   ],
   "source": [
    "# quick check to make sure that all the entries are either 0 or 100\n",
    "error = False\n",
    "for alt in altPer:\n",
    "    if alt!=0 and alt!=100:\n",
    "        error = True\n",
    "print(error)"
   ]
  },
  {
   "cell_type": "code",
   "execution_count": 30,
   "metadata": {
    "scrolled": true
   },
   "outputs": [],
   "source": [
    "#reset the index so we can access multiple columns of df\n",
    "cleaned_chrIV.reset_index(drop = True, inplace=True)"
   ]
  },
  {
   "cell_type": "code",
   "execution_count": 31,
   "metadata": {},
   "outputs": [
    {
     "data": {
      "text/html": [
       "<div>\n",
       "<style scoped>\n",
       "    .dataframe tbody tr th:only-of-type {\n",
       "        vertical-align: middle;\n",
       "    }\n",
       "\n",
       "    .dataframe tbody tr th {\n",
       "        vertical-align: top;\n",
       "    }\n",
       "\n",
       "    .dataframe thead th {\n",
       "        text-align: right;\n",
       "    }\n",
       "</style>\n",
       "<table border=\"1\" class=\"dataframe\">\n",
       "  <thead>\n",
       "    <tr style=\"text-align: right;\">\n",
       "      <th></th>\n",
       "      <th>CHROM</th>\n",
       "      <th>POS</th>\n",
       "      <th>total reads</th>\n",
       "      <th>ref reads</th>\n",
       "      <th>alt reads</th>\n",
       "      <th>sum_ref</th>\n",
       "      <th>sum_alt</th>\n",
       "      <th>%ref</th>\n",
       "      <th>%alt</th>\n",
       "    </tr>\n",
       "  </thead>\n",
       "  <tbody>\n",
       "    <tr>\n",
       "      <th>0</th>\n",
       "      <td>chrIV</td>\n",
       "      <td>1647</td>\n",
       "      <td>13</td>\n",
       "      <td>[0, 0]</td>\n",
       "      <td>[5, 8]</td>\n",
       "      <td>0</td>\n",
       "      <td>13</td>\n",
       "      <td>0.0</td>\n",
       "      <td>100.0</td>\n",
       "    </tr>\n",
       "    <tr>\n",
       "      <th>1</th>\n",
       "      <td>chrIV</td>\n",
       "      <td>5608</td>\n",
       "      <td>1</td>\n",
       "      <td>[1, 0]</td>\n",
       "      <td>[0, 0]</td>\n",
       "      <td>1</td>\n",
       "      <td>0</td>\n",
       "      <td>100.0</td>\n",
       "      <td>0.0</td>\n",
       "    </tr>\n",
       "    <tr>\n",
       "      <th>2</th>\n",
       "      <td>chrIV</td>\n",
       "      <td>15005</td>\n",
       "      <td>7</td>\n",
       "      <td>[0, 0]</td>\n",
       "      <td>[3, 4]</td>\n",
       "      <td>0</td>\n",
       "      <td>7</td>\n",
       "      <td>0.0</td>\n",
       "      <td>100.0</td>\n",
       "    </tr>\n",
       "    <tr>\n",
       "      <th>3</th>\n",
       "      <td>chrIV</td>\n",
       "      <td>18954</td>\n",
       "      <td>1</td>\n",
       "      <td>[0, 0]</td>\n",
       "      <td>[1, 0]</td>\n",
       "      <td>0</td>\n",
       "      <td>1</td>\n",
       "      <td>0.0</td>\n",
       "      <td>100.0</td>\n",
       "    </tr>\n",
       "    <tr>\n",
       "      <th>4</th>\n",
       "      <td>chrIV</td>\n",
       "      <td>18989</td>\n",
       "      <td>4</td>\n",
       "      <td>[0, 0]</td>\n",
       "      <td>[2, 2]</td>\n",
       "      <td>0</td>\n",
       "      <td>4</td>\n",
       "      <td>0.0</td>\n",
       "      <td>100.0</td>\n",
       "    </tr>\n",
       "  </tbody>\n",
       "</table>\n",
       "</div>"
      ],
      "text/plain": [
       "   CHROM    POS  total reads ref reads alt reads  sum_ref  sum_alt   %ref  \\\n",
       "0  chrIV   1647           13    [0, 0]    [5, 8]        0       13    0.0   \n",
       "1  chrIV   5608            1    [1, 0]    [0, 0]        1        0  100.0   \n",
       "2  chrIV  15005            7    [0, 0]    [3, 4]        0        7    0.0   \n",
       "3  chrIV  18954            1    [0, 0]    [1, 0]        0        1    0.0   \n",
       "4  chrIV  18989            4    [0, 0]    [2, 2]        0        4    0.0   \n",
       "\n",
       "    %alt  \n",
       "0  100.0  \n",
       "1    0.0  \n",
       "2  100.0  \n",
       "3  100.0  \n",
       "4  100.0  "
      ]
     },
     "execution_count": 31,
     "metadata": {},
     "output_type": "execute_result"
    }
   ],
   "source": [
    "cleaned_chrIV.head()"
   ]
  },
  {
   "cell_type": "markdown",
   "metadata": {},
   "source": [
    "## 5. Classify each position as alt or ref"
   ]
  },
  {
   "cell_type": "code",
   "execution_count": 32,
   "metadata": {},
   "outputs": [],
   "source": [
    "#this should be a function and not a for loop\n",
    "classify = [] \n",
    "for ind in cleaned_chrIV.index:\n",
    "    if cleaned_chrIV[\"%ref\"][ind] > cleaned_chrIV[\"%alt\"][ind]:\n",
    "        classify.append(\"ref\")\n",
    "    elif cleaned_chrIV[\"%alt\"][ind] > cleaned_chrIV[\"%ref\"][ind]:\n",
    "        classify.append(\"alt\")\n",
    "    else:\n",
    "        classify.append('ref/alt')"
   ]
  },
  {
   "cell_type": "code",
   "execution_count": 33,
   "metadata": {},
   "outputs": [
    {
     "data": {
      "text/plain": [
       "2106"
      ]
     },
     "execution_count": 33,
     "metadata": {},
     "output_type": "execute_result"
    }
   ],
   "source": [
    "len(classify)"
   ]
  },
  {
   "cell_type": "code",
   "execution_count": 34,
   "metadata": {},
   "outputs": [],
   "source": [
    "cleaned_chrIV[\"pos classification\"] = classify"
   ]
  },
  {
   "cell_type": "code",
   "execution_count": 35,
   "metadata": {
    "scrolled": true
   },
   "outputs": [
    {
     "data": {
      "text/html": [
       "<div>\n",
       "<style scoped>\n",
       "    .dataframe tbody tr th:only-of-type {\n",
       "        vertical-align: middle;\n",
       "    }\n",
       "\n",
       "    .dataframe tbody tr th {\n",
       "        vertical-align: top;\n",
       "    }\n",
       "\n",
       "    .dataframe thead th {\n",
       "        text-align: right;\n",
       "    }\n",
       "</style>\n",
       "<table border=\"1\" class=\"dataframe\">\n",
       "  <thead>\n",
       "    <tr style=\"text-align: right;\">\n",
       "      <th></th>\n",
       "      <th>CHROM</th>\n",
       "      <th>POS</th>\n",
       "      <th>total reads</th>\n",
       "      <th>ref reads</th>\n",
       "      <th>alt reads</th>\n",
       "      <th>sum_ref</th>\n",
       "      <th>sum_alt</th>\n",
       "      <th>%ref</th>\n",
       "      <th>%alt</th>\n",
       "      <th>pos classification</th>\n",
       "    </tr>\n",
       "  </thead>\n",
       "  <tbody>\n",
       "    <tr>\n",
       "      <th>0</th>\n",
       "      <td>chrIV</td>\n",
       "      <td>1647</td>\n",
       "      <td>13</td>\n",
       "      <td>[0, 0]</td>\n",
       "      <td>[5, 8]</td>\n",
       "      <td>0</td>\n",
       "      <td>13</td>\n",
       "      <td>0.0</td>\n",
       "      <td>100.0</td>\n",
       "      <td>alt</td>\n",
       "    </tr>\n",
       "    <tr>\n",
       "      <th>1</th>\n",
       "      <td>chrIV</td>\n",
       "      <td>5608</td>\n",
       "      <td>1</td>\n",
       "      <td>[1, 0]</td>\n",
       "      <td>[0, 0]</td>\n",
       "      <td>1</td>\n",
       "      <td>0</td>\n",
       "      <td>100.0</td>\n",
       "      <td>0.0</td>\n",
       "      <td>ref</td>\n",
       "    </tr>\n",
       "    <tr>\n",
       "      <th>2</th>\n",
       "      <td>chrIV</td>\n",
       "      <td>15005</td>\n",
       "      <td>7</td>\n",
       "      <td>[0, 0]</td>\n",
       "      <td>[3, 4]</td>\n",
       "      <td>0</td>\n",
       "      <td>7</td>\n",
       "      <td>0.0</td>\n",
       "      <td>100.0</td>\n",
       "      <td>alt</td>\n",
       "    </tr>\n",
       "    <tr>\n",
       "      <th>3</th>\n",
       "      <td>chrIV</td>\n",
       "      <td>18954</td>\n",
       "      <td>1</td>\n",
       "      <td>[0, 0]</td>\n",
       "      <td>[1, 0]</td>\n",
       "      <td>0</td>\n",
       "      <td>1</td>\n",
       "      <td>0.0</td>\n",
       "      <td>100.0</td>\n",
       "      <td>alt</td>\n",
       "    </tr>\n",
       "    <tr>\n",
       "      <th>4</th>\n",
       "      <td>chrIV</td>\n",
       "      <td>18989</td>\n",
       "      <td>4</td>\n",
       "      <td>[0, 0]</td>\n",
       "      <td>[2, 2]</td>\n",
       "      <td>0</td>\n",
       "      <td>4</td>\n",
       "      <td>0.0</td>\n",
       "      <td>100.0</td>\n",
       "      <td>alt</td>\n",
       "    </tr>\n",
       "  </tbody>\n",
       "</table>\n",
       "</div>"
      ],
      "text/plain": [
       "   CHROM    POS  total reads ref reads alt reads  sum_ref  sum_alt   %ref  \\\n",
       "0  chrIV   1647           13    [0, 0]    [5, 8]        0       13    0.0   \n",
       "1  chrIV   5608            1    [1, 0]    [0, 0]        1        0  100.0   \n",
       "2  chrIV  15005            7    [0, 0]    [3, 4]        0        7    0.0   \n",
       "3  chrIV  18954            1    [0, 0]    [1, 0]        0        1    0.0   \n",
       "4  chrIV  18989            4    [0, 0]    [2, 2]        0        4    0.0   \n",
       "\n",
       "    %alt pos classification  \n",
       "0  100.0                alt  \n",
       "1    0.0                ref  \n",
       "2  100.0                alt  \n",
       "3  100.0                alt  \n",
       "4  100.0                alt  "
      ]
     },
     "execution_count": 35,
     "metadata": {},
     "output_type": "execute_result"
    }
   ],
   "source": [
    "cleaned_chrIV.head()"
   ]
  },
  {
   "cell_type": "code",
   "execution_count": 36,
   "metadata": {},
   "outputs": [
    {
     "data": {
      "text/html": [
       "<div>\n",
       "<style scoped>\n",
       "    .dataframe tbody tr th:only-of-type {\n",
       "        vertical-align: middle;\n",
       "    }\n",
       "\n",
       "    .dataframe tbody tr th {\n",
       "        vertical-align: top;\n",
       "    }\n",
       "\n",
       "    .dataframe thead th {\n",
       "        text-align: right;\n",
       "    }\n",
       "</style>\n",
       "<table border=\"1\" class=\"dataframe\">\n",
       "  <thead>\n",
       "    <tr style=\"text-align: right;\">\n",
       "      <th></th>\n",
       "      <th>CHROM</th>\n",
       "      <th>POS</th>\n",
       "      <th>ID</th>\n",
       "      <th>REF</th>\n",
       "      <th>ALT</th>\n",
       "      <th>QUAL</th>\n",
       "      <th>FILTER</th>\n",
       "      <th>INFO</th>\n",
       "      <th>FORMAT</th>\n",
       "      <th>psl5</th>\n",
       "      <th>psl2</th>\n",
       "      <th>yi283</th>\n",
       "    </tr>\n",
       "  </thead>\n",
       "  <tbody>\n",
       "    <tr>\n",
       "      <th>2393</th>\n",
       "      <td>chrIV</td>\n",
       "      <td>1647</td>\n",
       "      <td>.</td>\n",
       "      <td>C</td>\n",
       "      <td>T</td>\n",
       "      <td>36</td>\n",
       "      <td>.</td>\n",
       "      <td>AMQ=.,43</td>\n",
       "      <td>GT:ADF:ADR:LTDROP</td>\n",
       "      <td>1/1:0,15:0,8:.</td>\n",
       "      <td>./.:0,0:0,0:.</td>\n",
       "      <td>1/1:0,5:0,8:0</td>\n",
       "    </tr>\n",
       "    <tr>\n",
       "      <th>2395</th>\n",
       "      <td>chrIV</td>\n",
       "      <td>5608</td>\n",
       "      <td>.</td>\n",
       "      <td>T</td>\n",
       "      <td>C</td>\n",
       "      <td>14</td>\n",
       "      <td>.</td>\n",
       "      <td>AMQ=26,31</td>\n",
       "      <td>GT:ADF:ADR:LTDROP</td>\n",
       "      <td>1/1:0,4:0,10:.</td>\n",
       "      <td>0/0:17,0:11,0:.</td>\n",
       "      <td>./.:1,0:0,0:0</td>\n",
       "    </tr>\n",
       "    <tr>\n",
       "      <th>2396</th>\n",
       "      <td>chrIV</td>\n",
       "      <td>15005</td>\n",
       "      <td>.</td>\n",
       "      <td>A</td>\n",
       "      <td>G</td>\n",
       "      <td>68</td>\n",
       "      <td>.</td>\n",
       "      <td>AMQ=22,25</td>\n",
       "      <td>GT:ADF:ADR:LTDROP</td>\n",
       "      <td>1/1:0,25:0,36:.</td>\n",
       "      <td>0/0:6,0:12,0:.</td>\n",
       "      <td>./.:0,3:0,4:0</td>\n",
       "    </tr>\n",
       "    <tr>\n",
       "      <th>2404</th>\n",
       "      <td>chrIV</td>\n",
       "      <td>18954</td>\n",
       "      <td>.</td>\n",
       "      <td>A</td>\n",
       "      <td>G</td>\n",
       "      <td>56</td>\n",
       "      <td>.</td>\n",
       "      <td>AMQ=60,60</td>\n",
       "      <td>GT:ADF:ADR:LTDROP</td>\n",
       "      <td>1/1:0,17:0,38:.</td>\n",
       "      <td>0/0:12,0:9,0:.</td>\n",
       "      <td>./.:0,1:0,0:0</td>\n",
       "    </tr>\n",
       "    <tr>\n",
       "      <th>2405</th>\n",
       "      <td>chrIV</td>\n",
       "      <td>18989</td>\n",
       "      <td>.</td>\n",
       "      <td>G</td>\n",
       "      <td>C</td>\n",
       "      <td>45</td>\n",
       "      <td>.</td>\n",
       "      <td>AMQ=60,60</td>\n",
       "      <td>GT:ADF:ADR:LTDROP</td>\n",
       "      <td>1/1:0,16:0,25:.</td>\n",
       "      <td>0/0:6,0:7,0:.</td>\n",
       "      <td>./.:0,2:0,2:0</td>\n",
       "    </tr>\n",
       "  </tbody>\n",
       "</table>\n",
       "</div>"
      ],
      "text/plain": [
       "      CHROM    POS ID REF ALT  QUAL FILTER       INFO             FORMAT  \\\n",
       "2393  chrIV   1647  .   C   T    36      .   AMQ=.,43  GT:ADF:ADR:LTDROP   \n",
       "2395  chrIV   5608  .   T   C    14      .  AMQ=26,31  GT:ADF:ADR:LTDROP   \n",
       "2396  chrIV  15005  .   A   G    68      .  AMQ=22,25  GT:ADF:ADR:LTDROP   \n",
       "2404  chrIV  18954  .   A   G    56      .  AMQ=60,60  GT:ADF:ADR:LTDROP   \n",
       "2405  chrIV  18989  .   G   C    45      .  AMQ=60,60  GT:ADF:ADR:LTDROP   \n",
       "\n",
       "                 psl5             psl2          yi283  \n",
       "2393   1/1:0,15:0,8:.    ./.:0,0:0,0:.  1/1:0,5:0,8:0  \n",
       "2395   1/1:0,4:0,10:.  0/0:17,0:11,0:.  ./.:1,0:0,0:0  \n",
       "2396  1/1:0,25:0,36:.   0/0:6,0:12,0:.  ./.:0,3:0,4:0  \n",
       "2404  1/1:0,17:0,38:.   0/0:12,0:9,0:.  ./.:0,1:0,0:0  \n",
       "2405  1/1:0,16:0,25:.    0/0:6,0:7,0:.  ./.:0,2:0,2:0  "
      ]
     },
     "execution_count": 36,
     "metadata": {},
     "output_type": "execute_result"
    }
   ],
   "source": [
    "chrIV.head()"
   ]
  },
  {
   "cell_type": "code",
   "execution_count": 37,
   "metadata": {},
   "outputs": [
    {
     "name": "stderr",
     "output_type": "stream",
     "text": [
      "/Applications/anaconda3/lib/python3.7/site-packages/pandas/core/frame.py:3997: SettingWithCopyWarning: \n",
      "A value is trying to be set on a copy of a slice from a DataFrame\n",
      "\n",
      "See the caveats in the documentation: https://pandas.pydata.org/pandas-docs/stable/user_guide/indexing.html#returning-a-view-versus-a-copy\n",
      "  errors=errors,\n"
     ]
    }
   ],
   "source": [
    "chrIV.drop(columns=[\"ID\",\"REF\",\"ALT\",\"QUAL\",\"FILTER\"], inplace=True)"
   ]
  },
  {
   "cell_type": "code",
   "execution_count": 38,
   "metadata": {},
   "outputs": [
    {
     "data": {
      "text/html": [
       "<div>\n",
       "<style scoped>\n",
       "    .dataframe tbody tr th:only-of-type {\n",
       "        vertical-align: middle;\n",
       "    }\n",
       "\n",
       "    .dataframe tbody tr th {\n",
       "        vertical-align: top;\n",
       "    }\n",
       "\n",
       "    .dataframe thead th {\n",
       "        text-align: right;\n",
       "    }\n",
       "</style>\n",
       "<table border=\"1\" class=\"dataframe\">\n",
       "  <thead>\n",
       "    <tr style=\"text-align: right;\">\n",
       "      <th></th>\n",
       "      <th>CHROM</th>\n",
       "      <th>POS</th>\n",
       "      <th>INFO</th>\n",
       "      <th>FORMAT</th>\n",
       "      <th>psl5</th>\n",
       "      <th>psl2</th>\n",
       "      <th>yi283</th>\n",
       "    </tr>\n",
       "  </thead>\n",
       "  <tbody>\n",
       "    <tr>\n",
       "      <th>2393</th>\n",
       "      <td>chrIV</td>\n",
       "      <td>1647</td>\n",
       "      <td>AMQ=.,43</td>\n",
       "      <td>GT:ADF:ADR:LTDROP</td>\n",
       "      <td>1/1:0,15:0,8:.</td>\n",
       "      <td>./.:0,0:0,0:.</td>\n",
       "      <td>1/1:0,5:0,8:0</td>\n",
       "    </tr>\n",
       "    <tr>\n",
       "      <th>2395</th>\n",
       "      <td>chrIV</td>\n",
       "      <td>5608</td>\n",
       "      <td>AMQ=26,31</td>\n",
       "      <td>GT:ADF:ADR:LTDROP</td>\n",
       "      <td>1/1:0,4:0,10:.</td>\n",
       "      <td>0/0:17,0:11,0:.</td>\n",
       "      <td>./.:1,0:0,0:0</td>\n",
       "    </tr>\n",
       "    <tr>\n",
       "      <th>2396</th>\n",
       "      <td>chrIV</td>\n",
       "      <td>15005</td>\n",
       "      <td>AMQ=22,25</td>\n",
       "      <td>GT:ADF:ADR:LTDROP</td>\n",
       "      <td>1/1:0,25:0,36:.</td>\n",
       "      <td>0/0:6,0:12,0:.</td>\n",
       "      <td>./.:0,3:0,4:0</td>\n",
       "    </tr>\n",
       "    <tr>\n",
       "      <th>2404</th>\n",
       "      <td>chrIV</td>\n",
       "      <td>18954</td>\n",
       "      <td>AMQ=60,60</td>\n",
       "      <td>GT:ADF:ADR:LTDROP</td>\n",
       "      <td>1/1:0,17:0,38:.</td>\n",
       "      <td>0/0:12,0:9,0:.</td>\n",
       "      <td>./.:0,1:0,0:0</td>\n",
       "    </tr>\n",
       "    <tr>\n",
       "      <th>2405</th>\n",
       "      <td>chrIV</td>\n",
       "      <td>18989</td>\n",
       "      <td>AMQ=60,60</td>\n",
       "      <td>GT:ADF:ADR:LTDROP</td>\n",
       "      <td>1/1:0,16:0,25:.</td>\n",
       "      <td>0/0:6,0:7,0:.</td>\n",
       "      <td>./.:0,2:0,2:0</td>\n",
       "    </tr>\n",
       "  </tbody>\n",
       "</table>\n",
       "</div>"
      ],
      "text/plain": [
       "      CHROM    POS       INFO             FORMAT             psl5  \\\n",
       "2393  chrIV   1647   AMQ=.,43  GT:ADF:ADR:LTDROP   1/1:0,15:0,8:.   \n",
       "2395  chrIV   5608  AMQ=26,31  GT:ADF:ADR:LTDROP   1/1:0,4:0,10:.   \n",
       "2396  chrIV  15005  AMQ=22,25  GT:ADF:ADR:LTDROP  1/1:0,25:0,36:.   \n",
       "2404  chrIV  18954  AMQ=60,60  GT:ADF:ADR:LTDROP  1/1:0,17:0,38:.   \n",
       "2405  chrIV  18989  AMQ=60,60  GT:ADF:ADR:LTDROP  1/1:0,16:0,25:.   \n",
       "\n",
       "                 psl2          yi283  \n",
       "2393    ./.:0,0:0,0:.  1/1:0,5:0,8:0  \n",
       "2395  0/0:17,0:11,0:.  ./.:1,0:0,0:0  \n",
       "2396   0/0:6,0:12,0:.  ./.:0,3:0,4:0  \n",
       "2404   0/0:12,0:9,0:.  ./.:0,1:0,0:0  \n",
       "2405    0/0:6,0:7,0:.  ./.:0,2:0,2:0  "
      ]
     },
     "execution_count": 38,
     "metadata": {},
     "output_type": "execute_result"
    }
   ],
   "source": [
    "chrIV.head()"
   ]
  },
  {
   "cell_type": "markdown",
   "metadata": {},
   "source": [
    "## 6. Get whether positions are alt or ref for PSL5"
   ]
  },
  {
   "cell_type": "code",
   "execution_count": 39,
   "metadata": {},
   "outputs": [],
   "source": [
    "ref5 = []\n",
    "alt5 = []\n",
    "all_ref5 = []\n",
    "all_alt5 = []\n",
    "\n",
    "error = []\n",
    "for item in chrIV[\"psl5\"]:\n",
    "    reads = item.split(sep = ':')[1:3]\n",
    "    if len(reads) == 2:\n",
    "        for read in reads:\n",
    "            tokens = read.split(sep = ',')\n",
    "            ref5.append(tokens[0])\n",
    "            alt5.append(tokens[1])\n",
    "        all_ref5.append([int(x) for x in ref5])\n",
    "        all_alt5.append([int(x) for x in alt5])\n",
    "        ref5 = []\n",
    "        alt5 = []   \n",
    "    else:\n",
    "        error.append(item)"
   ]
  },
  {
   "cell_type": "code",
   "execution_count": 40,
   "metadata": {},
   "outputs": [
    {
     "data": {
      "text/plain": [
       "[[0, 0], [0, 0]]"
      ]
     },
     "execution_count": 40,
     "metadata": {},
     "output_type": "execute_result"
    }
   ],
   "source": [
    "all_ref5[:2]"
   ]
  },
  {
   "cell_type": "code",
   "execution_count": 41,
   "metadata": {},
   "outputs": [
    {
     "data": {
      "text/plain": [
       "[[15, 8], [4, 10]]"
      ]
     },
     "execution_count": 41,
     "metadata": {},
     "output_type": "execute_result"
    }
   ],
   "source": [
    "all_alt5[:2]"
   ]
  },
  {
   "cell_type": "code",
   "execution_count": 42,
   "metadata": {},
   "outputs": [],
   "source": [
    "#Finding sum of the reference and alternative reads in psl5\n",
    "sum_ref5 = []\n",
    "sum_alt5 = []\n",
    "\n",
    "for ref in all_ref5:\n",
    "    sum_ref5.append(sum(ref))\n",
    "for alt in all_alt5:\n",
    "    sum_alt5.append(sum(alt))"
   ]
  },
  {
   "cell_type": "code",
   "execution_count": 43,
   "metadata": {},
   "outputs": [],
   "source": [
    "# finding the total number of reads by summing all ref and alts\n",
    "zipped = zip(sum_ref5, sum_alt5)\n",
    "tot_reads5 = [x+y for (x,y) in zipped]"
   ]
  },
  {
   "cell_type": "code",
   "execution_count": 44,
   "metadata": {
    "scrolled": true
   },
   "outputs": [
    {
     "data": {
      "text/plain": [
       "[23, 14]"
      ]
     },
     "execution_count": 44,
     "metadata": {},
     "output_type": "execute_result"
    }
   ],
   "source": [
    "tot_reads5[:2]"
   ]
  },
  {
   "cell_type": "code",
   "execution_count": 45,
   "metadata": {},
   "outputs": [],
   "source": [
    "# percentage of ref = sum ref / total reads\n",
    "\n",
    "refPer5 = []\n",
    "altPer5 = []\n",
    "\n",
    "for ref, reads in zip(sum_ref5, tot_reads5):\n",
    "    refPer5.append((ref/reads)*100)\n",
    "for alt, reads in zip(sum_alt5, tot_reads5):\n",
    "    altPer5.append((alt/reads)*100)"
   ]
  },
  {
   "cell_type": "code",
   "execution_count": 46,
   "metadata": {},
   "outputs": [
    {
     "data": {
      "text/plain": [
       "2106"
      ]
     },
     "execution_count": 46,
     "metadata": {},
     "output_type": "execute_result"
    }
   ],
   "source": [
    "len(altPer5)"
   ]
  },
  {
   "cell_type": "code",
   "execution_count": 47,
   "metadata": {},
   "outputs": [
    {
     "name": "stdout",
     "output_type": "stream",
     "text": [
      "True\n"
     ]
    }
   ],
   "source": [
    "# quick check to make sure that all the entries are either 0 or 100\n",
    "error = False\n",
    "for ref in refPer5:\n",
    "    if ref!=0 and ref!=100:\n",
    "        error = True\n",
    "print(error)"
   ]
  },
  {
   "cell_type": "code",
   "execution_count": 48,
   "metadata": {},
   "outputs": [
    {
     "data": {
      "text/plain": [
       "2106"
      ]
     },
     "execution_count": 48,
     "metadata": {},
     "output_type": "execute_result"
    }
   ],
   "source": [
    "classify5 = []\n",
    "for alt,ref in zip(altPer5, refPer5):\n",
    "    if ref > alt:\n",
    "        classify5.append(\"ref\")\n",
    "    elif alt > ref:\n",
    "        classify5.append(\"alt\")\n",
    "    else:\n",
    "        classify5.append('ref/alt')\n",
    "len(classify5)"
   ]
  },
  {
   "cell_type": "code",
   "execution_count": 49,
   "metadata": {},
   "outputs": [
    {
     "data": {
      "text/plain": [
       "[0.0, 0.0]"
      ]
     },
     "execution_count": 49,
     "metadata": {},
     "output_type": "execute_result"
    }
   ],
   "source": [
    "refPer5[:2]"
   ]
  },
  {
   "cell_type": "code",
   "execution_count": 50,
   "metadata": {},
   "outputs": [
    {
     "data": {
      "text/plain": [
       "['alt', 'alt']"
      ]
     },
     "execution_count": 50,
     "metadata": {},
     "output_type": "execute_result"
    }
   ],
   "source": [
    "classify5[:2]"
   ]
  },
  {
   "cell_type": "code",
   "execution_count": 51,
   "metadata": {},
   "outputs": [],
   "source": [
    "cleaned_chrIV[\"psl5 pos\"] = classify5"
   ]
  },
  {
   "cell_type": "markdown",
   "metadata": {},
   "source": [
    "## 7. Get whether positions are alt or ref for PSL2"
   ]
  },
  {
   "cell_type": "code",
   "execution_count": 52,
   "metadata": {},
   "outputs": [
    {
     "data": {
      "text/html": [
       "<div>\n",
       "<style scoped>\n",
       "    .dataframe tbody tr th:only-of-type {\n",
       "        vertical-align: middle;\n",
       "    }\n",
       "\n",
       "    .dataframe tbody tr th {\n",
       "        vertical-align: top;\n",
       "    }\n",
       "\n",
       "    .dataframe thead th {\n",
       "        text-align: right;\n",
       "    }\n",
       "</style>\n",
       "<table border=\"1\" class=\"dataframe\">\n",
       "  <thead>\n",
       "    <tr style=\"text-align: right;\">\n",
       "      <th></th>\n",
       "      <th>CHROM</th>\n",
       "      <th>POS</th>\n",
       "      <th>INFO</th>\n",
       "      <th>FORMAT</th>\n",
       "      <th>psl5</th>\n",
       "      <th>psl2</th>\n",
       "      <th>yi283</th>\n",
       "    </tr>\n",
       "  </thead>\n",
       "  <tbody>\n",
       "    <tr>\n",
       "      <th>2393</th>\n",
       "      <td>chrIV</td>\n",
       "      <td>1647</td>\n",
       "      <td>AMQ=.,43</td>\n",
       "      <td>GT:ADF:ADR:LTDROP</td>\n",
       "      <td>1/1:0,15:0,8:.</td>\n",
       "      <td>./.:0,0:0,0:.</td>\n",
       "      <td>1/1:0,5:0,8:0</td>\n",
       "    </tr>\n",
       "    <tr>\n",
       "      <th>2395</th>\n",
       "      <td>chrIV</td>\n",
       "      <td>5608</td>\n",
       "      <td>AMQ=26,31</td>\n",
       "      <td>GT:ADF:ADR:LTDROP</td>\n",
       "      <td>1/1:0,4:0,10:.</td>\n",
       "      <td>0/0:17,0:11,0:.</td>\n",
       "      <td>./.:1,0:0,0:0</td>\n",
       "    </tr>\n",
       "    <tr>\n",
       "      <th>2396</th>\n",
       "      <td>chrIV</td>\n",
       "      <td>15005</td>\n",
       "      <td>AMQ=22,25</td>\n",
       "      <td>GT:ADF:ADR:LTDROP</td>\n",
       "      <td>1/1:0,25:0,36:.</td>\n",
       "      <td>0/0:6,0:12,0:.</td>\n",
       "      <td>./.:0,3:0,4:0</td>\n",
       "    </tr>\n",
       "    <tr>\n",
       "      <th>2404</th>\n",
       "      <td>chrIV</td>\n",
       "      <td>18954</td>\n",
       "      <td>AMQ=60,60</td>\n",
       "      <td>GT:ADF:ADR:LTDROP</td>\n",
       "      <td>1/1:0,17:0,38:.</td>\n",
       "      <td>0/0:12,0:9,0:.</td>\n",
       "      <td>./.:0,1:0,0:0</td>\n",
       "    </tr>\n",
       "    <tr>\n",
       "      <th>2405</th>\n",
       "      <td>chrIV</td>\n",
       "      <td>18989</td>\n",
       "      <td>AMQ=60,60</td>\n",
       "      <td>GT:ADF:ADR:LTDROP</td>\n",
       "      <td>1/1:0,16:0,25:.</td>\n",
       "      <td>0/0:6,0:7,0:.</td>\n",
       "      <td>./.:0,2:0,2:0</td>\n",
       "    </tr>\n",
       "  </tbody>\n",
       "</table>\n",
       "</div>"
      ],
      "text/plain": [
       "      CHROM    POS       INFO             FORMAT             psl5  \\\n",
       "2393  chrIV   1647   AMQ=.,43  GT:ADF:ADR:LTDROP   1/1:0,15:0,8:.   \n",
       "2395  chrIV   5608  AMQ=26,31  GT:ADF:ADR:LTDROP   1/1:0,4:0,10:.   \n",
       "2396  chrIV  15005  AMQ=22,25  GT:ADF:ADR:LTDROP  1/1:0,25:0,36:.   \n",
       "2404  chrIV  18954  AMQ=60,60  GT:ADF:ADR:LTDROP  1/1:0,17:0,38:.   \n",
       "2405  chrIV  18989  AMQ=60,60  GT:ADF:ADR:LTDROP  1/1:0,16:0,25:.   \n",
       "\n",
       "                 psl2          yi283  \n",
       "2393    ./.:0,0:0,0:.  1/1:0,5:0,8:0  \n",
       "2395  0/0:17,0:11,0:.  ./.:1,0:0,0:0  \n",
       "2396   0/0:6,0:12,0:.  ./.:0,3:0,4:0  \n",
       "2404   0/0:12,0:9,0:.  ./.:0,1:0,0:0  \n",
       "2405    0/0:6,0:7,0:.  ./.:0,2:0,2:0  "
      ]
     },
     "execution_count": 52,
     "metadata": {},
     "output_type": "execute_result"
    }
   ],
   "source": [
    "chrIV.head()"
   ]
  },
  {
   "cell_type": "code",
   "execution_count": 53,
   "metadata": {},
   "outputs": [],
   "source": [
    "ref2 = []\n",
    "alt2 = []\n",
    "all_ref2 = []\n",
    "all_alt2 = []\n",
    "\n",
    "error = []\n",
    "for item in chrIV[\"psl2\"]:\n",
    "    reads = item.split(sep = ':')[1:3]\n",
    "    if len(reads) == 2:\n",
    "        for read in reads:\n",
    "            tokens = read.split(sep = ',')\n",
    "            ref2.append(tokens[0])\n",
    "            alt2.append(tokens[1])\n",
    "        all_ref2.append([int(x) for x in ref2])\n",
    "        all_alt2.append([int(x) for x in alt2])\n",
    "        ref2 = []\n",
    "        alt2 = []   \n",
    "    else:\n",
    "        error.append(item)"
   ]
  },
  {
   "cell_type": "code",
   "execution_count": 54,
   "metadata": {},
   "outputs": [
    {
     "data": {
      "text/plain": [
       "[[0, 0], [17, 11]]"
      ]
     },
     "execution_count": 54,
     "metadata": {},
     "output_type": "execute_result"
    }
   ],
   "source": [
    "all_ref2[:2]"
   ]
  },
  {
   "cell_type": "code",
   "execution_count": 55,
   "metadata": {},
   "outputs": [
    {
     "data": {
      "text/plain": [
       "[[0, 0], [0, 0]]"
      ]
     },
     "execution_count": 55,
     "metadata": {},
     "output_type": "execute_result"
    }
   ],
   "source": [
    "all_alt2[:2]"
   ]
  },
  {
   "cell_type": "code",
   "execution_count": 56,
   "metadata": {},
   "outputs": [],
   "source": [
    "#Finding sum of the reference and alternative reads in psl5\n",
    "sum_ref2 = []\n",
    "sum_alt2 = []\n",
    "\n",
    "for ref in all_ref2:\n",
    "    sum_ref2.append(sum(ref))\n",
    "for alt in all_alt2:\n",
    "    sum_alt2.append(sum(alt))"
   ]
  },
  {
   "cell_type": "code",
   "execution_count": 57,
   "metadata": {},
   "outputs": [
    {
     "data": {
      "text/plain": [
       "[0, 28]"
      ]
     },
     "execution_count": 57,
     "metadata": {},
     "output_type": "execute_result"
    }
   ],
   "source": [
    "sum_ref2[:2]"
   ]
  },
  {
   "cell_type": "code",
   "execution_count": 58,
   "metadata": {},
   "outputs": [],
   "source": [
    "# finding the total number of reads by summing all ref and alts\n",
    "zipped = zip(sum_ref2, sum_alt2)\n",
    "tot_reads2 = [x+y for (x,y) in zipped]"
   ]
  },
  {
   "cell_type": "code",
   "execution_count": 59,
   "metadata": {},
   "outputs": [
    {
     "data": {
      "text/plain": [
       "[0, 28]"
      ]
     },
     "execution_count": 59,
     "metadata": {},
     "output_type": "execute_result"
    }
   ],
   "source": [
    "tot_reads2[:2]"
   ]
  },
  {
   "cell_type": "code",
   "execution_count": 60,
   "metadata": {},
   "outputs": [],
   "source": [
    "# percentage of ref = sum ref / total reads\n",
    "\n",
    "refPer2 = []\n",
    "altPer2 = []\n",
    "\n",
    "for ref, reads in zip(sum_ref2, tot_reads2):\n",
    "    if reads!= 0:\n",
    "        refPer2.append((ref/reads)*100)\n",
    "    else:\n",
    "        refPer2.append(999)\n",
    "        \n",
    "for alt, reads in zip(sum_alt2, tot_reads2):\n",
    "    if reads!= 0:\n",
    "        altPer2.append((alt/reads)*100)\n",
    "    else:\n",
    "        altPer2.append(999)"
   ]
  },
  {
   "cell_type": "code",
   "execution_count": 61,
   "metadata": {},
   "outputs": [
    {
     "data": {
      "text/plain": [
       "2106"
      ]
     },
     "execution_count": 61,
     "metadata": {},
     "output_type": "execute_result"
    }
   ],
   "source": [
    "len(altPer2)"
   ]
  },
  {
   "cell_type": "code",
   "execution_count": 62,
   "metadata": {},
   "outputs": [
    {
     "name": "stdout",
     "output_type": "stream",
     "text": [
      "True\n"
     ]
    }
   ],
   "source": [
    "# quick check to make sure that all the entries are either 0 or 100\n",
    "error = False\n",
    "for ref in refPer2:\n",
    "    if ref!=0 and ref!=100:\n",
    "        error=True\n",
    "print(error)"
   ]
  },
  {
   "cell_type": "code",
   "execution_count": 63,
   "metadata": {},
   "outputs": [
    {
     "data": {
      "text/plain": [
       "2106"
      ]
     },
     "execution_count": 63,
     "metadata": {},
     "output_type": "execute_result"
    }
   ],
   "source": [
    "classify2 = []\n",
    "for alt,ref in zip(altPer2, refPer2):\n",
    "    if ref > alt:\n",
    "        classify2.append(\"ref\")\n",
    "    elif alt > ref:\n",
    "        classify2.append(\"alt\")\n",
    "    elif alt == 999 and ref == 999:\n",
    "        classify2.append('no reads')\n",
    "    else:\n",
    "        classify2.append('ref/alt')\n",
    "len(classify2)"
   ]
  },
  {
   "cell_type": "code",
   "execution_count": 64,
   "metadata": {},
   "outputs": [
    {
     "data": {
      "text/plain": [
       "[999, 100.0]"
      ]
     },
     "execution_count": 64,
     "metadata": {},
     "output_type": "execute_result"
    }
   ],
   "source": [
    "refPer2[:2]"
   ]
  },
  {
   "cell_type": "code",
   "execution_count": 65,
   "metadata": {},
   "outputs": [
    {
     "data": {
      "text/plain": [
       "[999, 0.0]"
      ]
     },
     "execution_count": 65,
     "metadata": {},
     "output_type": "execute_result"
    }
   ],
   "source": [
    "altPer2[:2]"
   ]
  },
  {
   "cell_type": "code",
   "execution_count": 66,
   "metadata": {},
   "outputs": [
    {
     "data": {
      "text/plain": [
       "['no reads', 'ref']"
      ]
     },
     "execution_count": 66,
     "metadata": {},
     "output_type": "execute_result"
    }
   ],
   "source": [
    "classify2[:2]"
   ]
  },
  {
   "cell_type": "code",
   "execution_count": 67,
   "metadata": {},
   "outputs": [],
   "source": [
    "cleaned_chrIV[\"psl2 pos\"] = classify2"
   ]
  },
  {
   "cell_type": "code",
   "execution_count": 68,
   "metadata": {},
   "outputs": [
    {
     "data": {
      "text/html": [
       "<div>\n",
       "<style scoped>\n",
       "    .dataframe tbody tr th:only-of-type {\n",
       "        vertical-align: middle;\n",
       "    }\n",
       "\n",
       "    .dataframe tbody tr th {\n",
       "        vertical-align: top;\n",
       "    }\n",
       "\n",
       "    .dataframe thead th {\n",
       "        text-align: right;\n",
       "    }\n",
       "</style>\n",
       "<table border=\"1\" class=\"dataframe\">\n",
       "  <thead>\n",
       "    <tr style=\"text-align: right;\">\n",
       "      <th></th>\n",
       "      <th>CHROM</th>\n",
       "      <th>POS</th>\n",
       "      <th>total reads</th>\n",
       "      <th>ref reads</th>\n",
       "      <th>alt reads</th>\n",
       "      <th>sum_ref</th>\n",
       "      <th>sum_alt</th>\n",
       "      <th>%ref</th>\n",
       "      <th>%alt</th>\n",
       "      <th>pos classification</th>\n",
       "      <th>psl5 pos</th>\n",
       "      <th>psl2 pos</th>\n",
       "    </tr>\n",
       "  </thead>\n",
       "  <tbody>\n",
       "    <tr>\n",
       "      <th>0</th>\n",
       "      <td>chrIV</td>\n",
       "      <td>1647</td>\n",
       "      <td>13</td>\n",
       "      <td>[0, 0]</td>\n",
       "      <td>[5, 8]</td>\n",
       "      <td>0</td>\n",
       "      <td>13</td>\n",
       "      <td>0.0</td>\n",
       "      <td>100.0</td>\n",
       "      <td>alt</td>\n",
       "      <td>alt</td>\n",
       "      <td>no reads</td>\n",
       "    </tr>\n",
       "    <tr>\n",
       "      <th>1</th>\n",
       "      <td>chrIV</td>\n",
       "      <td>5608</td>\n",
       "      <td>1</td>\n",
       "      <td>[1, 0]</td>\n",
       "      <td>[0, 0]</td>\n",
       "      <td>1</td>\n",
       "      <td>0</td>\n",
       "      <td>100.0</td>\n",
       "      <td>0.0</td>\n",
       "      <td>ref</td>\n",
       "      <td>alt</td>\n",
       "      <td>ref</td>\n",
       "    </tr>\n",
       "    <tr>\n",
       "      <th>2</th>\n",
       "      <td>chrIV</td>\n",
       "      <td>15005</td>\n",
       "      <td>7</td>\n",
       "      <td>[0, 0]</td>\n",
       "      <td>[3, 4]</td>\n",
       "      <td>0</td>\n",
       "      <td>7</td>\n",
       "      <td>0.0</td>\n",
       "      <td>100.0</td>\n",
       "      <td>alt</td>\n",
       "      <td>alt</td>\n",
       "      <td>ref</td>\n",
       "    </tr>\n",
       "    <tr>\n",
       "      <th>3</th>\n",
       "      <td>chrIV</td>\n",
       "      <td>18954</td>\n",
       "      <td>1</td>\n",
       "      <td>[0, 0]</td>\n",
       "      <td>[1, 0]</td>\n",
       "      <td>0</td>\n",
       "      <td>1</td>\n",
       "      <td>0.0</td>\n",
       "      <td>100.0</td>\n",
       "      <td>alt</td>\n",
       "      <td>alt</td>\n",
       "      <td>ref</td>\n",
       "    </tr>\n",
       "    <tr>\n",
       "      <th>4</th>\n",
       "      <td>chrIV</td>\n",
       "      <td>18989</td>\n",
       "      <td>4</td>\n",
       "      <td>[0, 0]</td>\n",
       "      <td>[2, 2]</td>\n",
       "      <td>0</td>\n",
       "      <td>4</td>\n",
       "      <td>0.0</td>\n",
       "      <td>100.0</td>\n",
       "      <td>alt</td>\n",
       "      <td>alt</td>\n",
       "      <td>ref</td>\n",
       "    </tr>\n",
       "  </tbody>\n",
       "</table>\n",
       "</div>"
      ],
      "text/plain": [
       "   CHROM    POS  total reads ref reads alt reads  sum_ref  sum_alt   %ref  \\\n",
       "0  chrIV   1647           13    [0, 0]    [5, 8]        0       13    0.0   \n",
       "1  chrIV   5608            1    [1, 0]    [0, 0]        1        0  100.0   \n",
       "2  chrIV  15005            7    [0, 0]    [3, 4]        0        7    0.0   \n",
       "3  chrIV  18954            1    [0, 0]    [1, 0]        0        1    0.0   \n",
       "4  chrIV  18989            4    [0, 0]    [2, 2]        0        4    0.0   \n",
       "\n",
       "    %alt pos classification psl5 pos  psl2 pos  \n",
       "0  100.0                alt      alt  no reads  \n",
       "1    0.0                ref      alt       ref  \n",
       "2  100.0                alt      alt       ref  \n",
       "3  100.0                alt      alt       ref  \n",
       "4  100.0                alt      alt       ref  "
      ]
     },
     "execution_count": 68,
     "metadata": {},
     "output_type": "execute_result"
    }
   ],
   "source": [
    "cleaned_chrIV.head()"
   ]
  },
  {
   "cell_type": "markdown",
   "metadata": {},
   "source": [
    "## 8. So what strain is the yi283 position from?"
   ]
  },
  {
   "cell_type": "code",
   "execution_count": 69,
   "metadata": {},
   "outputs": [
    {
     "data": {
      "text/html": [
       "<div>\n",
       "<style scoped>\n",
       "    .dataframe tbody tr th:only-of-type {\n",
       "        vertical-align: middle;\n",
       "    }\n",
       "\n",
       "    .dataframe tbody tr th {\n",
       "        vertical-align: top;\n",
       "    }\n",
       "\n",
       "    .dataframe thead th {\n",
       "        text-align: right;\n",
       "    }\n",
       "</style>\n",
       "<table border=\"1\" class=\"dataframe\">\n",
       "  <thead>\n",
       "    <tr style=\"text-align: right;\">\n",
       "      <th></th>\n",
       "      <th>CHROM</th>\n",
       "      <th>POS</th>\n",
       "      <th>total reads</th>\n",
       "      <th>ref reads</th>\n",
       "      <th>alt reads</th>\n",
       "      <th>sum_ref</th>\n",
       "      <th>sum_alt</th>\n",
       "      <th>%ref</th>\n",
       "      <th>%alt</th>\n",
       "      <th>pos classification</th>\n",
       "      <th>psl5 pos</th>\n",
       "      <th>psl2 pos</th>\n",
       "    </tr>\n",
       "  </thead>\n",
       "  <tbody>\n",
       "    <tr>\n",
       "      <th>376</th>\n",
       "      <td>chrIV</td>\n",
       "      <td>211126</td>\n",
       "      <td>2</td>\n",
       "      <td>[1, 0]</td>\n",
       "      <td>[1, 0]</td>\n",
       "      <td>1</td>\n",
       "      <td>1</td>\n",
       "      <td>50.0</td>\n",
       "      <td>50.0</td>\n",
       "      <td>ref/alt</td>\n",
       "      <td>alt</td>\n",
       "      <td>ref</td>\n",
       "    </tr>\n",
       "    <tr>\n",
       "      <th>377</th>\n",
       "      <td>chrIV</td>\n",
       "      <td>211275</td>\n",
       "      <td>4</td>\n",
       "      <td>[0, 2]</td>\n",
       "      <td>[1, 1]</td>\n",
       "      <td>2</td>\n",
       "      <td>2</td>\n",
       "      <td>50.0</td>\n",
       "      <td>50.0</td>\n",
       "      <td>ref/alt</td>\n",
       "      <td>alt</td>\n",
       "      <td>ref</td>\n",
       "    </tr>\n",
       "    <tr>\n",
       "      <th>392</th>\n",
       "      <td>chrIV</td>\n",
       "      <td>215266</td>\n",
       "      <td>2</td>\n",
       "      <td>[1, 0]</td>\n",
       "      <td>[0, 1]</td>\n",
       "      <td>1</td>\n",
       "      <td>1</td>\n",
       "      <td>50.0</td>\n",
       "      <td>50.0</td>\n",
       "      <td>ref/alt</td>\n",
       "      <td>alt</td>\n",
       "      <td>ref</td>\n",
       "    </tr>\n",
       "    <tr>\n",
       "      <th>418</th>\n",
       "      <td>chrIV</td>\n",
       "      <td>224747</td>\n",
       "      <td>2</td>\n",
       "      <td>[1, 0]</td>\n",
       "      <td>[1, 0]</td>\n",
       "      <td>1</td>\n",
       "      <td>1</td>\n",
       "      <td>50.0</td>\n",
       "      <td>50.0</td>\n",
       "      <td>ref/alt</td>\n",
       "      <td>alt</td>\n",
       "      <td>ref</td>\n",
       "    </tr>\n",
       "    <tr>\n",
       "      <th>448</th>\n",
       "      <td>chrIV</td>\n",
       "      <td>242001</td>\n",
       "      <td>2</td>\n",
       "      <td>[0, 1]</td>\n",
       "      <td>[0, 1]</td>\n",
       "      <td>1</td>\n",
       "      <td>1</td>\n",
       "      <td>50.0</td>\n",
       "      <td>50.0</td>\n",
       "      <td>ref/alt</td>\n",
       "      <td>alt</td>\n",
       "      <td>ref</td>\n",
       "    </tr>\n",
       "    <tr>\n",
       "      <th>475</th>\n",
       "      <td>chrIV</td>\n",
       "      <td>266407</td>\n",
       "      <td>4</td>\n",
       "      <td>[2, 0]</td>\n",
       "      <td>[0, 2]</td>\n",
       "      <td>2</td>\n",
       "      <td>2</td>\n",
       "      <td>50.0</td>\n",
       "      <td>50.0</td>\n",
       "      <td>ref/alt</td>\n",
       "      <td>alt</td>\n",
       "      <td>ref</td>\n",
       "    </tr>\n",
       "    <tr>\n",
       "      <th>588</th>\n",
       "      <td>chrIV</td>\n",
       "      <td>346843</td>\n",
       "      <td>2</td>\n",
       "      <td>[0, 1]</td>\n",
       "      <td>[1, 0]</td>\n",
       "      <td>1</td>\n",
       "      <td>1</td>\n",
       "      <td>50.0</td>\n",
       "      <td>50.0</td>\n",
       "      <td>ref/alt</td>\n",
       "      <td>alt</td>\n",
       "      <td>ref</td>\n",
       "    </tr>\n",
       "    <tr>\n",
       "      <th>657</th>\n",
       "      <td>chrIV</td>\n",
       "      <td>380580</td>\n",
       "      <td>2</td>\n",
       "      <td>[1, 0]</td>\n",
       "      <td>[1, 0]</td>\n",
       "      <td>1</td>\n",
       "      <td>1</td>\n",
       "      <td>50.0</td>\n",
       "      <td>50.0</td>\n",
       "      <td>ref/alt</td>\n",
       "      <td>ref</td>\n",
       "      <td>alt</td>\n",
       "    </tr>\n",
       "    <tr>\n",
       "      <th>715</th>\n",
       "      <td>chrIV</td>\n",
       "      <td>408095</td>\n",
       "      <td>2</td>\n",
       "      <td>[1, 0]</td>\n",
       "      <td>[0, 1]</td>\n",
       "      <td>1</td>\n",
       "      <td>1</td>\n",
       "      <td>50.0</td>\n",
       "      <td>50.0</td>\n",
       "      <td>ref/alt</td>\n",
       "      <td>ref</td>\n",
       "      <td>alt</td>\n",
       "    </tr>\n",
       "    <tr>\n",
       "      <th>736</th>\n",
       "      <td>chrIV</td>\n",
       "      <td>422280</td>\n",
       "      <td>2</td>\n",
       "      <td>[1, 0]</td>\n",
       "      <td>[1, 0]</td>\n",
       "      <td>1</td>\n",
       "      <td>1</td>\n",
       "      <td>50.0</td>\n",
       "      <td>50.0</td>\n",
       "      <td>ref/alt</td>\n",
       "      <td>alt</td>\n",
       "      <td>ref</td>\n",
       "    </tr>\n",
       "    <tr>\n",
       "      <th>746</th>\n",
       "      <td>chrIV</td>\n",
       "      <td>426781</td>\n",
       "      <td>2</td>\n",
       "      <td>[1, 0]</td>\n",
       "      <td>[0, 1]</td>\n",
       "      <td>1</td>\n",
       "      <td>1</td>\n",
       "      <td>50.0</td>\n",
       "      <td>50.0</td>\n",
       "      <td>ref/alt</td>\n",
       "      <td>alt</td>\n",
       "      <td>ref</td>\n",
       "    </tr>\n",
       "    <tr>\n",
       "      <th>747</th>\n",
       "      <td>chrIV</td>\n",
       "      <td>426788</td>\n",
       "      <td>2</td>\n",
       "      <td>[1, 0]</td>\n",
       "      <td>[0, 1]</td>\n",
       "      <td>1</td>\n",
       "      <td>1</td>\n",
       "      <td>50.0</td>\n",
       "      <td>50.0</td>\n",
       "      <td>ref/alt</td>\n",
       "      <td>alt</td>\n",
       "      <td>ref</td>\n",
       "    </tr>\n",
       "    <tr>\n",
       "      <th>863</th>\n",
       "      <td>chrIV</td>\n",
       "      <td>565806</td>\n",
       "      <td>2</td>\n",
       "      <td>[1, 0]</td>\n",
       "      <td>[0, 1]</td>\n",
       "      <td>1</td>\n",
       "      <td>1</td>\n",
       "      <td>50.0</td>\n",
       "      <td>50.0</td>\n",
       "      <td>ref/alt</td>\n",
       "      <td>alt</td>\n",
       "      <td>ref</td>\n",
       "    </tr>\n",
       "    <tr>\n",
       "      <th>876</th>\n",
       "      <td>chrIV</td>\n",
       "      <td>571569</td>\n",
       "      <td>2</td>\n",
       "      <td>[0, 1]</td>\n",
       "      <td>[0, 1]</td>\n",
       "      <td>1</td>\n",
       "      <td>1</td>\n",
       "      <td>50.0</td>\n",
       "      <td>50.0</td>\n",
       "      <td>ref/alt</td>\n",
       "      <td>alt</td>\n",
       "      <td>ref</td>\n",
       "    </tr>\n",
       "    <tr>\n",
       "      <th>894</th>\n",
       "      <td>chrIV</td>\n",
       "      <td>580230</td>\n",
       "      <td>4</td>\n",
       "      <td>[0, 2]</td>\n",
       "      <td>[0, 2]</td>\n",
       "      <td>2</td>\n",
       "      <td>2</td>\n",
       "      <td>50.0</td>\n",
       "      <td>50.0</td>\n",
       "      <td>ref/alt</td>\n",
       "      <td>alt</td>\n",
       "      <td>ref</td>\n",
       "    </tr>\n",
       "    <tr>\n",
       "      <th>904</th>\n",
       "      <td>chrIV</td>\n",
       "      <td>583765</td>\n",
       "      <td>2</td>\n",
       "      <td>[0, 1]</td>\n",
       "      <td>[1, 0]</td>\n",
       "      <td>1</td>\n",
       "      <td>1</td>\n",
       "      <td>50.0</td>\n",
       "      <td>50.0</td>\n",
       "      <td>ref/alt</td>\n",
       "      <td>alt</td>\n",
       "      <td>ref</td>\n",
       "    </tr>\n",
       "    <tr>\n",
       "      <th>905</th>\n",
       "      <td>chrIV</td>\n",
       "      <td>583767</td>\n",
       "      <td>2</td>\n",
       "      <td>[0, 1]</td>\n",
       "      <td>[1, 0]</td>\n",
       "      <td>1</td>\n",
       "      <td>1</td>\n",
       "      <td>50.0</td>\n",
       "      <td>50.0</td>\n",
       "      <td>ref/alt</td>\n",
       "      <td>alt</td>\n",
       "      <td>ref</td>\n",
       "    </tr>\n",
       "    <tr>\n",
       "      <th>1004</th>\n",
       "      <td>chrIV</td>\n",
       "      <td>659467</td>\n",
       "      <td>6</td>\n",
       "      <td>[3, 0]</td>\n",
       "      <td>[3, 0]</td>\n",
       "      <td>3</td>\n",
       "      <td>3</td>\n",
       "      <td>50.0</td>\n",
       "      <td>50.0</td>\n",
       "      <td>ref/alt</td>\n",
       "      <td>alt</td>\n",
       "      <td>ref</td>\n",
       "    </tr>\n",
       "    <tr>\n",
       "      <th>1019</th>\n",
       "      <td>chrIV</td>\n",
       "      <td>670255</td>\n",
       "      <td>2</td>\n",
       "      <td>[1, 0]</td>\n",
       "      <td>[0, 1]</td>\n",
       "      <td>1</td>\n",
       "      <td>1</td>\n",
       "      <td>50.0</td>\n",
       "      <td>50.0</td>\n",
       "      <td>ref/alt</td>\n",
       "      <td>alt</td>\n",
       "      <td>ref</td>\n",
       "    </tr>\n",
       "    <tr>\n",
       "      <th>1051</th>\n",
       "      <td>chrIV</td>\n",
       "      <td>683812</td>\n",
       "      <td>2</td>\n",
       "      <td>[1, 0]</td>\n",
       "      <td>[0, 1]</td>\n",
       "      <td>1</td>\n",
       "      <td>1</td>\n",
       "      <td>50.0</td>\n",
       "      <td>50.0</td>\n",
       "      <td>ref/alt</td>\n",
       "      <td>alt</td>\n",
       "      <td>ref</td>\n",
       "    </tr>\n",
       "    <tr>\n",
       "      <th>1152</th>\n",
       "      <td>chrIV</td>\n",
       "      <td>719695</td>\n",
       "      <td>2</td>\n",
       "      <td>[1, 0]</td>\n",
       "      <td>[1, 0]</td>\n",
       "      <td>1</td>\n",
       "      <td>1</td>\n",
       "      <td>50.0</td>\n",
       "      <td>50.0</td>\n",
       "      <td>ref/alt</td>\n",
       "      <td>alt</td>\n",
       "      <td>ref</td>\n",
       "    </tr>\n",
       "    <tr>\n",
       "      <th>1268</th>\n",
       "      <td>chrIV</td>\n",
       "      <td>837638</td>\n",
       "      <td>2</td>\n",
       "      <td>[0, 1]</td>\n",
       "      <td>[1, 0]</td>\n",
       "      <td>1</td>\n",
       "      <td>1</td>\n",
       "      <td>50.0</td>\n",
       "      <td>50.0</td>\n",
       "      <td>ref/alt</td>\n",
       "      <td>alt</td>\n",
       "      <td>ref</td>\n",
       "    </tr>\n",
       "    <tr>\n",
       "      <th>1314</th>\n",
       "      <td>chrIV</td>\n",
       "      <td>917833</td>\n",
       "      <td>6</td>\n",
       "      <td>[3, 0]</td>\n",
       "      <td>[1, 2]</td>\n",
       "      <td>3</td>\n",
       "      <td>3</td>\n",
       "      <td>50.0</td>\n",
       "      <td>50.0</td>\n",
       "      <td>ref/alt</td>\n",
       "      <td>alt</td>\n",
       "      <td>ref</td>\n",
       "    </tr>\n",
       "    <tr>\n",
       "      <th>1341</th>\n",
       "      <td>chrIV</td>\n",
       "      <td>934256</td>\n",
       "      <td>2</td>\n",
       "      <td>[1, 0]</td>\n",
       "      <td>[1, 0]</td>\n",
       "      <td>1</td>\n",
       "      <td>1</td>\n",
       "      <td>50.0</td>\n",
       "      <td>50.0</td>\n",
       "      <td>ref/alt</td>\n",
       "      <td>alt</td>\n",
       "      <td>ref</td>\n",
       "    </tr>\n",
       "    <tr>\n",
       "      <th>1451</th>\n",
       "      <td>chrIV</td>\n",
       "      <td>998658</td>\n",
       "      <td>2</td>\n",
       "      <td>[0, 1]</td>\n",
       "      <td>[0, 1]</td>\n",
       "      <td>1</td>\n",
       "      <td>1</td>\n",
       "      <td>50.0</td>\n",
       "      <td>50.0</td>\n",
       "      <td>ref/alt</td>\n",
       "      <td>alt</td>\n",
       "      <td>ref</td>\n",
       "    </tr>\n",
       "    <tr>\n",
       "      <th>1473</th>\n",
       "      <td>chrIV</td>\n",
       "      <td>1010810</td>\n",
       "      <td>2</td>\n",
       "      <td>[1, 0]</td>\n",
       "      <td>[1, 0]</td>\n",
       "      <td>1</td>\n",
       "      <td>1</td>\n",
       "      <td>50.0</td>\n",
       "      <td>50.0</td>\n",
       "      <td>ref/alt</td>\n",
       "      <td>alt</td>\n",
       "      <td>ref</td>\n",
       "    </tr>\n",
       "    <tr>\n",
       "      <th>1489</th>\n",
       "      <td>chrIV</td>\n",
       "      <td>1058617</td>\n",
       "      <td>2</td>\n",
       "      <td>[0, 1]</td>\n",
       "      <td>[1, 0]</td>\n",
       "      <td>1</td>\n",
       "      <td>1</td>\n",
       "      <td>50.0</td>\n",
       "      <td>50.0</td>\n",
       "      <td>ref/alt</td>\n",
       "      <td>alt</td>\n",
       "      <td>ref</td>\n",
       "    </tr>\n",
       "    <tr>\n",
       "      <th>1502</th>\n",
       "      <td>chrIV</td>\n",
       "      <td>1145628</td>\n",
       "      <td>2</td>\n",
       "      <td>[0, 1]</td>\n",
       "      <td>[0, 1]</td>\n",
       "      <td>1</td>\n",
       "      <td>1</td>\n",
       "      <td>50.0</td>\n",
       "      <td>50.0</td>\n",
       "      <td>ref/alt</td>\n",
       "      <td>alt</td>\n",
       "      <td>ref</td>\n",
       "    </tr>\n",
       "    <tr>\n",
       "      <th>1503</th>\n",
       "      <td>chrIV</td>\n",
       "      <td>1146894</td>\n",
       "      <td>2</td>\n",
       "      <td>[0, 1]</td>\n",
       "      <td>[0, 1]</td>\n",
       "      <td>1</td>\n",
       "      <td>1</td>\n",
       "      <td>50.0</td>\n",
       "      <td>50.0</td>\n",
       "      <td>ref/alt</td>\n",
       "      <td>alt</td>\n",
       "      <td>ref</td>\n",
       "    </tr>\n",
       "    <tr>\n",
       "      <th>1529</th>\n",
       "      <td>chrIV</td>\n",
       "      <td>1172908</td>\n",
       "      <td>4</td>\n",
       "      <td>[0, 2]</td>\n",
       "      <td>[2, 0]</td>\n",
       "      <td>2</td>\n",
       "      <td>2</td>\n",
       "      <td>50.0</td>\n",
       "      <td>50.0</td>\n",
       "      <td>ref/alt</td>\n",
       "      <td>alt</td>\n",
       "      <td>ref</td>\n",
       "    </tr>\n",
       "    <tr>\n",
       "      <th>1530</th>\n",
       "      <td>chrIV</td>\n",
       "      <td>1172914</td>\n",
       "      <td>4</td>\n",
       "      <td>[0, 2]</td>\n",
       "      <td>[2, 0]</td>\n",
       "      <td>2</td>\n",
       "      <td>2</td>\n",
       "      <td>50.0</td>\n",
       "      <td>50.0</td>\n",
       "      <td>ref/alt</td>\n",
       "      <td>alt</td>\n",
       "      <td>ref</td>\n",
       "    </tr>\n",
       "    <tr>\n",
       "      <th>1589</th>\n",
       "      <td>chrIV</td>\n",
       "      <td>1261386</td>\n",
       "      <td>2</td>\n",
       "      <td>[0, 1]</td>\n",
       "      <td>[0, 1]</td>\n",
       "      <td>1</td>\n",
       "      <td>1</td>\n",
       "      <td>50.0</td>\n",
       "      <td>50.0</td>\n",
       "      <td>ref/alt</td>\n",
       "      <td>alt</td>\n",
       "      <td>ref</td>\n",
       "    </tr>\n",
       "    <tr>\n",
       "      <th>1590</th>\n",
       "      <td>chrIV</td>\n",
       "      <td>1261418</td>\n",
       "      <td>2</td>\n",
       "      <td>[0, 1]</td>\n",
       "      <td>[0, 1]</td>\n",
       "      <td>1</td>\n",
       "      <td>1</td>\n",
       "      <td>50.0</td>\n",
       "      <td>50.0</td>\n",
       "      <td>ref/alt</td>\n",
       "      <td>alt</td>\n",
       "      <td>ref</td>\n",
       "    </tr>\n",
       "    <tr>\n",
       "      <th>1642</th>\n",
       "      <td>chrIV</td>\n",
       "      <td>1302530</td>\n",
       "      <td>2</td>\n",
       "      <td>[1, 0]</td>\n",
       "      <td>[0, 1]</td>\n",
       "      <td>1</td>\n",
       "      <td>1</td>\n",
       "      <td>50.0</td>\n",
       "      <td>50.0</td>\n",
       "      <td>ref/alt</td>\n",
       "      <td>alt</td>\n",
       "      <td>ref</td>\n",
       "    </tr>\n",
       "    <tr>\n",
       "      <th>1705</th>\n",
       "      <td>chrIV</td>\n",
       "      <td>1328084</td>\n",
       "      <td>4</td>\n",
       "      <td>[2, 0]</td>\n",
       "      <td>[0, 2]</td>\n",
       "      <td>2</td>\n",
       "      <td>2</td>\n",
       "      <td>50.0</td>\n",
       "      <td>50.0</td>\n",
       "      <td>ref/alt</td>\n",
       "      <td>alt</td>\n",
       "      <td>ref</td>\n",
       "    </tr>\n",
       "    <tr>\n",
       "      <th>1727</th>\n",
       "      <td>chrIV</td>\n",
       "      <td>1344013</td>\n",
       "      <td>8</td>\n",
       "      <td>[4, 0]</td>\n",
       "      <td>[2, 2]</td>\n",
       "      <td>4</td>\n",
       "      <td>4</td>\n",
       "      <td>50.0</td>\n",
       "      <td>50.0</td>\n",
       "      <td>ref/alt</td>\n",
       "      <td>alt</td>\n",
       "      <td>ref</td>\n",
       "    </tr>\n",
       "    <tr>\n",
       "      <th>1854</th>\n",
       "      <td>chrIV</td>\n",
       "      <td>1450720</td>\n",
       "      <td>6</td>\n",
       "      <td>[0, 3]</td>\n",
       "      <td>[0, 3]</td>\n",
       "      <td>3</td>\n",
       "      <td>3</td>\n",
       "      <td>50.0</td>\n",
       "      <td>50.0</td>\n",
       "      <td>ref/alt</td>\n",
       "      <td>alt</td>\n",
       "      <td>ref</td>\n",
       "    </tr>\n",
       "    <tr>\n",
       "      <th>1954</th>\n",
       "      <td>chrIV</td>\n",
       "      <td>1474416</td>\n",
       "      <td>2</td>\n",
       "      <td>[0, 1]</td>\n",
       "      <td>[1, 0]</td>\n",
       "      <td>1</td>\n",
       "      <td>1</td>\n",
       "      <td>50.0</td>\n",
       "      <td>50.0</td>\n",
       "      <td>ref/alt</td>\n",
       "      <td>alt</td>\n",
       "      <td>ref</td>\n",
       "    </tr>\n",
       "    <tr>\n",
       "      <th>2038</th>\n",
       "      <td>chrIV</td>\n",
       "      <td>1511886</td>\n",
       "      <td>2</td>\n",
       "      <td>[1, 0]</td>\n",
       "      <td>[0, 1]</td>\n",
       "      <td>1</td>\n",
       "      <td>1</td>\n",
       "      <td>50.0</td>\n",
       "      <td>50.0</td>\n",
       "      <td>ref/alt</td>\n",
       "      <td>alt</td>\n",
       "      <td>ref</td>\n",
       "    </tr>\n",
       "  </tbody>\n",
       "</table>\n",
       "</div>"
      ],
      "text/plain": [
       "      CHROM      POS  total reads ref reads alt reads  sum_ref  sum_alt  %ref  \\\n",
       "376   chrIV   211126            2    [1, 0]    [1, 0]        1        1  50.0   \n",
       "377   chrIV   211275            4    [0, 2]    [1, 1]        2        2  50.0   \n",
       "392   chrIV   215266            2    [1, 0]    [0, 1]        1        1  50.0   \n",
       "418   chrIV   224747            2    [1, 0]    [1, 0]        1        1  50.0   \n",
       "448   chrIV   242001            2    [0, 1]    [0, 1]        1        1  50.0   \n",
       "475   chrIV   266407            4    [2, 0]    [0, 2]        2        2  50.0   \n",
       "588   chrIV   346843            2    [0, 1]    [1, 0]        1        1  50.0   \n",
       "657   chrIV   380580            2    [1, 0]    [1, 0]        1        1  50.0   \n",
       "715   chrIV   408095            2    [1, 0]    [0, 1]        1        1  50.0   \n",
       "736   chrIV   422280            2    [1, 0]    [1, 0]        1        1  50.0   \n",
       "746   chrIV   426781            2    [1, 0]    [0, 1]        1        1  50.0   \n",
       "747   chrIV   426788            2    [1, 0]    [0, 1]        1        1  50.0   \n",
       "863   chrIV   565806            2    [1, 0]    [0, 1]        1        1  50.0   \n",
       "876   chrIV   571569            2    [0, 1]    [0, 1]        1        1  50.0   \n",
       "894   chrIV   580230            4    [0, 2]    [0, 2]        2        2  50.0   \n",
       "904   chrIV   583765            2    [0, 1]    [1, 0]        1        1  50.0   \n",
       "905   chrIV   583767            2    [0, 1]    [1, 0]        1        1  50.0   \n",
       "1004  chrIV   659467            6    [3, 0]    [3, 0]        3        3  50.0   \n",
       "1019  chrIV   670255            2    [1, 0]    [0, 1]        1        1  50.0   \n",
       "1051  chrIV   683812            2    [1, 0]    [0, 1]        1        1  50.0   \n",
       "1152  chrIV   719695            2    [1, 0]    [1, 0]        1        1  50.0   \n",
       "1268  chrIV   837638            2    [0, 1]    [1, 0]        1        1  50.0   \n",
       "1314  chrIV   917833            6    [3, 0]    [1, 2]        3        3  50.0   \n",
       "1341  chrIV   934256            2    [1, 0]    [1, 0]        1        1  50.0   \n",
       "1451  chrIV   998658            2    [0, 1]    [0, 1]        1        1  50.0   \n",
       "1473  chrIV  1010810            2    [1, 0]    [1, 0]        1        1  50.0   \n",
       "1489  chrIV  1058617            2    [0, 1]    [1, 0]        1        1  50.0   \n",
       "1502  chrIV  1145628            2    [0, 1]    [0, 1]        1        1  50.0   \n",
       "1503  chrIV  1146894            2    [0, 1]    [0, 1]        1        1  50.0   \n",
       "1529  chrIV  1172908            4    [0, 2]    [2, 0]        2        2  50.0   \n",
       "1530  chrIV  1172914            4    [0, 2]    [2, 0]        2        2  50.0   \n",
       "1589  chrIV  1261386            2    [0, 1]    [0, 1]        1        1  50.0   \n",
       "1590  chrIV  1261418            2    [0, 1]    [0, 1]        1        1  50.0   \n",
       "1642  chrIV  1302530            2    [1, 0]    [0, 1]        1        1  50.0   \n",
       "1705  chrIV  1328084            4    [2, 0]    [0, 2]        2        2  50.0   \n",
       "1727  chrIV  1344013            8    [4, 0]    [2, 2]        4        4  50.0   \n",
       "1854  chrIV  1450720            6    [0, 3]    [0, 3]        3        3  50.0   \n",
       "1954  chrIV  1474416            2    [0, 1]    [1, 0]        1        1  50.0   \n",
       "2038  chrIV  1511886            2    [1, 0]    [0, 1]        1        1  50.0   \n",
       "\n",
       "      %alt pos classification psl5 pos psl2 pos  \n",
       "376   50.0            ref/alt      alt      ref  \n",
       "377   50.0            ref/alt      alt      ref  \n",
       "392   50.0            ref/alt      alt      ref  \n",
       "418   50.0            ref/alt      alt      ref  \n",
       "448   50.0            ref/alt      alt      ref  \n",
       "475   50.0            ref/alt      alt      ref  \n",
       "588   50.0            ref/alt      alt      ref  \n",
       "657   50.0            ref/alt      ref      alt  \n",
       "715   50.0            ref/alt      ref      alt  \n",
       "736   50.0            ref/alt      alt      ref  \n",
       "746   50.0            ref/alt      alt      ref  \n",
       "747   50.0            ref/alt      alt      ref  \n",
       "863   50.0            ref/alt      alt      ref  \n",
       "876   50.0            ref/alt      alt      ref  \n",
       "894   50.0            ref/alt      alt      ref  \n",
       "904   50.0            ref/alt      alt      ref  \n",
       "905   50.0            ref/alt      alt      ref  \n",
       "1004  50.0            ref/alt      alt      ref  \n",
       "1019  50.0            ref/alt      alt      ref  \n",
       "1051  50.0            ref/alt      alt      ref  \n",
       "1152  50.0            ref/alt      alt      ref  \n",
       "1268  50.0            ref/alt      alt      ref  \n",
       "1314  50.0            ref/alt      alt      ref  \n",
       "1341  50.0            ref/alt      alt      ref  \n",
       "1451  50.0            ref/alt      alt      ref  \n",
       "1473  50.0            ref/alt      alt      ref  \n",
       "1489  50.0            ref/alt      alt      ref  \n",
       "1502  50.0            ref/alt      alt      ref  \n",
       "1503  50.0            ref/alt      alt      ref  \n",
       "1529  50.0            ref/alt      alt      ref  \n",
       "1530  50.0            ref/alt      alt      ref  \n",
       "1589  50.0            ref/alt      alt      ref  \n",
       "1590  50.0            ref/alt      alt      ref  \n",
       "1642  50.0            ref/alt      alt      ref  \n",
       "1705  50.0            ref/alt      alt      ref  \n",
       "1727  50.0            ref/alt      alt      ref  \n",
       "1854  50.0            ref/alt      alt      ref  \n",
       "1954  50.0            ref/alt      alt      ref  \n",
       "2038  50.0            ref/alt      alt      ref  "
      ]
     },
     "execution_count": 69,
     "metadata": {},
     "output_type": "execute_result"
    }
   ],
   "source": [
    "cleaned_chrIV.loc[cleaned_chrIV[\"pos classification\"] == 'ref/alt']"
   ]
  },
  {
   "cell_type": "code",
   "execution_count": 70,
   "metadata": {
    "scrolled": true
   },
   "outputs": [
    {
     "data": {
      "text/html": [
       "<div>\n",
       "<style scoped>\n",
       "    .dataframe tbody tr th:only-of-type {\n",
       "        vertical-align: middle;\n",
       "    }\n",
       "\n",
       "    .dataframe tbody tr th {\n",
       "        vertical-align: top;\n",
       "    }\n",
       "\n",
       "    .dataframe thead th {\n",
       "        text-align: right;\n",
       "    }\n",
       "</style>\n",
       "<table border=\"1\" class=\"dataframe\">\n",
       "  <thead>\n",
       "    <tr style=\"text-align: right;\">\n",
       "      <th></th>\n",
       "      <th>CHROM</th>\n",
       "      <th>POS</th>\n",
       "      <th>total reads</th>\n",
       "      <th>ref reads</th>\n",
       "      <th>alt reads</th>\n",
       "      <th>sum_ref</th>\n",
       "      <th>sum_alt</th>\n",
       "      <th>%ref</th>\n",
       "      <th>%alt</th>\n",
       "      <th>pos classification</th>\n",
       "      <th>psl5 pos</th>\n",
       "      <th>psl2 pos</th>\n",
       "    </tr>\n",
       "  </thead>\n",
       "  <tbody>\n",
       "    <tr>\n",
       "      <th>0</th>\n",
       "      <td>chrIV</td>\n",
       "      <td>1647</td>\n",
       "      <td>13</td>\n",
       "      <td>[0, 0]</td>\n",
       "      <td>[5, 8]</td>\n",
       "      <td>0</td>\n",
       "      <td>13</td>\n",
       "      <td>0.0</td>\n",
       "      <td>100.0</td>\n",
       "      <td>alt</td>\n",
       "      <td>alt</td>\n",
       "      <td>no reads</td>\n",
       "    </tr>\n",
       "    <tr>\n",
       "      <th>1</th>\n",
       "      <td>chrIV</td>\n",
       "      <td>5608</td>\n",
       "      <td>1</td>\n",
       "      <td>[1, 0]</td>\n",
       "      <td>[0, 0]</td>\n",
       "      <td>1</td>\n",
       "      <td>0</td>\n",
       "      <td>100.0</td>\n",
       "      <td>0.0</td>\n",
       "      <td>ref</td>\n",
       "      <td>alt</td>\n",
       "      <td>ref</td>\n",
       "    </tr>\n",
       "    <tr>\n",
       "      <th>2</th>\n",
       "      <td>chrIV</td>\n",
       "      <td>15005</td>\n",
       "      <td>7</td>\n",
       "      <td>[0, 0]</td>\n",
       "      <td>[3, 4]</td>\n",
       "      <td>0</td>\n",
       "      <td>7</td>\n",
       "      <td>0.0</td>\n",
       "      <td>100.0</td>\n",
       "      <td>alt</td>\n",
       "      <td>alt</td>\n",
       "      <td>ref</td>\n",
       "    </tr>\n",
       "    <tr>\n",
       "      <th>3</th>\n",
       "      <td>chrIV</td>\n",
       "      <td>18954</td>\n",
       "      <td>1</td>\n",
       "      <td>[0, 0]</td>\n",
       "      <td>[1, 0]</td>\n",
       "      <td>0</td>\n",
       "      <td>1</td>\n",
       "      <td>0.0</td>\n",
       "      <td>100.0</td>\n",
       "      <td>alt</td>\n",
       "      <td>alt</td>\n",
       "      <td>ref</td>\n",
       "    </tr>\n",
       "    <tr>\n",
       "      <th>4</th>\n",
       "      <td>chrIV</td>\n",
       "      <td>18989</td>\n",
       "      <td>4</td>\n",
       "      <td>[0, 0]</td>\n",
       "      <td>[2, 2]</td>\n",
       "      <td>0</td>\n",
       "      <td>4</td>\n",
       "      <td>0.0</td>\n",
       "      <td>100.0</td>\n",
       "      <td>alt</td>\n",
       "      <td>alt</td>\n",
       "      <td>ref</td>\n",
       "    </tr>\n",
       "  </tbody>\n",
       "</table>\n",
       "</div>"
      ],
      "text/plain": [
       "   CHROM    POS  total reads ref reads alt reads  sum_ref  sum_alt   %ref  \\\n",
       "0  chrIV   1647           13    [0, 0]    [5, 8]        0       13    0.0   \n",
       "1  chrIV   5608            1    [1, 0]    [0, 0]        1        0  100.0   \n",
       "2  chrIV  15005            7    [0, 0]    [3, 4]        0        7    0.0   \n",
       "3  chrIV  18954            1    [0, 0]    [1, 0]        0        1    0.0   \n",
       "4  chrIV  18989            4    [0, 0]    [2, 2]        0        4    0.0   \n",
       "\n",
       "    %alt pos classification psl5 pos  psl2 pos  \n",
       "0  100.0                alt      alt  no reads  \n",
       "1    0.0                ref      alt       ref  \n",
       "2  100.0                alt      alt       ref  \n",
       "3  100.0                alt      alt       ref  \n",
       "4  100.0                alt      alt       ref  "
      ]
     },
     "execution_count": 70,
     "metadata": {},
     "output_type": "execute_result"
    }
   ],
   "source": [
    "cleaned_chrIV.head()"
   ]
  },
  {
   "cell_type": "code",
   "execution_count": 71,
   "metadata": {},
   "outputs": [],
   "source": [
    "strain = []\n",
    "for ind in cleaned_chrIV.index:\n",
    "    if cleaned_chrIV[\"pos classification\"][ind] == 'ref/alt':\n",
    "        strain.append('psl5/psl2')\n",
    "    else:\n",
    "        if cleaned_chrIV[\"pos classification\"][ind] == cleaned_chrIV[\"psl5 pos\"][ind]:\n",
    "            strain.append(\"psl5\")\n",
    "            \n",
    "        elif cleaned_chrIV[\"pos classification\"][ind] == cleaned_chrIV[\"psl2 pos\"][ind]:\n",
    "            strain.append(\"psl2\")\n",
    "        else:\n",
    "            strain.append(\"inconclusive\")"
   ]
  },
  {
   "cell_type": "code",
   "execution_count": 72,
   "metadata": {},
   "outputs": [
    {
     "data": {
      "text/plain": [
       "2106"
      ]
     },
     "execution_count": 72,
     "metadata": {},
     "output_type": "execute_result"
    }
   ],
   "source": [
    "len(strain)"
   ]
  },
  {
   "cell_type": "code",
   "execution_count": 73,
   "metadata": {},
   "outputs": [],
   "source": [
    "cleaned_chrIV[\"strain\"] = strain"
   ]
  },
  {
   "cell_type": "code",
   "execution_count": 74,
   "metadata": {},
   "outputs": [
    {
     "data": {
      "text/html": [
       "<div>\n",
       "<style scoped>\n",
       "    .dataframe tbody tr th:only-of-type {\n",
       "        vertical-align: middle;\n",
       "    }\n",
       "\n",
       "    .dataframe tbody tr th {\n",
       "        vertical-align: top;\n",
       "    }\n",
       "\n",
       "    .dataframe thead th {\n",
       "        text-align: right;\n",
       "    }\n",
       "</style>\n",
       "<table border=\"1\" class=\"dataframe\">\n",
       "  <thead>\n",
       "    <tr style=\"text-align: right;\">\n",
       "      <th></th>\n",
       "      <th>CHROM</th>\n",
       "      <th>POS</th>\n",
       "      <th>total reads</th>\n",
       "      <th>ref reads</th>\n",
       "      <th>alt reads</th>\n",
       "      <th>sum_ref</th>\n",
       "      <th>sum_alt</th>\n",
       "      <th>%ref</th>\n",
       "      <th>%alt</th>\n",
       "      <th>pos classification</th>\n",
       "      <th>psl5 pos</th>\n",
       "      <th>psl2 pos</th>\n",
       "      <th>strain</th>\n",
       "    </tr>\n",
       "  </thead>\n",
       "  <tbody>\n",
       "    <tr>\n",
       "      <th>0</th>\n",
       "      <td>chrIV</td>\n",
       "      <td>1647</td>\n",
       "      <td>13</td>\n",
       "      <td>[0, 0]</td>\n",
       "      <td>[5, 8]</td>\n",
       "      <td>0</td>\n",
       "      <td>13</td>\n",
       "      <td>0.0</td>\n",
       "      <td>100.0</td>\n",
       "      <td>alt</td>\n",
       "      <td>alt</td>\n",
       "      <td>no reads</td>\n",
       "      <td>psl5</td>\n",
       "    </tr>\n",
       "    <tr>\n",
       "      <th>1</th>\n",
       "      <td>chrIV</td>\n",
       "      <td>5608</td>\n",
       "      <td>1</td>\n",
       "      <td>[1, 0]</td>\n",
       "      <td>[0, 0]</td>\n",
       "      <td>1</td>\n",
       "      <td>0</td>\n",
       "      <td>100.0</td>\n",
       "      <td>0.0</td>\n",
       "      <td>ref</td>\n",
       "      <td>alt</td>\n",
       "      <td>ref</td>\n",
       "      <td>psl2</td>\n",
       "    </tr>\n",
       "    <tr>\n",
       "      <th>2</th>\n",
       "      <td>chrIV</td>\n",
       "      <td>15005</td>\n",
       "      <td>7</td>\n",
       "      <td>[0, 0]</td>\n",
       "      <td>[3, 4]</td>\n",
       "      <td>0</td>\n",
       "      <td>7</td>\n",
       "      <td>0.0</td>\n",
       "      <td>100.0</td>\n",
       "      <td>alt</td>\n",
       "      <td>alt</td>\n",
       "      <td>ref</td>\n",
       "      <td>psl5</td>\n",
       "    </tr>\n",
       "    <tr>\n",
       "      <th>3</th>\n",
       "      <td>chrIV</td>\n",
       "      <td>18954</td>\n",
       "      <td>1</td>\n",
       "      <td>[0, 0]</td>\n",
       "      <td>[1, 0]</td>\n",
       "      <td>0</td>\n",
       "      <td>1</td>\n",
       "      <td>0.0</td>\n",
       "      <td>100.0</td>\n",
       "      <td>alt</td>\n",
       "      <td>alt</td>\n",
       "      <td>ref</td>\n",
       "      <td>psl5</td>\n",
       "    </tr>\n",
       "    <tr>\n",
       "      <th>4</th>\n",
       "      <td>chrIV</td>\n",
       "      <td>18989</td>\n",
       "      <td>4</td>\n",
       "      <td>[0, 0]</td>\n",
       "      <td>[2, 2]</td>\n",
       "      <td>0</td>\n",
       "      <td>4</td>\n",
       "      <td>0.0</td>\n",
       "      <td>100.0</td>\n",
       "      <td>alt</td>\n",
       "      <td>alt</td>\n",
       "      <td>ref</td>\n",
       "      <td>psl5</td>\n",
       "    </tr>\n",
       "  </tbody>\n",
       "</table>\n",
       "</div>"
      ],
      "text/plain": [
       "   CHROM    POS  total reads ref reads alt reads  sum_ref  sum_alt   %ref  \\\n",
       "0  chrIV   1647           13    [0, 0]    [5, 8]        0       13    0.0   \n",
       "1  chrIV   5608            1    [1, 0]    [0, 0]        1        0  100.0   \n",
       "2  chrIV  15005            7    [0, 0]    [3, 4]        0        7    0.0   \n",
       "3  chrIV  18954            1    [0, 0]    [1, 0]        0        1    0.0   \n",
       "4  chrIV  18989            4    [0, 0]    [2, 2]        0        4    0.0   \n",
       "\n",
       "    %alt pos classification psl5 pos  psl2 pos strain  \n",
       "0  100.0                alt      alt  no reads   psl5  \n",
       "1    0.0                ref      alt       ref   psl2  \n",
       "2  100.0                alt      alt       ref   psl5  \n",
       "3  100.0                alt      alt       ref   psl5  \n",
       "4  100.0                alt      alt       ref   psl5  "
      ]
     },
     "execution_count": 74,
     "metadata": {},
     "output_type": "execute_result"
    }
   ],
   "source": [
    "cleaned_chrIV.head()"
   ]
  },
  {
   "cell_type": "code",
   "execution_count": 75,
   "metadata": {},
   "outputs": [
    {
     "data": {
      "text/plain": [
       "[14, 12]"
      ]
     },
     "execution_count": 75,
     "metadata": {},
     "output_type": "execute_result"
    }
   ],
   "source": [
    "all_ref2[204]"
   ]
  },
  {
   "cell_type": "code",
   "execution_count": 76,
   "metadata": {},
   "outputs": [
    {
     "data": {
      "text/plain": [
       "[0, 1]"
      ]
     },
     "execution_count": 76,
     "metadata": {},
     "output_type": "execute_result"
    }
   ],
   "source": [
    "all_alt2[204]"
   ]
  },
  {
   "cell_type": "code",
   "execution_count": 77,
   "metadata": {},
   "outputs": [
    {
     "data": {
      "text/plain": [
       "27"
      ]
     },
     "execution_count": 77,
     "metadata": {},
     "output_type": "execute_result"
    }
   ],
   "source": [
    "tot_reads2[204]"
   ]
  },
  {
   "cell_type": "code",
   "execution_count": 78,
   "metadata": {},
   "outputs": [
    {
     "data": {
      "text/plain": [
       "'ref'"
      ]
     },
     "execution_count": 78,
     "metadata": {},
     "output_type": "execute_result"
    }
   ],
   "source": [
    "classify2[204]"
   ]
  },
  {
   "cell_type": "code",
   "execution_count": 79,
   "metadata": {},
   "outputs": [
    {
     "data": {
      "text/plain": [
       "26"
      ]
     },
     "execution_count": 79,
     "metadata": {},
     "output_type": "execute_result"
    }
   ],
   "source": [
    "sum_ref2[204]"
   ]
  },
  {
   "cell_type": "code",
   "execution_count": 80,
   "metadata": {},
   "outputs": [
    {
     "data": {
      "text/html": [
       "<div>\n",
       "<style scoped>\n",
       "    .dataframe tbody tr th:only-of-type {\n",
       "        vertical-align: middle;\n",
       "    }\n",
       "\n",
       "    .dataframe tbody tr th {\n",
       "        vertical-align: top;\n",
       "    }\n",
       "\n",
       "    .dataframe thead th {\n",
       "        text-align: right;\n",
       "    }\n",
       "</style>\n",
       "<table border=\"1\" class=\"dataframe\">\n",
       "  <thead>\n",
       "    <tr style=\"text-align: right;\">\n",
       "      <th></th>\n",
       "      <th>CHROM</th>\n",
       "      <th>POS</th>\n",
       "      <th>total reads</th>\n",
       "      <th>ref reads</th>\n",
       "      <th>alt reads</th>\n",
       "      <th>sum_ref</th>\n",
       "      <th>sum_alt</th>\n",
       "      <th>%ref</th>\n",
       "      <th>%alt</th>\n",
       "      <th>pos classification</th>\n",
       "      <th>psl5 pos</th>\n",
       "      <th>psl2 pos</th>\n",
       "      <th>strain</th>\n",
       "    </tr>\n",
       "  </thead>\n",
       "  <tbody>\n",
       "  </tbody>\n",
       "</table>\n",
       "</div>"
      ],
      "text/plain": [
       "Empty DataFrame\n",
       "Columns: [CHROM, POS, total reads, ref reads, alt reads, sum_ref, sum_alt, %ref, %alt, pos classification, psl5 pos, psl2 pos, strain]\n",
       "Index: []"
      ]
     },
     "execution_count": 80,
     "metadata": {},
     "output_type": "execute_result"
    }
   ],
   "source": [
    "cleaned_chrIV.loc[cleaned_chrIV[\"strain\"] == 'inconclusive']"
   ]
  },
  {
   "cell_type": "code",
   "execution_count": 81,
   "metadata": {},
   "outputs": [],
   "source": [
    "psl5Per = []\n",
    "psl2Per = []\n",
    "\n",
    "for ind in cleaned_chrIV.index:\n",
    "    \n",
    "    if cleaned_chrIV[\"strain\"][ind] == 'psl5/psl2':\n",
    "        psl5Per.append(cleaned_chrIV[\"%ref\"][ind])\n",
    "        psl2Per.append(cleaned_chrIV[\"%alt\"][ind])\n",
    "        \n",
    "    elif cleaned_chrIV[\"strain\"][ind] == \"psl5\":\n",
    "        \n",
    "        if cleaned_chrIV[\"pos classification\"][ind] == 'alt':\n",
    "            psl5Per.append(cleaned_chrIV[\"%alt\"][ind])\n",
    "            psl2Per.append(cleaned_chrIV[\"%ref\"][ind])\n",
    "            \n",
    "        elif cleaned_chrIV[\"pos classification\"][ind] == 'ref':\n",
    "            psl5Per.append(cleaned_chrIV[\"%ref\"][ind])\n",
    "            psl2Per.append(cleaned_chrIV[\"%alt\"][ind])\n",
    "            \n",
    "    elif cleaned_chrIV[\"strain\"][ind] == \"psl2\":\n",
    "        \n",
    "        if cleaned_chrIV[\"pos classification\"][ind] == 'alt':\n",
    "            psl2Per.append(cleaned_chrIV[\"%alt\"][ind])\n",
    "            psl5Per.append(cleaned_chrIV[\"%ref\"][ind])\n",
    "            \n",
    "        elif cleaned_chrIV[\"pos classification\"][ind] == 'ref':\n",
    "            psl2Per.append(cleaned_chrIV[\"%ref\"][ind])\n",
    "            psl5Per.append(cleaned_chrIV[\"%alt\"][ind])\n",
    "            \n",
    "    elif cleaned_chrIV[\"strain\"][ind] == 'inconclusive':\n",
    "        psl5Per.append(-1)\n",
    "        psl2Per.append(-1)"
   ]
  },
  {
   "cell_type": "code",
   "execution_count": 82,
   "metadata": {},
   "outputs": [
    {
     "data": {
      "text/plain": [
       "[0.0, 100.0, 0.0, 0.0, 0.0]"
      ]
     },
     "execution_count": 82,
     "metadata": {},
     "output_type": "execute_result"
    }
   ],
   "source": [
    "psl2Per[:5]"
   ]
  },
  {
   "cell_type": "code",
   "execution_count": 83,
   "metadata": {},
   "outputs": [
    {
     "data": {
      "text/plain": [
       "2106"
      ]
     },
     "execution_count": 83,
     "metadata": {},
     "output_type": "execute_result"
    }
   ],
   "source": [
    "len(psl5Per)"
   ]
  },
  {
   "cell_type": "code",
   "execution_count": 84,
   "metadata": {},
   "outputs": [
    {
     "data": {
      "text/html": [
       "<div>\n",
       "<style scoped>\n",
       "    .dataframe tbody tr th:only-of-type {\n",
       "        vertical-align: middle;\n",
       "    }\n",
       "\n",
       "    .dataframe tbody tr th {\n",
       "        vertical-align: top;\n",
       "    }\n",
       "\n",
       "    .dataframe thead th {\n",
       "        text-align: right;\n",
       "    }\n",
       "</style>\n",
       "<table border=\"1\" class=\"dataframe\">\n",
       "  <thead>\n",
       "    <tr style=\"text-align: right;\">\n",
       "      <th></th>\n",
       "      <th>CHROM</th>\n",
       "      <th>POS</th>\n",
       "      <th>total reads</th>\n",
       "      <th>ref reads</th>\n",
       "      <th>alt reads</th>\n",
       "      <th>sum_ref</th>\n",
       "      <th>sum_alt</th>\n",
       "      <th>%ref</th>\n",
       "      <th>%alt</th>\n",
       "      <th>pos classification</th>\n",
       "      <th>psl5 pos</th>\n",
       "      <th>psl2 pos</th>\n",
       "      <th>strain</th>\n",
       "      <th>psl5%</th>\n",
       "      <th>psl2%</th>\n",
       "    </tr>\n",
       "  </thead>\n",
       "  <tbody>\n",
       "    <tr>\n",
       "      <th>0</th>\n",
       "      <td>chrIV</td>\n",
       "      <td>1647</td>\n",
       "      <td>13</td>\n",
       "      <td>[0, 0]</td>\n",
       "      <td>[5, 8]</td>\n",
       "      <td>0</td>\n",
       "      <td>13</td>\n",
       "      <td>0.0</td>\n",
       "      <td>100.0</td>\n",
       "      <td>alt</td>\n",
       "      <td>alt</td>\n",
       "      <td>no reads</td>\n",
       "      <td>psl5</td>\n",
       "      <td>100.0</td>\n",
       "      <td>0.0</td>\n",
       "    </tr>\n",
       "    <tr>\n",
       "      <th>1</th>\n",
       "      <td>chrIV</td>\n",
       "      <td>5608</td>\n",
       "      <td>1</td>\n",
       "      <td>[1, 0]</td>\n",
       "      <td>[0, 0]</td>\n",
       "      <td>1</td>\n",
       "      <td>0</td>\n",
       "      <td>100.0</td>\n",
       "      <td>0.0</td>\n",
       "      <td>ref</td>\n",
       "      <td>alt</td>\n",
       "      <td>ref</td>\n",
       "      <td>psl2</td>\n",
       "      <td>0.0</td>\n",
       "      <td>100.0</td>\n",
       "    </tr>\n",
       "    <tr>\n",
       "      <th>2</th>\n",
       "      <td>chrIV</td>\n",
       "      <td>15005</td>\n",
       "      <td>7</td>\n",
       "      <td>[0, 0]</td>\n",
       "      <td>[3, 4]</td>\n",
       "      <td>0</td>\n",
       "      <td>7</td>\n",
       "      <td>0.0</td>\n",
       "      <td>100.0</td>\n",
       "      <td>alt</td>\n",
       "      <td>alt</td>\n",
       "      <td>ref</td>\n",
       "      <td>psl5</td>\n",
       "      <td>100.0</td>\n",
       "      <td>0.0</td>\n",
       "    </tr>\n",
       "    <tr>\n",
       "      <th>3</th>\n",
       "      <td>chrIV</td>\n",
       "      <td>18954</td>\n",
       "      <td>1</td>\n",
       "      <td>[0, 0]</td>\n",
       "      <td>[1, 0]</td>\n",
       "      <td>0</td>\n",
       "      <td>1</td>\n",
       "      <td>0.0</td>\n",
       "      <td>100.0</td>\n",
       "      <td>alt</td>\n",
       "      <td>alt</td>\n",
       "      <td>ref</td>\n",
       "      <td>psl5</td>\n",
       "      <td>100.0</td>\n",
       "      <td>0.0</td>\n",
       "    </tr>\n",
       "    <tr>\n",
       "      <th>4</th>\n",
       "      <td>chrIV</td>\n",
       "      <td>18989</td>\n",
       "      <td>4</td>\n",
       "      <td>[0, 0]</td>\n",
       "      <td>[2, 2]</td>\n",
       "      <td>0</td>\n",
       "      <td>4</td>\n",
       "      <td>0.0</td>\n",
       "      <td>100.0</td>\n",
       "      <td>alt</td>\n",
       "      <td>alt</td>\n",
       "      <td>ref</td>\n",
       "      <td>psl5</td>\n",
       "      <td>100.0</td>\n",
       "      <td>0.0</td>\n",
       "    </tr>\n",
       "  </tbody>\n",
       "</table>\n",
       "</div>"
      ],
      "text/plain": [
       "   CHROM    POS  total reads ref reads alt reads  sum_ref  sum_alt   %ref  \\\n",
       "0  chrIV   1647           13    [0, 0]    [5, 8]        0       13    0.0   \n",
       "1  chrIV   5608            1    [1, 0]    [0, 0]        1        0  100.0   \n",
       "2  chrIV  15005            7    [0, 0]    [3, 4]        0        7    0.0   \n",
       "3  chrIV  18954            1    [0, 0]    [1, 0]        0        1    0.0   \n",
       "4  chrIV  18989            4    [0, 0]    [2, 2]        0        4    0.0   \n",
       "\n",
       "    %alt pos classification psl5 pos  psl2 pos strain  psl5%  psl2%  \n",
       "0  100.0                alt      alt  no reads   psl5  100.0    0.0  \n",
       "1    0.0                ref      alt       ref   psl2    0.0  100.0  \n",
       "2  100.0                alt      alt       ref   psl5  100.0    0.0  \n",
       "3  100.0                alt      alt       ref   psl5  100.0    0.0  \n",
       "4  100.0                alt      alt       ref   psl5  100.0    0.0  "
      ]
     },
     "execution_count": 84,
     "metadata": {},
     "output_type": "execute_result"
    }
   ],
   "source": [
    "cleaned_chrIV[\"psl5%\"] = psl5Per\n",
    "cleaned_chrIV[\"psl2%\"] = psl2Per\n",
    "cleaned_chrIV.head()"
   ]
  },
  {
   "cell_type": "code",
   "execution_count": 85,
   "metadata": {},
   "outputs": [
    {
     "data": {
      "text/html": [
       "<div>\n",
       "<style scoped>\n",
       "    .dataframe tbody tr th:only-of-type {\n",
       "        vertical-align: middle;\n",
       "    }\n",
       "\n",
       "    .dataframe tbody tr th {\n",
       "        vertical-align: top;\n",
       "    }\n",
       "\n",
       "    .dataframe thead th {\n",
       "        text-align: right;\n",
       "    }\n",
       "</style>\n",
       "<table border=\"1\" class=\"dataframe\">\n",
       "  <thead>\n",
       "    <tr style=\"text-align: right;\">\n",
       "      <th></th>\n",
       "      <th>CHROM</th>\n",
       "      <th>POS</th>\n",
       "      <th>total reads</th>\n",
       "      <th>ref reads</th>\n",
       "      <th>alt reads</th>\n",
       "      <th>sum_ref</th>\n",
       "      <th>sum_alt</th>\n",
       "      <th>%ref</th>\n",
       "      <th>%alt</th>\n",
       "      <th>pos classification</th>\n",
       "      <th>psl5 pos</th>\n",
       "      <th>psl2 pos</th>\n",
       "      <th>strain</th>\n",
       "      <th>psl5%</th>\n",
       "      <th>psl2%</th>\n",
       "    </tr>\n",
       "  </thead>\n",
       "  <tbody>\n",
       "    <tr>\n",
       "      <th>1</th>\n",
       "      <td>chrIV</td>\n",
       "      <td>5608</td>\n",
       "      <td>1</td>\n",
       "      <td>[1, 0]</td>\n",
       "      <td>[0, 0]</td>\n",
       "      <td>1</td>\n",
       "      <td>0</td>\n",
       "      <td>100.0</td>\n",
       "      <td>0.0</td>\n",
       "      <td>ref</td>\n",
       "      <td>alt</td>\n",
       "      <td>ref</td>\n",
       "      <td>psl2</td>\n",
       "      <td>0.0</td>\n",
       "      <td>100.0</td>\n",
       "    </tr>\n",
       "    <tr>\n",
       "      <th>84</th>\n",
       "      <td>chrIV</td>\n",
       "      <td>59773</td>\n",
       "      <td>4</td>\n",
       "      <td>[3, 0]</td>\n",
       "      <td>[0, 1]</td>\n",
       "      <td>3</td>\n",
       "      <td>1</td>\n",
       "      <td>75.0</td>\n",
       "      <td>25.0</td>\n",
       "      <td>ref</td>\n",
       "      <td>alt</td>\n",
       "      <td>ref</td>\n",
       "      <td>psl2</td>\n",
       "      <td>25.0</td>\n",
       "      <td>75.0</td>\n",
       "    </tr>\n",
       "    <tr>\n",
       "      <th>180</th>\n",
       "      <td>chrIV</td>\n",
       "      <td>94417</td>\n",
       "      <td>5</td>\n",
       "      <td>[1, 0]</td>\n",
       "      <td>[0, 4]</td>\n",
       "      <td>1</td>\n",
       "      <td>4</td>\n",
       "      <td>20.0</td>\n",
       "      <td>80.0</td>\n",
       "      <td>alt</td>\n",
       "      <td>alt</td>\n",
       "      <td>ref</td>\n",
       "      <td>psl5</td>\n",
       "      <td>80.0</td>\n",
       "      <td>20.0</td>\n",
       "    </tr>\n",
       "    <tr>\n",
       "      <th>181</th>\n",
       "      <td>chrIV</td>\n",
       "      <td>94538</td>\n",
       "      <td>1</td>\n",
       "      <td>[0, 1]</td>\n",
       "      <td>[0, 0]</td>\n",
       "      <td>1</td>\n",
       "      <td>0</td>\n",
       "      <td>100.0</td>\n",
       "      <td>0.0</td>\n",
       "      <td>ref</td>\n",
       "      <td>alt</td>\n",
       "      <td>ref</td>\n",
       "      <td>psl2</td>\n",
       "      <td>0.0</td>\n",
       "      <td>100.0</td>\n",
       "    </tr>\n",
       "    <tr>\n",
       "      <th>182</th>\n",
       "      <td>chrIV</td>\n",
       "      <td>94648</td>\n",
       "      <td>1</td>\n",
       "      <td>[0, 1]</td>\n",
       "      <td>[0, 0]</td>\n",
       "      <td>1</td>\n",
       "      <td>0</td>\n",
       "      <td>100.0</td>\n",
       "      <td>0.0</td>\n",
       "      <td>ref</td>\n",
       "      <td>alt</td>\n",
       "      <td>ref</td>\n",
       "      <td>psl2</td>\n",
       "      <td>0.0</td>\n",
       "      <td>100.0</td>\n",
       "    </tr>\n",
       "    <tr>\n",
       "      <th>...</th>\n",
       "      <td>...</td>\n",
       "      <td>...</td>\n",
       "      <td>...</td>\n",
       "      <td>...</td>\n",
       "      <td>...</td>\n",
       "      <td>...</td>\n",
       "      <td>...</td>\n",
       "      <td>...</td>\n",
       "      <td>...</td>\n",
       "      <td>...</td>\n",
       "      <td>...</td>\n",
       "      <td>...</td>\n",
       "      <td>...</td>\n",
       "      <td>...</td>\n",
       "      <td>...</td>\n",
       "    </tr>\n",
       "    <tr>\n",
       "      <th>2079</th>\n",
       "      <td>chrIV</td>\n",
       "      <td>1520921</td>\n",
       "      <td>1</td>\n",
       "      <td>[1, 0]</td>\n",
       "      <td>[0, 0]</td>\n",
       "      <td>1</td>\n",
       "      <td>0</td>\n",
       "      <td>100.0</td>\n",
       "      <td>0.0</td>\n",
       "      <td>ref</td>\n",
       "      <td>alt</td>\n",
       "      <td>ref</td>\n",
       "      <td>psl2</td>\n",
       "      <td>0.0</td>\n",
       "      <td>100.0</td>\n",
       "    </tr>\n",
       "    <tr>\n",
       "      <th>2080</th>\n",
       "      <td>chrIV</td>\n",
       "      <td>1521081</td>\n",
       "      <td>1</td>\n",
       "      <td>[0, 1]</td>\n",
       "      <td>[0, 0]</td>\n",
       "      <td>1</td>\n",
       "      <td>0</td>\n",
       "      <td>100.0</td>\n",
       "      <td>0.0</td>\n",
       "      <td>ref</td>\n",
       "      <td>alt</td>\n",
       "      <td>ref</td>\n",
       "      <td>psl2</td>\n",
       "      <td>0.0</td>\n",
       "      <td>100.0</td>\n",
       "    </tr>\n",
       "    <tr>\n",
       "      <th>2081</th>\n",
       "      <td>chrIV</td>\n",
       "      <td>1521084</td>\n",
       "      <td>1</td>\n",
       "      <td>[0, 1]</td>\n",
       "      <td>[0, 0]</td>\n",
       "      <td>1</td>\n",
       "      <td>0</td>\n",
       "      <td>100.0</td>\n",
       "      <td>0.0</td>\n",
       "      <td>ref</td>\n",
       "      <td>alt</td>\n",
       "      <td>ref</td>\n",
       "      <td>psl2</td>\n",
       "      <td>0.0</td>\n",
       "      <td>100.0</td>\n",
       "    </tr>\n",
       "    <tr>\n",
       "      <th>2102</th>\n",
       "      <td>chrIV</td>\n",
       "      <td>1524207</td>\n",
       "      <td>1</td>\n",
       "      <td>[0, 1]</td>\n",
       "      <td>[0, 0]</td>\n",
       "      <td>1</td>\n",
       "      <td>0</td>\n",
       "      <td>100.0</td>\n",
       "      <td>0.0</td>\n",
       "      <td>ref</td>\n",
       "      <td>alt</td>\n",
       "      <td>ref</td>\n",
       "      <td>psl2</td>\n",
       "      <td>0.0</td>\n",
       "      <td>100.0</td>\n",
       "    </tr>\n",
       "    <tr>\n",
       "      <th>2103</th>\n",
       "      <td>chrIV</td>\n",
       "      <td>1524313</td>\n",
       "      <td>8</td>\n",
       "      <td>[6, 2]</td>\n",
       "      <td>[0, 0]</td>\n",
       "      <td>8</td>\n",
       "      <td>0</td>\n",
       "      <td>100.0</td>\n",
       "      <td>0.0</td>\n",
       "      <td>ref</td>\n",
       "      <td>alt</td>\n",
       "      <td>ref</td>\n",
       "      <td>psl2</td>\n",
       "      <td>0.0</td>\n",
       "      <td>100.0</td>\n",
       "    </tr>\n",
       "  </tbody>\n",
       "</table>\n",
       "<p>1038 rows × 15 columns</p>\n",
       "</div>"
      ],
      "text/plain": [
       "      CHROM      POS  total reads ref reads alt reads  sum_ref  sum_alt  \\\n",
       "1     chrIV     5608            1    [1, 0]    [0, 0]        1        0   \n",
       "84    chrIV    59773            4    [3, 0]    [0, 1]        3        1   \n",
       "180   chrIV    94417            5    [1, 0]    [0, 4]        1        4   \n",
       "181   chrIV    94538            1    [0, 1]    [0, 0]        1        0   \n",
       "182   chrIV    94648            1    [0, 1]    [0, 0]        1        0   \n",
       "...     ...      ...          ...       ...       ...      ...      ...   \n",
       "2079  chrIV  1520921            1    [1, 0]    [0, 0]        1        0   \n",
       "2080  chrIV  1521081            1    [0, 1]    [0, 0]        1        0   \n",
       "2081  chrIV  1521084            1    [0, 1]    [0, 0]        1        0   \n",
       "2102  chrIV  1524207            1    [0, 1]    [0, 0]        1        0   \n",
       "2103  chrIV  1524313            8    [6, 2]    [0, 0]        8        0   \n",
       "\n",
       "       %ref  %alt pos classification psl5 pos psl2 pos strain  psl5%  psl2%  \n",
       "1     100.0   0.0                ref      alt      ref   psl2    0.0  100.0  \n",
       "84     75.0  25.0                ref      alt      ref   psl2   25.0   75.0  \n",
       "180    20.0  80.0                alt      alt      ref   psl5   80.0   20.0  \n",
       "181   100.0   0.0                ref      alt      ref   psl2    0.0  100.0  \n",
       "182   100.0   0.0                ref      alt      ref   psl2    0.0  100.0  \n",
       "...     ...   ...                ...      ...      ...    ...    ...    ...  \n",
       "2079  100.0   0.0                ref      alt      ref   psl2    0.0  100.0  \n",
       "2080  100.0   0.0                ref      alt      ref   psl2    0.0  100.0  \n",
       "2081  100.0   0.0                ref      alt      ref   psl2    0.0  100.0  \n",
       "2102  100.0   0.0                ref      alt      ref   psl2    0.0  100.0  \n",
       "2103  100.0   0.0                ref      alt      ref   psl2    0.0  100.0  \n",
       "\n",
       "[1038 rows x 15 columns]"
      ]
     },
     "execution_count": 85,
     "metadata": {},
     "output_type": "execute_result"
    }
   ],
   "source": [
    "cleaned_chrIV.loc[cleaned_chrIV[\"psl5%\"]!= 100]"
   ]
  },
  {
   "cell_type": "markdown",
   "metadata": {},
   "source": [
    "## Plotting PSL5% for every position"
   ]
  },
  {
   "cell_type": "code",
   "execution_count": 86,
   "metadata": {
    "scrolled": false
   },
   "outputs": [
    {
     "data": {
      "image/png": "[encoded data removed]",
      "text/plain": [
       "<Figure size 1152x451.44 with 1 Axes>"
      ]
     },
     "metadata": {},
     "output_type": "display_data"
    }
   ],
   "source": [
    "sns.set(rc={'figure.figsize':(16,6.27)})\n",
    "sns.set(style=\"ticks\", context=\"talk\")\n",
    "plt.style.use('dark_background')\n",
    "sns.scatterplot(x = \"POS\",\n",
    "                   y = \"psl5%\",\n",
    "                   hue = \"psl5%\",\n",
    "                    palette = 'cool',\n",
    "                   data = cleaned_chrIV,\n",
    "                   alpha = 0.5\n",
    "             )\n",
    "\n",
    "plt.title(\"PSL5% in Chromosome IV of yi283_AATTGA.ATCGCGTTACGTCGT\");\n",
    "plt.xlabel(\"sgs1 positions on chrIV\")\n",
    "plt.ylabel(\"% PSL5 allele\")\n",
    "plt.savefig('/Users/anushasubramanian/Desktop/PSL5% of yi283.png', dpi = 180, bbox_inches='tight')"
   ]
  },
  {
   "cell_type": "code",
   "execution_count": 87,
   "metadata": {},
   "outputs": [
    {
     "data": {
      "image/png": "[encoded data removed]",
      "text/plain": [
       "<Figure size 1152x451.44 with 1 Axes>"
      ]
     },
     "metadata": {},
     "output_type": "display_data"
    }
   ],
   "source": [
    "sns.scatterplot(x = \"POS\",\n",
    "                   y = \"psl2%\",\n",
    "                   hue = \"psl2%\",\n",
    "                    palette = 'autumn',\n",
    "                   data = cleaned_chrIV,\n",
    "                   alpha = 0.5\n",
    "             )\n",
    "\n",
    "plt.title(\"PSL2% in Chromosome IV of yi283_AATTGA.ATCGCGTTACGTCGT\");\n",
    "plt.xlabel(\"sgs1 positions on chrIV\")\n",
    "plt.ylabel(\"% PSL2 allele\")\n",
    "plt.savefig('/Users/anushasubramanian/Desktop/PSL2% of yi283.png', dpi = 180, bbox_inches='tight')"
   ]
  },
  {
   "cell_type": "markdown",
   "metadata": {},
   "source": [
    "# FUNCTION FOR FINDING HOW MANY TIMES A POSITION IN SGS1 APPEARS IN THE ~7700 SINGLE CELLS"
   ]
  },
  {
   "cell_type": "code",
   "execution_count": 94,
   "metadata": {},
   "outputs": [
    {
     "data": {
      "text/plain": [
       "'/Users/anushasubramanian/Desktop/Research/UCLA/tsv'"
      ]
     },
     "execution_count": 94,
     "metadata": {},
     "output_type": "execute_result"
    }
   ],
   "source": [
    "pwd"
   ]
  },
  {
   "cell_type": "code",
   "execution_count": 95,
   "metadata": {},
   "outputs": [
    {
     "data": {
      "text/plain": [
       "7704"
      ]
     },
     "execution_count": 95,
     "metadata": {},
     "output_type": "execute_result"
    }
   ],
   "source": [
    "len(os.listdir())"
   ]
  },
  {
   "cell_type": "code",
   "execution_count": 96,
   "metadata": {},
   "outputs": [
    {
     "data": {
      "text/plain": [
       "[1647, 1875, 1993, 2002, 2256]"
      ]
     },
     "execution_count": 96,
     "metadata": {},
     "output_type": "execute_result"
    }
   ],
   "source": [
    "sgs1PosDict[\"chrIV\"][:5]"
   ]
  },
  {
   "cell_type": "code",
   "execution_count": 97,
   "metadata": {},
   "outputs": [],
   "source": [
    "# each position in chrIV of sgs1 is a key in a dictionary\n",
    "chrIVPos = dict.fromkeys(list(sgs1PosDict[\"chrIV\"]), 0)"
   ]
  },
  {
   "cell_type": "code",
   "execution_count": 98,
   "metadata": {},
   "outputs": [
    {
     "data": {
      "text/plain": [
       "'/Users/anushasubramanian/Desktop/Research/UCLA/tsv'"
      ]
     },
     "execution_count": 98,
     "metadata": {},
     "output_type": "execute_result"
    }
   ],
   "source": [
    "pwd"
   ]
  },
  {
   "cell_type": "code",
   "execution_count": 99,
   "metadata": {},
   "outputs": [],
   "source": [
    "for file in os.listdir():\n",
    "    if file.find(\".tsv\") != -1:\n",
    "        data = pd.read_csv(file, sep = '\\t')\n",
    "        vcf = data.loc[data[\"#CHROM\"] == \"chrIV\"]\n",
    "        for pos in vcf[\"POS\"]:\n",
    "            if pos in chrIVPos.keys():\n",
    "                chrIVPos[pos] += 1\n",
    " "
   ]
  },
  {
   "cell_type": "code",
   "execution_count": 100,
   "metadata": {},
   "outputs": [],
   "source": [
    "df = pd.DataFrame()\n",
    "df[\"POS\"] = chrIVPos.keys()\n",
    "df[\"freq\"] = chrIVPos.values()"
   ]
  },
  {
   "cell_type": "code",
   "execution_count": 102,
   "metadata": {},
   "outputs": [],
   "source": [
    "df.to_csv('/Users/anushasubramanian/Desktop/# of times a sgs1 position appears in ChrIV.csv', index = False)"
   ]
  },
  {
   "cell_type": "markdown",
   "metadata": {},
   "source": [
    "## HISTOGRAM DISTRIBUTION OF POSITION REPRESENTATION"
   ]
  },
  {
   "cell_type": "code",
   "execution_count": null,
   "metadata": {
    "scrolled": false
   },
   "outputs": [],
   "source": [
    "sns.set(rc={'figure.figsize':(20,8.27)})\n",
    "sns.set(style=\"ticks\", context=\"talk\")\n",
    "\n",
    "sns.distplot(df[\"freq\"], bins = 100, color = \"deeppink\", kde = False)\n",
    "\n",
    "plt.title(\"How many times each position in chrIV of sgs1 appears in chrIV of 7704 single cells\");\n",
    "plt.xlabel(\"# of times a position is represented\")\n",
    "plt.ylabel(\"# of positions\")\n",
    "plt.savefig('/Users/anushasubramanian/Desktop/ChrIV pos distribution.png', dpi = 180, bbox_inches='tight')"
   ]
  },
  {
   "cell_type": "code",
   "execution_count": null,
   "metadata": {},
   "outputs": [],
   "source": [
    "df.head()"
   ]
  },
  {
   "cell_type": "markdown",
   "metadata": {},
   "source": [
    "## Bar chart of how many times each position is represented"
   ]
  },
  {
   "cell_type": "code",
   "execution_count": null,
   "metadata": {
    "scrolled": false
   },
   "outputs": [],
   "source": [
    "sns.set(rc={'figure.figsize':(20,600)})\n",
    "sns.set(style=\"ticks\", context=\"talk\")\n",
    "plt.style.use('dark_background')\n",
    "\n",
    "sns.barplot(x = \"freq\", y = \"POS\", data = df, orient = \"h\");\n",
    "plt.title(\"How many times each position in chrIV of sgs1 appears in chrIV of 7704 single cells\");\n",
    "plt.ylabel(\"sgs1 positions\")\n",
    "plt.xlabel(\"# of times they appear\")\n",
    "plt.yticks(size = 2)\n",
    "plt.savefig('/Users/anushasubramanian/Desktop/ChrIV bar chart pos freq.png', bbox_inches='tight')"
   ]
  },
  {
   "cell_type": "code",
   "execution_count": null,
   "metadata": {},
   "outputs": [],
   "source": []
  },
  {
   "cell_type": "code",
   "execution_count": null,
   "metadata": {},
   "outputs": [],
   "source": []
  }
 ],
 "metadata": {
  "kernelspec": {
   "display_name": "Python 3",
   "language": "python",
   "name": "python3"
  },
  "language_info": {
   "codemirror_mode": {
    "name": "ipython",
    "version": 3
   },
   "file_extension": ".py",
   "mimetype": "text/x-python",
   "name": "python",
   "nbconvert_exporter": "python",
   "pygments_lexer": "ipython3",
   "version": "3.7.6"
  }
 },
 "nbformat": 4,
 "nbformat_minor": 4
}
