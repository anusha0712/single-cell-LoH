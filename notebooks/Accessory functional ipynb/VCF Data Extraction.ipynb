{
 "cells": [
  {
   "cell_type": "code",
   "execution_count": 13,
   "metadata": {},
   "outputs": [
    {
     "name": "stdout",
     "output_type": "stream",
     "text": [
      "Collecting scikit-allel\n",
      "  Downloading scikit-allel-1.3.2.tar.gz (10.8 MB)\n",
      "\u001b[K     |████████████████████████████████| 10.8 MB 1.8 MB/s eta 0:00:01\n",
      "\u001b[?25hRequirement already satisfied: cython in /Applications/anaconda3/lib/python3.7/site-packages (from scikit-allel) (0.29.15)\n",
      "Requirement already satisfied: numpy in /Applications/anaconda3/lib/python3.7/site-packages (from scikit-allel) (1.18.1)\n",
      "Requirement already satisfied: dask[array] in /Applications/anaconda3/lib/python3.7/site-packages (from scikit-allel) (2.11.0)\n",
      "Requirement already satisfied: toolz>=0.7.3; extra == \"array\" in /Applications/anaconda3/lib/python3.7/site-packages (from dask[array]->scikit-allel) (0.10.0)\n",
      "Building wheels for collected packages: scikit-allel\n",
      "  Building wheel for scikit-allel (setup.py) ... \u001b[?25ldone\n",
      "\u001b[?25h  Created wheel for scikit-allel: filename=scikit_allel-1.3.2-cp37-cp37m-macosx_10_9_x86_64.whl size=1429579 sha256=eaf6cc9567aeea3b01881a5ab44a9fc104bee2548f40eb13895ad3240cf2a523\n",
      "  Stored in directory: /Users/anushasubramanian/Library/Caches/pip/wheels/4b/d7/9e/0fd296f2b36e26ee923a9a3c056d58c81e070fd02ea7a61231\n",
      "Successfully built scikit-allel\n",
      "Installing collected packages: scikit-allel\n",
      "Successfully installed scikit-allel-1.3.2\n"
     ]
    }
   ],
   "source": [
    "#!pip install scikit-allel"
   ]
  },
  {
   "cell_type": "code",
   "execution_count": 77,
   "metadata": {},
   "outputs": [],
   "source": [
    "import allel\n",
    "import numpy as np \n",
    "import pandas as pd\n",
    "import seaborn as sns\n",
    "import matplotlib.pyplot as plt\n",
    "%matplotlib inline"
   ]
  },
  {
   "cell_type": "code",
   "execution_count": 22,
   "metadata": {
    "scrolled": true
   },
   "outputs": [
    {
     "name": "stdout",
     "output_type": "stream",
     "text": [
      "1.3.2\n"
     ]
    }
   ],
   "source": [
    "print(allel.__version__)"
   ]
  },
  {
   "cell_type": "markdown",
   "metadata": {},
   "source": [
    "# Actual Files "
   ]
  },
  {
   "cell_type": "markdown",
   "metadata": {},
   "source": [
    "## PSL2\n",
    "\n",
    "All unphased"
   ]
  },
  {
   "cell_type": "code",
   "execution_count": 23,
   "metadata": {},
   "outputs": [
    {
     "name": "stdout",
     "output_type": "stream",
     "text": [
      "/Users/anushasubramanian\n"
     ]
    }
   ],
   "source": [
    "cd"
   ]
  },
  {
   "cell_type": "code",
   "execution_count": 24,
   "metadata": {},
   "outputs": [
    {
     "name": "stdout",
     "output_type": "stream",
     "text": [
      "/Users/anushasubramanian/Desktop/yeast_parent_vcf\n"
     ]
    }
   ],
   "source": [
    "cd Desktop/yeast_parent_vcf"
   ]
  },
  {
   "cell_type": "code",
   "execution_count": 25,
   "metadata": {},
   "outputs": [],
   "source": [
    "callset = allel.vcf_to_dataframe('psl5.snp.vcf.gz', fields='*')"
   ]
  },
  {
   "cell_type": "code",
   "execution_count": 26,
   "metadata": {},
   "outputs": [
    {
     "data": {
      "text/html": [
       "<div>\n",
       "<style scoped>\n",
       "    .dataframe tbody tr th:only-of-type {\n",
       "        vertical-align: middle;\n",
       "    }\n",
       "\n",
       "    .dataframe tbody tr th {\n",
       "        vertical-align: top;\n",
       "    }\n",
       "\n",
       "    .dataframe thead th {\n",
       "        text-align: right;\n",
       "    }\n",
       "</style>\n",
       "<table border=\"1\" class=\"dataframe\">\n",
       "  <thead>\n",
       "    <tr style=\"text-align: right;\">\n",
       "      <th></th>\n",
       "      <th>CHROM</th>\n",
       "      <th>POS</th>\n",
       "      <th>ID</th>\n",
       "      <th>REF</th>\n",
       "      <th>ALT_1</th>\n",
       "      <th>ALT_2</th>\n",
       "      <th>ALT_3</th>\n",
       "      <th>QUAL</th>\n",
       "      <th>AMQ_1</th>\n",
       "      <th>AMQ_2</th>\n",
       "      <th>AMQ_3</th>\n",
       "      <th>AMQ_4</th>\n",
       "      <th>FILTER_PASS</th>\n",
       "      <th>numalt</th>\n",
       "      <th>altlen_1</th>\n",
       "      <th>altlen_2</th>\n",
       "      <th>altlen_3</th>\n",
       "      <th>is_snp</th>\n",
       "    </tr>\n",
       "  </thead>\n",
       "  <tbody>\n",
       "    <tr>\n",
       "      <th>0</th>\n",
       "      <td>chrI</td>\n",
       "      <td>101</td>\n",
       "      <td>.</td>\n",
       "      <td>G</td>\n",
       "      <td>A</td>\n",
       "      <td>NaN</td>\n",
       "      <td>NaN</td>\n",
       "      <td>5.0</td>\n",
       "      <td>-1</td>\n",
       "      <td>32</td>\n",
       "      <td>-1</td>\n",
       "      <td>-1</td>\n",
       "      <td>False</td>\n",
       "      <td>1</td>\n",
       "      <td>0</td>\n",
       "      <td>0</td>\n",
       "      <td>0</td>\n",
       "      <td>True</td>\n",
       "    </tr>\n",
       "    <tr>\n",
       "      <th>1</th>\n",
       "      <td>chrI</td>\n",
       "      <td>114</td>\n",
       "      <td>.</td>\n",
       "      <td>T</td>\n",
       "      <td>A</td>\n",
       "      <td>NaN</td>\n",
       "      <td>NaN</td>\n",
       "      <td>5.0</td>\n",
       "      <td>27</td>\n",
       "      <td>32</td>\n",
       "      <td>-1</td>\n",
       "      <td>-1</td>\n",
       "      <td>False</td>\n",
       "      <td>1</td>\n",
       "      <td>0</td>\n",
       "      <td>0</td>\n",
       "      <td>0</td>\n",
       "      <td>True</td>\n",
       "    </tr>\n",
       "    <tr>\n",
       "      <th>2</th>\n",
       "      <td>chrI</td>\n",
       "      <td>115</td>\n",
       "      <td>.</td>\n",
       "      <td>C</td>\n",
       "      <td>G</td>\n",
       "      <td>NaN</td>\n",
       "      <td>NaN</td>\n",
       "      <td>12.0</td>\n",
       "      <td>32</td>\n",
       "      <td>27</td>\n",
       "      <td>-1</td>\n",
       "      <td>-1</td>\n",
       "      <td>False</td>\n",
       "      <td>1</td>\n",
       "      <td>0</td>\n",
       "      <td>0</td>\n",
       "      <td>0</td>\n",
       "      <td>True</td>\n",
       "    </tr>\n",
       "    <tr>\n",
       "      <th>3</th>\n",
       "      <td>chrI</td>\n",
       "      <td>136</td>\n",
       "      <td>.</td>\n",
       "      <td>G</td>\n",
       "      <td>A</td>\n",
       "      <td>NaN</td>\n",
       "      <td>NaN</td>\n",
       "      <td>6.0</td>\n",
       "      <td>32</td>\n",
       "      <td>32</td>\n",
       "      <td>-1</td>\n",
       "      <td>-1</td>\n",
       "      <td>False</td>\n",
       "      <td>1</td>\n",
       "      <td>0</td>\n",
       "      <td>0</td>\n",
       "      <td>0</td>\n",
       "      <td>True</td>\n",
       "    </tr>\n",
       "    <tr>\n",
       "      <th>4</th>\n",
       "      <td>chrI</td>\n",
       "      <td>139</td>\n",
       "      <td>.</td>\n",
       "      <td>T</td>\n",
       "      <td>TC</td>\n",
       "      <td>TCC</td>\n",
       "      <td>NaN</td>\n",
       "      <td>12.0</td>\n",
       "      <td>-1</td>\n",
       "      <td>32</td>\n",
       "      <td>32</td>\n",
       "      <td>-1</td>\n",
       "      <td>False</td>\n",
       "      <td>2</td>\n",
       "      <td>1</td>\n",
       "      <td>2</td>\n",
       "      <td>0</td>\n",
       "      <td>False</td>\n",
       "    </tr>\n",
       "  </tbody>\n",
       "</table>\n",
       "</div>"
      ],
      "text/plain": [
       "  CHROM  POS ID REF ALT_1 ALT_2 ALT_3  QUAL  AMQ_1  AMQ_2  AMQ_3  AMQ_4  \\\n",
       "0  chrI  101  .   G     A   NaN   NaN   5.0     -1     32     -1     -1   \n",
       "1  chrI  114  .   T     A   NaN   NaN   5.0     27     32     -1     -1   \n",
       "2  chrI  115  .   C     G   NaN   NaN  12.0     32     27     -1     -1   \n",
       "3  chrI  136  .   G     A   NaN   NaN   6.0     32     32     -1     -1   \n",
       "4  chrI  139  .   T    TC   TCC   NaN  12.0     -1     32     32     -1   \n",
       "\n",
       "   FILTER_PASS  numalt  altlen_1  altlen_2  altlen_3  is_snp  \n",
       "0        False       1         0         0         0    True  \n",
       "1        False       1         0         0         0    True  \n",
       "2        False       1         0         0         0    True  \n",
       "3        False       1         0         0         0    True  \n",
       "4        False       2         1         2         0   False  "
      ]
     },
     "execution_count": 26,
     "metadata": {},
     "output_type": "execute_result"
    }
   ],
   "source": [
    "callset.head()"
   ]
  },
  {
   "cell_type": "markdown",
   "metadata": {},
   "source": [
    "### Store vcf in DataFrame directly"
   ]
  },
  {
   "cell_type": "markdown",
   "metadata": {},
   "source": [
    "Chromosome 1 positions are the first 506 elements of this array"
   ]
  },
  {
   "cell_type": "code",
   "execution_count": 71,
   "metadata": {},
   "outputs": [],
   "source": [
    "callset = allel.read_vcf('psl2.snp.vcf', fields = ['GT'])"
   ]
  },
  {
   "cell_type": "code",
   "execution_count": 72,
   "metadata": {},
   "outputs": [],
   "source": [
    "chr1gtDF = allel.vcf_to_dataframe('psl2.snp.vcf', fields = ['CHROM', 'POS'])[:507] # chr1 all here"
   ]
  },
  {
   "cell_type": "code",
   "execution_count": 73,
   "metadata": {},
   "outputs": [],
   "source": [
    "#chr1gt = callset['calldata/GT'][:507]\n",
    "gt = allel.GenotypeArray(callset['calldata/GT'][:507]).tolist() # just the genotypes"
   ]
  },
  {
   "cell_type": "code",
   "execution_count": 74,
   "metadata": {},
   "outputs": [
    {
     "data": {
      "text/plain": [
       "[[[0, 1]], [[0, 1]], [[0, 1]]]"
      ]
     },
     "execution_count": 74,
     "metadata": {},
     "output_type": "execute_result"
    }
   ],
   "source": [
    "gt[1:4]"
   ]
  },
  {
   "cell_type": "code",
   "execution_count": 75,
   "metadata": {},
   "outputs": [],
   "source": [
    "## extract the tuple from this\n",
    "chr1gt = []\n",
    "for item in gt:\n",
    "    chr1gt.append(item[0])"
   ]
  },
  {
   "cell_type": "code",
   "execution_count": 76,
   "metadata": {
    "scrolled": true
   },
   "outputs": [
    {
     "data": {
      "text/html": [
       "<div>\n",
       "<style scoped>\n",
       "    .dataframe tbody tr th:only-of-type {\n",
       "        vertical-align: middle;\n",
       "    }\n",
       "\n",
       "    .dataframe tbody tr th {\n",
       "        vertical-align: top;\n",
       "    }\n",
       "\n",
       "    .dataframe thead th {\n",
       "        text-align: right;\n",
       "    }\n",
       "</style>\n",
       "<table border=\"1\" class=\"dataframe\">\n",
       "  <thead>\n",
       "    <tr style=\"text-align: right;\">\n",
       "      <th></th>\n",
       "      <th>CHROM</th>\n",
       "      <th>POS</th>\n",
       "      <th>GT</th>\n",
       "    </tr>\n",
       "  </thead>\n",
       "  <tbody>\n",
       "    <tr>\n",
       "      <th>0</th>\n",
       "      <td>chrI</td>\n",
       "      <td>59</td>\n",
       "      <td>[0, 1]</td>\n",
       "    </tr>\n",
       "    <tr>\n",
       "      <th>1</th>\n",
       "      <td>chrI</td>\n",
       "      <td>71</td>\n",
       "      <td>[0, 1]</td>\n",
       "    </tr>\n",
       "    <tr>\n",
       "      <th>2</th>\n",
       "      <td>chrI</td>\n",
       "      <td>136</td>\n",
       "      <td>[0, 1]</td>\n",
       "    </tr>\n",
       "    <tr>\n",
       "      <th>3</th>\n",
       "      <td>chrI</td>\n",
       "      <td>141</td>\n",
       "      <td>[0, 1]</td>\n",
       "    </tr>\n",
       "    <tr>\n",
       "      <th>4</th>\n",
       "      <td>chrI</td>\n",
       "      <td>286</td>\n",
       "      <td>[0, 1]</td>\n",
       "    </tr>\n",
       "  </tbody>\n",
       "</table>\n",
       "</div>"
      ],
      "text/plain": [
       "  CHROM  POS      GT\n",
       "0  chrI   59  [0, 1]\n",
       "1  chrI   71  [0, 1]\n",
       "2  chrI  136  [0, 1]\n",
       "3  chrI  141  [0, 1]\n",
       "4  chrI  286  [0, 1]"
      ]
     },
     "execution_count": 76,
     "metadata": {},
     "output_type": "execute_result"
    }
   ],
   "source": [
    "chr1gtDF[\"GT\"] = chr1gt\n",
    "chr1gtDF.head()"
   ]
  },
  {
   "cell_type": "markdown",
   "metadata": {},
   "source": [
    " create a column in the data frame with what it should be for 1, 0 and 0.5"
   ]
  },
  {
   "cell_type": "code",
   "execution_count": null,
   "metadata": {},
   "outputs": [],
   "source": []
  },
  {
   "cell_type": "code",
   "execution_count": 94,
   "metadata": {},
   "outputs": [],
   "source": [
    "coord = []\n",
    "count = 0\n",
    "for elem in chr1gtDF[\"GT\"]:\n",
    "    if elem == [0,1] or elem == [1,0]:\n",
    "        coord.append(0.5)\n",
    "    elif elem == [0,0]:\n",
    "        count += 1\n",
    "        coord.append(0)\n",
    "    elif elem == [1,1]:\n",
    "        coord.append(1)\n",
    "chr1gtDF[\"Ycoord\"] = coord"
   ]
  },
  {
   "cell_type": "code",
   "execution_count": 103,
   "metadata": {},
   "outputs": [
    {
     "data": {
      "image/png": "[encoded data removed]",
      "text/plain": [
       "<Figure size 1440x451.44 with 1 Axes>"
      ]
     },
     "metadata": {},
     "output_type": "display_data"
    }
   ],
   "source": [
    "#plot barplot\n",
    "sns.set(rc={'figure.figsize':(20,6.27)})\n",
    "chr1Scatter = sns.scatterplot(x = \"POS\", y = \"Ycoord\", data = chr1gtDF, s = 100);\n",
    "chr1Scatter.set(xlabel = \"Position on ChrI\", ylabel = \"Allel\", \n",
    "                title =\"Chromosome I positions and alleles\");\n",
    "\n",
    "#for p in chr1Scatter.patches:\n",
    "    #chr1Scatter.annotate(format(p.get_height()), (p.get_x() + p.get_width() / 2., p.get_height()), \n",
    "               #ha = 'center', va = 'center', xytext = (0, 10), textcoords = 'offset points')\n",
    "plt.savefig('Chromosome I psl2.png', dpi = 180, bbox_inches='tight')"
   ]
  },
  {
   "cell_type": "code",
   "execution_count": null,
   "metadata": {},
   "outputs": [],
   "source": []
  }
 ],
 "metadata": {
  "kernelspec": {
   "display_name": "Python 3",
   "language": "python",
   "name": "python3"
  },
  "language_info": {
   "codemirror_mode": {
    "name": "ipython",
    "version": 3
   },
   "file_extension": ".py",
   "mimetype": "text/x-python",
   "name": "python",
   "nbconvert_exporter": "python",
   "pygments_lexer": "ipython3",
   "version": "3.7.6"
  }
 },
 "nbformat": 4,
 "nbformat_minor": 4
}
