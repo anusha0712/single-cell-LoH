{
 "cells": [
  {
   "cell_type": "code",
   "execution_count": 1,
   "metadata": {},
   "outputs": [],
   "source": [
    "import allel\n",
    "import numpy as np \n",
    "import pandas as pd\n",
    "import seaborn as sns\n",
    "import matplotlib.pyplot as plt\n",
    "%matplotlib inline"
   ]
  },
  {
   "cell_type": "code",
   "execution_count": 2,
   "metadata": {},
   "outputs": [
    {
     "name": "stdout",
     "output_type": "stream",
     "text": [
      "/Users/anushasubramanian\n"
     ]
    }
   ],
   "source": [
    "cd ../"
   ]
  },
  {
   "cell_type": "code",
   "execution_count": 3,
   "metadata": {},
   "outputs": [
    {
     "name": "stdout",
     "output_type": "stream",
     "text": [
      "/Users/anushasubramanian/Desktop/Research/UCLA/yeast_parent_vcf\n"
     ]
    }
   ],
   "source": [
    "cd Desktop/Research/UCLA/yeast_parent_vcf"
   ]
  },
  {
   "cell_type": "code",
   "execution_count": 4,
   "metadata": {},
   "outputs": [
    {
     "data": {
      "text/html": [
       "<div>\n",
       "<style scoped>\n",
       "    .dataframe tbody tr th:only-of-type {\n",
       "        vertical-align: middle;\n",
       "    }\n",
       "\n",
       "    .dataframe tbody tr th {\n",
       "        vertical-align: top;\n",
       "    }\n",
       "\n",
       "    .dataframe thead th {\n",
       "        text-align: right;\n",
       "    }\n",
       "</style>\n",
       "<table border=\"1\" class=\"dataframe\">\n",
       "  <thead>\n",
       "    <tr style=\"text-align: right;\">\n",
       "      <th></th>\n",
       "      <th>CHROM</th>\n",
       "      <th>POS</th>\n",
       "      <th>GT1</th>\n",
       "      <th>GT2</th>\n",
       "    </tr>\n",
       "  </thead>\n",
       "  <tbody>\n",
       "    <tr>\n",
       "      <th>0</th>\n",
       "      <td>chrI</td>\n",
       "      <td>101</td>\n",
       "      <td>1/1</td>\n",
       "      <td>0/0</td>\n",
       "    </tr>\n",
       "    <tr>\n",
       "      <th>1</th>\n",
       "      <td>chrI</td>\n",
       "      <td>177</td>\n",
       "      <td>1/1</td>\n",
       "      <td>0/0</td>\n",
       "    </tr>\n",
       "    <tr>\n",
       "      <th>2</th>\n",
       "      <td>chrI</td>\n",
       "      <td>192</td>\n",
       "      <td>1/1</td>\n",
       "      <td>0/0</td>\n",
       "    </tr>\n",
       "    <tr>\n",
       "      <th>3</th>\n",
       "      <td>chrI</td>\n",
       "      <td>194</td>\n",
       "      <td>1/1</td>\n",
       "      <td>0/0</td>\n",
       "    </tr>\n",
       "    <tr>\n",
       "      <th>4</th>\n",
       "      <td>chrI</td>\n",
       "      <td>242</td>\n",
       "      <td>1/1</td>\n",
       "      <td>0/0</td>\n",
       "    </tr>\n",
       "  </tbody>\n",
       "</table>\n",
       "</div>"
      ],
      "text/plain": [
       "  CHROM  POS  GT1  GT2\n",
       "0  chrI  101  1/1  0/0\n",
       "1  chrI  177  1/1  0/0\n",
       "2  chrI  192  1/1  0/0\n",
       "3  chrI  194  1/1  0/0\n",
       "4  chrI  242  1/1  0/0"
      ]
     },
     "execution_count": 4,
     "metadata": {},
     "output_type": "execute_result"
    }
   ],
   "source": [
    "file = pd.read_csv('sgs1_as_csv.csv')\n",
    "sgs1 = pd.DataFrame(file)\n",
    "sgs1.head() #get all the correct positions chromosome numbers from sgs1"
   ]
  },
  {
   "cell_type": "code",
   "execution_count": 5,
   "metadata": {},
   "outputs": [
    {
     "data": {
      "text/html": [
       "<div>\n",
       "<style scoped>\n",
       "    .dataframe tbody tr th:only-of-type {\n",
       "        vertical-align: middle;\n",
       "    }\n",
       "\n",
       "    .dataframe tbody tr th {\n",
       "        vertical-align: top;\n",
       "    }\n",
       "\n",
       "    .dataframe thead th {\n",
       "        text-align: right;\n",
       "    }\n",
       "</style>\n",
       "<table border=\"1\" class=\"dataframe\">\n",
       "  <thead>\n",
       "    <tr style=\"text-align: right;\">\n",
       "      <th></th>\n",
       "      <th>CHROM</th>\n",
       "      <th>POS</th>\n",
       "      <th>GT1</th>\n",
       "      <th>GT2</th>\n",
       "    </tr>\n",
       "  </thead>\n",
       "  <tbody>\n",
       "    <tr>\n",
       "      <th>0</th>\n",
       "      <td>chrI</td>\n",
       "      <td>101</td>\n",
       "      <td>[1, 1]</td>\n",
       "      <td>0/0</td>\n",
       "    </tr>\n",
       "    <tr>\n",
       "      <th>1</th>\n",
       "      <td>chrI</td>\n",
       "      <td>177</td>\n",
       "      <td>[1, 1]</td>\n",
       "      <td>0/0</td>\n",
       "    </tr>\n",
       "    <tr>\n",
       "      <th>2</th>\n",
       "      <td>chrI</td>\n",
       "      <td>192</td>\n",
       "      <td>[1, 1]</td>\n",
       "      <td>0/0</td>\n",
       "    </tr>\n",
       "    <tr>\n",
       "      <th>3</th>\n",
       "      <td>chrI</td>\n",
       "      <td>194</td>\n",
       "      <td>[1, 1]</td>\n",
       "      <td>0/0</td>\n",
       "    </tr>\n",
       "    <tr>\n",
       "      <th>4</th>\n",
       "      <td>chrI</td>\n",
       "      <td>242</td>\n",
       "      <td>[1, 1]</td>\n",
       "      <td>0/0</td>\n",
       "    </tr>\n",
       "  </tbody>\n",
       "</table>\n",
       "</div>"
      ],
      "text/plain": [
       "  CHROM  POS     GT1  GT2\n",
       "0  chrI  101  [1, 1]  0/0\n",
       "1  chrI  177  [1, 1]  0/0\n",
       "2  chrI  192  [1, 1]  0/0\n",
       "3  chrI  194  [1, 1]  0/0\n",
       "4  chrI  242  [1, 1]  0/0"
      ]
     },
     "execution_count": 5,
     "metadata": {},
     "output_type": "execute_result"
    }
   ],
   "source": [
    "#55158 rows 0-55157 \n",
    "for i in range(0,55158):\n",
    "    if sgs1[\"GT1\"].loc[i] == '1/1':\n",
    "        sgs1.at[i,\"GT1\"] = [1,1]\n",
    "        \n",
    "    elif sgs1[\"GT1\"].loc[i] == '0/0':\n",
    "        sgs1.at[i,\"GT1\"] = [0,0]\n",
    "        \n",
    "    elif sgs1[\"GT1\"].loc[i] == '0/1':\n",
    "        sgs1.at[i,\"GT1\"] = [0,1]\n",
    "        \n",
    "    elif sgs1[\"GT1\"].loc[i] == '1/0':\n",
    "        sgs1.at[i,\"GT1\"] = [1,0]\n",
    "sgs1.head()"
   ]
  },
  {
   "cell_type": "code",
   "execution_count": 6,
   "metadata": {},
   "outputs": [
    {
     "data": {
      "text/html": [
       "<div>\n",
       "<style scoped>\n",
       "    .dataframe tbody tr th:only-of-type {\n",
       "        vertical-align: middle;\n",
       "    }\n",
       "\n",
       "    .dataframe tbody tr th {\n",
       "        vertical-align: top;\n",
       "    }\n",
       "\n",
       "    .dataframe thead th {\n",
       "        text-align: right;\n",
       "    }\n",
       "</style>\n",
       "<table border=\"1\" class=\"dataframe\">\n",
       "  <thead>\n",
       "    <tr style=\"text-align: right;\">\n",
       "      <th></th>\n",
       "      <th>CHROM</th>\n",
       "      <th>POS</th>\n",
       "      <th>GT1</th>\n",
       "      <th>GT2</th>\n",
       "    </tr>\n",
       "  </thead>\n",
       "  <tbody>\n",
       "    <tr>\n",
       "      <th>0</th>\n",
       "      <td>chrI</td>\n",
       "      <td>101</td>\n",
       "      <td>[1, 1]</td>\n",
       "      <td>[0, 0]</td>\n",
       "    </tr>\n",
       "    <tr>\n",
       "      <th>1</th>\n",
       "      <td>chrI</td>\n",
       "      <td>177</td>\n",
       "      <td>[1, 1]</td>\n",
       "      <td>[0, 0]</td>\n",
       "    </tr>\n",
       "    <tr>\n",
       "      <th>2</th>\n",
       "      <td>chrI</td>\n",
       "      <td>192</td>\n",
       "      <td>[1, 1]</td>\n",
       "      <td>[0, 0]</td>\n",
       "    </tr>\n",
       "    <tr>\n",
       "      <th>3</th>\n",
       "      <td>chrI</td>\n",
       "      <td>194</td>\n",
       "      <td>[1, 1]</td>\n",
       "      <td>[0, 0]</td>\n",
       "    </tr>\n",
       "    <tr>\n",
       "      <th>4</th>\n",
       "      <td>chrI</td>\n",
       "      <td>242</td>\n",
       "      <td>[1, 1]</td>\n",
       "      <td>[0, 0]</td>\n",
       "    </tr>\n",
       "  </tbody>\n",
       "</table>\n",
       "</div>"
      ],
      "text/plain": [
       "  CHROM  POS     GT1     GT2\n",
       "0  chrI  101  [1, 1]  [0, 0]\n",
       "1  chrI  177  [1, 1]  [0, 0]\n",
       "2  chrI  192  [1, 1]  [0, 0]\n",
       "3  chrI  194  [1, 1]  [0, 0]\n",
       "4  chrI  242  [1, 1]  [0, 0]"
      ]
     },
     "execution_count": 6,
     "metadata": {},
     "output_type": "execute_result"
    }
   ],
   "source": [
    "for i in range(0,55158):\n",
    "    if sgs1[\"GT2\"].loc[i] == '1/1':\n",
    "        sgs1.at[i,\"GT2\"] = [1,1]\n",
    "        \n",
    "    elif sgs1[\"GT2\"].loc[i] == '0/0':\n",
    "        sgs1.at[i,\"GT2\"] = [0,0]\n",
    "        \n",
    "    elif sgs1[\"GT2\"].loc[i] == '0/1':\n",
    "        sgs1.at[i,\"GT2\"] = [0,1]\n",
    "        \n",
    "    elif sgs1[\"GT2\"].loc[i] == '1/0':\n",
    "        sgs1.at[i,\"GT2\"] = [1,0]\n",
    "        \n",
    "sgs1.head()"
   ]
  },
  {
   "cell_type": "code",
   "execution_count": 7,
   "metadata": {},
   "outputs": [],
   "source": [
    "#store positions in a dictionary \n",
    "\n",
    "keys = [\"chrI\",\"chrII\",\"chrIII\",\"chrIV\",\"chrV\",\"chrVI\",\"chrVII\",\"chrVIII\",\"chrIX\",\"chrX\",\n",
    "        \"chrXI\",\"chrXII\",\"chrXIII\",\"chrXIV\", \"chrXV\",\"chrXVI\",\"chrM\"]\n",
    "sgs1PosDict = dict.fromkeys(keys)\n",
    "\n",
    "for k in sgs1PosDict:\n",
    "    sgs1PosDict[k] = list(sgs1.loc[sgs1[\"CHROM\"] == k][\"POS\"]) \n",
    "    #GT = list(sgs1.loc[sgs1[\"CHROM\"] == k][\"GT1\"])\n",
    "    #pair = list(zip(pos, GT))\n",
    "\n",
    "    #dict with key-value pair of chrom-list of tuples (int-pos, int-GT)\n",
    "    #sgs1PosDict[k] = pair"
   ]
  },
  {
   "cell_type": "code",
   "execution_count": 8,
   "metadata": {},
   "outputs": [
    {
     "data": {
      "text/plain": [
       "[101, 177, 192, 194, 242]"
      ]
     },
     "execution_count": 8,
     "metadata": {},
     "output_type": "execute_result"
    }
   ],
   "source": [
    "sgs1PosDict[\"chrI\"][:5]"
   ]
  },
  {
   "cell_type": "code",
   "execution_count": 9,
   "metadata": {},
   "outputs": [],
   "source": [
    "#JUST CHROMOSOME 4"
   ]
  },
  {
   "cell_type": "code",
   "execution_count": 10,
   "metadata": {},
   "outputs": [],
   "source": [
    "# creating the psl5 dataframe\n",
    "callset = allel.read_vcf('psl5.snp.vcf', fields = ['GT'])\n",
    "chrIV = allel.vcf_to_dataframe('psl5.snp.vcf', fields = ['CHROM', 'POS'])[7773:15437]\n",
    "gt = allel.GenotypeArray(callset['calldata/GT'][7773:15437]).tolist() # just the genotypes\n",
    "gt[0:4]\n",
    "chr4 = []\n",
    "for item in gt:\n",
    "    chr4.append(item[0])\n",
    "chrIV[\"GT\"] = chr4"
   ]
  },
  {
   "cell_type": "code",
   "execution_count": 11,
   "metadata": {},
   "outputs": [
    {
     "data": {
      "text/html": [
       "<div>\n",
       "<style scoped>\n",
       "    .dataframe tbody tr th:only-of-type {\n",
       "        vertical-align: middle;\n",
       "    }\n",
       "\n",
       "    .dataframe tbody tr th {\n",
       "        vertical-align: top;\n",
       "    }\n",
       "\n",
       "    .dataframe thead th {\n",
       "        text-align: right;\n",
       "    }\n",
       "</style>\n",
       "<table border=\"1\" class=\"dataframe\">\n",
       "  <thead>\n",
       "    <tr style=\"text-align: right;\">\n",
       "      <th></th>\n",
       "      <th>CHROM</th>\n",
       "      <th>POS</th>\n",
       "      <th>GT</th>\n",
       "    </tr>\n",
       "  </thead>\n",
       "  <tbody>\n",
       "    <tr>\n",
       "      <th>7773</th>\n",
       "      <td>chrIV</td>\n",
       "      <td>181</td>\n",
       "      <td>[0, 1]</td>\n",
       "    </tr>\n",
       "    <tr>\n",
       "      <th>7774</th>\n",
       "      <td>chrIV</td>\n",
       "      <td>212</td>\n",
       "      <td>[1, 1]</td>\n",
       "    </tr>\n",
       "    <tr>\n",
       "      <th>7775</th>\n",
       "      <td>chrIV</td>\n",
       "      <td>757</td>\n",
       "      <td>[1, 0]</td>\n",
       "    </tr>\n",
       "    <tr>\n",
       "      <th>7776</th>\n",
       "      <td>chrIV</td>\n",
       "      <td>774</td>\n",
       "      <td>[0, 1]</td>\n",
       "    </tr>\n",
       "    <tr>\n",
       "      <th>7777</th>\n",
       "      <td>chrIV</td>\n",
       "      <td>778</td>\n",
       "      <td>[1, 0]</td>\n",
       "    </tr>\n",
       "  </tbody>\n",
       "</table>\n",
       "</div>"
      ],
      "text/plain": [
       "      CHROM  POS      GT\n",
       "7773  chrIV  181  [0, 1]\n",
       "7774  chrIV  212  [1, 1]\n",
       "7775  chrIV  757  [1, 0]\n",
       "7776  chrIV  774  [0, 1]\n",
       "7777  chrIV  778  [1, 0]"
      ]
     },
     "execution_count": 11,
     "metadata": {},
     "output_type": "execute_result"
    }
   ],
   "source": [
    "chrIV.head()"
   ]
  },
  {
   "cell_type": "code",
   "execution_count": 12,
   "metadata": {},
   "outputs": [
    {
     "data": {
      "text/plain": [
       "6381"
      ]
     },
     "execution_count": 12,
     "metadata": {},
     "output_type": "execute_result"
    }
   ],
   "source": [
    "for pos in chrIV[\"POS\"]:\n",
    "    if pos not in sgs1PosDict[\"chrIV\"]:\n",
    "        chrIV.drop(chrIV.loc[chrIV[\"POS\"] == pos].index, inplace = True)\n",
    "len(chrIV[\"POS\"]) "
   ]
  },
  {
   "cell_type": "code",
   "execution_count": 13,
   "metadata": {},
   "outputs": [
    {
     "data": {
      "text/plain": [
       "6741"
      ]
     },
     "execution_count": 13,
     "metadata": {},
     "output_type": "execute_result"
    }
   ],
   "source": [
    "len(sgs1PosDict[\"chrIV\"])"
   ]
  },
  {
   "cell_type": "code",
   "execution_count": 14,
   "metadata": {},
   "outputs": [],
   "source": [
    "# positions \n",
    "extra = []\n",
    "for pos in sgs1PosDict[\"chrIV\"]:\n",
    "    if chrIV[\"POS\"].isin([pos]).any() == False: #if the chrIV position in sgs1 is not in any chrIV pos of psl5\n",
    "        extra.append(pos) # add it to extra "
   ]
  },
  {
   "cell_type": "code",
   "execution_count": 15,
   "metadata": {},
   "outputs": [
    {
     "data": {
      "text/plain": [
       "[18279, 18291, 18312, 19638, 24841, 26679, 28542, 30826, 33211, 33904]"
      ]
     },
     "execution_count": 15,
     "metadata": {},
     "output_type": "execute_result"
    }
   ],
   "source": [
    "extra[:10] #all positions that are in chrIV of sgs1 but not in psl5 (so they are all psl2)"
   ]
  },
  {
   "cell_type": "code",
   "execution_count": 16,
   "metadata": {},
   "outputs": [],
   "source": [
    "sgs1extra = pd.DataFrame()\n",
    "sgs1extra[\"POS\"] = sgs1.loc[sgs1[\"CHROM\"] == \"chrIV\"][\"POS\"]\n",
    "sgs1extra[\"GT\"] = sgs1.loc[sgs1[\"CHROM\"] == \"chrIV\"][\"GT1\"]\n",
    "\n",
    "for pos in sgs1extra[\"POS\"]:\n",
    "    if pos not in extra:\n",
    "        sgs1extra.drop(sgs1extra.loc[sgs1extra[\"POS\"] == pos].index, inplace = True)"
   ]
  },
  {
   "cell_type": "code",
   "execution_count": 17,
   "metadata": {},
   "outputs": [
    {
     "data": {
      "text/html": [
       "<div>\n",
       "<style scoped>\n",
       "    .dataframe tbody tr th:only-of-type {\n",
       "        vertical-align: middle;\n",
       "    }\n",
       "\n",
       "    .dataframe tbody tr th {\n",
       "        vertical-align: top;\n",
       "    }\n",
       "\n",
       "    .dataframe thead th {\n",
       "        text-align: right;\n",
       "    }\n",
       "</style>\n",
       "<table border=\"1\" class=\"dataframe\">\n",
       "  <thead>\n",
       "    <tr style=\"text-align: right;\">\n",
       "      <th></th>\n",
       "      <th>POS</th>\n",
       "      <th>GT</th>\n",
       "    </tr>\n",
       "  </thead>\n",
       "  <tbody>\n",
       "    <tr>\n",
       "      <th>6234</th>\n",
       "      <td>18279</td>\n",
       "      <td>[0, 0]</td>\n",
       "    </tr>\n",
       "    <tr>\n",
       "      <th>6235</th>\n",
       "      <td>18291</td>\n",
       "      <td>[0, 0]</td>\n",
       "    </tr>\n",
       "    <tr>\n",
       "      <th>6236</th>\n",
       "      <td>18312</td>\n",
       "      <td>[0, 0]</td>\n",
       "    </tr>\n",
       "    <tr>\n",
       "      <th>6260</th>\n",
       "      <td>19638</td>\n",
       "      <td>[0, 0]</td>\n",
       "    </tr>\n",
       "    <tr>\n",
       "      <th>6328</th>\n",
       "      <td>24841</td>\n",
       "      <td>[0, 0]</td>\n",
       "    </tr>\n",
       "  </tbody>\n",
       "</table>\n",
       "</div>"
      ],
      "text/plain": [
       "        POS      GT\n",
       "6234  18279  [0, 0]\n",
       "6235  18291  [0, 0]\n",
       "6236  18312  [0, 0]\n",
       "6260  19638  [0, 0]\n",
       "6328  24841  [0, 0]"
      ]
     },
     "execution_count": 17,
     "metadata": {},
     "output_type": "execute_result"
    }
   ],
   "source": [
    "sgs1extra.head()"
   ]
  },
  {
   "cell_type": "code",
   "execution_count": 18,
   "metadata": {
    "scrolled": true
   },
   "outputs": [
    {
     "data": {
      "text/html": [
       "<div>\n",
       "<style scoped>\n",
       "    .dataframe tbody tr th:only-of-type {\n",
       "        vertical-align: middle;\n",
       "    }\n",
       "\n",
       "    .dataframe tbody tr th {\n",
       "        vertical-align: top;\n",
       "    }\n",
       "\n",
       "    .dataframe thead th {\n",
       "        text-align: right;\n",
       "    }\n",
       "</style>\n",
       "<table border=\"1\" class=\"dataframe\">\n",
       "  <thead>\n",
       "    <tr style=\"text-align: right;\">\n",
       "      <th></th>\n",
       "      <th>POS</th>\n",
       "      <th>GT</th>\n",
       "      <th>Y</th>\n",
       "    </tr>\n",
       "  </thead>\n",
       "  <tbody>\n",
       "    <tr>\n",
       "      <th>6234</th>\n",
       "      <td>18279</td>\n",
       "      <td>[0, 0]</td>\n",
       "      <td>0</td>\n",
       "    </tr>\n",
       "    <tr>\n",
       "      <th>6235</th>\n",
       "      <td>18291</td>\n",
       "      <td>[0, 0]</td>\n",
       "      <td>0</td>\n",
       "    </tr>\n",
       "    <tr>\n",
       "      <th>6236</th>\n",
       "      <td>18312</td>\n",
       "      <td>[0, 0]</td>\n",
       "      <td>0</td>\n",
       "    </tr>\n",
       "    <tr>\n",
       "      <th>6260</th>\n",
       "      <td>19638</td>\n",
       "      <td>[0, 0]</td>\n",
       "      <td>0</td>\n",
       "    </tr>\n",
       "    <tr>\n",
       "      <th>6328</th>\n",
       "      <td>24841</td>\n",
       "      <td>[0, 0]</td>\n",
       "      <td>0</td>\n",
       "    </tr>\n",
       "  </tbody>\n",
       "</table>\n",
       "</div>"
      ],
      "text/plain": [
       "        POS      GT  Y\n",
       "6234  18279  [0, 0]  0\n",
       "6235  18291  [0, 0]  0\n",
       "6236  18312  [0, 0]  0\n",
       "6260  19638  [0, 0]  0\n",
       "6328  24841  [0, 0]  0"
      ]
     },
     "execution_count": 18,
     "metadata": {},
     "output_type": "execute_result"
    }
   ],
   "source": [
    "coord = []\n",
    "count = 0\n",
    "for elem in sgs1extra[\"GT\"]:\n",
    "    if elem == [0,1] or elem == [1,0]:\n",
    "        coord.append(0.5)\n",
    "    elif elem == [0,0]:\n",
    "        count += 1\n",
    "        coord.append(0)\n",
    "    elif elem == [1,1]:\n",
    "        coord.append(1)\n",
    "sgs1extra[\"Y\"] = coord\n",
    "sgs1extra.head()"
   ]
  },
  {
   "cell_type": "code",
   "execution_count": 19,
   "metadata": {
    "scrolled": true
   },
   "outputs": [
    {
     "data": {
      "text/html": [
       "<div>\n",
       "<style scoped>\n",
       "    .dataframe tbody tr th:only-of-type {\n",
       "        vertical-align: middle;\n",
       "    }\n",
       "\n",
       "    .dataframe tbody tr th {\n",
       "        vertical-align: top;\n",
       "    }\n",
       "\n",
       "    .dataframe thead th {\n",
       "        text-align: right;\n",
       "    }\n",
       "</style>\n",
       "<table border=\"1\" class=\"dataframe\">\n",
       "  <thead>\n",
       "    <tr style=\"text-align: right;\">\n",
       "      <th></th>\n",
       "      <th>POS</th>\n",
       "      <th>Y</th>\n",
       "    </tr>\n",
       "  </thead>\n",
       "  <tbody>\n",
       "    <tr>\n",
       "      <th>6234</th>\n",
       "      <td>18279</td>\n",
       "      <td>0</td>\n",
       "    </tr>\n",
       "    <tr>\n",
       "      <th>6235</th>\n",
       "      <td>18291</td>\n",
       "      <td>0</td>\n",
       "    </tr>\n",
       "    <tr>\n",
       "      <th>6236</th>\n",
       "      <td>18312</td>\n",
       "      <td>0</td>\n",
       "    </tr>\n",
       "    <tr>\n",
       "      <th>6260</th>\n",
       "      <td>19638</td>\n",
       "      <td>0</td>\n",
       "    </tr>\n",
       "    <tr>\n",
       "      <th>6328</th>\n",
       "      <td>24841</td>\n",
       "      <td>0</td>\n",
       "    </tr>\n",
       "  </tbody>\n",
       "</table>\n",
       "</div>"
      ],
      "text/plain": [
       "        POS  Y\n",
       "6234  18279  0\n",
       "6235  18291  0\n",
       "6236  18312  0\n",
       "6260  19638  0\n",
       "6328  24841  0"
      ]
     },
     "execution_count": 19,
     "metadata": {},
     "output_type": "execute_result"
    }
   ],
   "source": [
    "sgs1extra.drop([\"GT\"], axis=1, inplace = True)\n",
    "sgs1extra.head()"
   ]
  },
  {
   "cell_type": "code",
   "execution_count": 20,
   "metadata": {},
   "outputs": [],
   "source": [
    "#for psl5, ref=0 and alt=1 because majority of snps are 1/1 which as psl5-alt"
   ]
  },
  {
   "cell_type": "code",
   "execution_count": 21,
   "metadata": {},
   "outputs": [],
   "source": [
    "final = pd.DataFrame()\n",
    "final[\"sgs POS\"] = sgs1PosDict[\"chrIV\"]\n",
    "ref_alt = []\n",
    "y = []\n",
    "for pos in final[\"sgs POS\"]:\n",
    "    if chrIV[\"POS\"].isin([pos]).any() == True:\n",
    "        ref_alt.append(\"ALT\")\n",
    "        y.append(1)\n",
    "    elif sgs1extra[\"POS\"].isin([pos]).any() == True:\n",
    "        ref_alt.append(\"REF\")\n",
    "        y.append(0)\n",
    "final[\"REF/ALT\"] = ref_alt\n",
    "final[\"Y\"] = y"
   ]
  },
  {
   "cell_type": "code",
   "execution_count": 22,
   "metadata": {},
   "outputs": [
    {
     "data": {
      "text/html": [
       "<div>\n",
       "<style scoped>\n",
       "    .dataframe tbody tr th:only-of-type {\n",
       "        vertical-align: middle;\n",
       "    }\n",
       "\n",
       "    .dataframe tbody tr th {\n",
       "        vertical-align: top;\n",
       "    }\n",
       "\n",
       "    .dataframe thead th {\n",
       "        text-align: right;\n",
       "    }\n",
       "</style>\n",
       "<table border=\"1\" class=\"dataframe\">\n",
       "  <thead>\n",
       "    <tr style=\"text-align: right;\">\n",
       "      <th></th>\n",
       "      <th>sgs POS</th>\n",
       "      <th>REF/ALT</th>\n",
       "      <th>Y</th>\n",
       "    </tr>\n",
       "  </thead>\n",
       "  <tbody>\n",
       "    <tr>\n",
       "      <th>0</th>\n",
       "      <td>1647</td>\n",
       "      <td>ALT</td>\n",
       "      <td>1</td>\n",
       "    </tr>\n",
       "    <tr>\n",
       "      <th>1</th>\n",
       "      <td>1875</td>\n",
       "      <td>ALT</td>\n",
       "      <td>1</td>\n",
       "    </tr>\n",
       "    <tr>\n",
       "      <th>2</th>\n",
       "      <td>1993</td>\n",
       "      <td>ALT</td>\n",
       "      <td>1</td>\n",
       "    </tr>\n",
       "    <tr>\n",
       "      <th>3</th>\n",
       "      <td>2002</td>\n",
       "      <td>ALT</td>\n",
       "      <td>1</td>\n",
       "    </tr>\n",
       "    <tr>\n",
       "      <th>4</th>\n",
       "      <td>2256</td>\n",
       "      <td>ALT</td>\n",
       "      <td>1</td>\n",
       "    </tr>\n",
       "  </tbody>\n",
       "</table>\n",
       "</div>"
      ],
      "text/plain": [
       "   sgs POS REF/ALT  Y\n",
       "0     1647     ALT  1\n",
       "1     1875     ALT  1\n",
       "2     1993     ALT  1\n",
       "3     2002     ALT  1\n",
       "4     2256     ALT  1"
      ]
     },
     "execution_count": 22,
     "metadata": {},
     "output_type": "execute_result"
    }
   ],
   "source": [
    "final.head()"
   ]
  },
  {
   "cell_type": "code",
   "execution_count": 23,
   "metadata": {
    "scrolled": false
   },
   "outputs": [],
   "source": [
    "# # adding the coordinate\n",
    "# coord = []\n",
    "# count = 0\n",
    "# for elem in chrIV[\"GT\"]:\n",
    "#     if elem == [0,1] or elem == [1,0]:\n",
    "#         coord.append(0.5)\n",
    "#     elif elem == [0,0]:\n",
    "#         count += 1\n",
    "#         coord.append(0)\n",
    "#     elif elem == [1,1]:\n",
    "#         coord.append(1)\n",
    "# chrIV[\"Y PSL5\"] = coord\n",
    "\n",
    "# chrIV.head()"
   ]
  },
  {
   "cell_type": "code",
   "execution_count": 24,
   "metadata": {},
   "outputs": [],
   "source": [
    "# # join the two\n",
    "# df = chrIV.merge(sgs1extra, on=['POS'], how='outer')\n",
    "# df.drop([\"CHROM\",\"GT\"], axis = 1, inplace = True)\n",
    "# df.head()"
   ]
  },
  {
   "cell_type": "code",
   "execution_count": 122,
   "metadata": {},
   "outputs": [
    {
     "data": {
      "image/png": "[encoded data removed]",
      "text/plain": [
       "<Figure size 1440x307.44 with 1 Axes>"
      ]
     },
     "metadata": {},
     "output_type": "display_data"
    }
   ],
   "source": [
    "sns.set(rc={'figure.figsize':(20,4.27)})\n",
    "p = sns.scatterplot(x = \"sgs POS\",\n",
    "                   y = \"Y\",\n",
    "                   hue = \"REF/ALT\",\n",
    "                   data = final,\n",
    "                   alpha = 0.5,\n",
    "                   palette= ['darkred','deeppink'])\n",
    "p.set(xlabel = \"sgs1 positions on chrIV\", ylabel = \"Ref/Alt allele\", \n",
    "                title = \"Chromosome IV psl5 allele freq\");\n",
    "plt.savefig('ChrIV psl5 REF or ALT.png', dpi = 180, bbox_inches='tight')"
   ]
  },
  {
   "cell_type": "markdown",
   "metadata": {},
   "source": [
    "## Plotting allele frequency for PSL5\n",
    "\n",
    "sgs1 chromosome IV : \n",
    "\n",
    "ALT = psl5 \n",
    "\n",
    "REF = psl2 (alt) (the 360 extra)"
   ]
  },
  {
   "cell_type": "code",
   "execution_count": 26,
   "metadata": {},
   "outputs": [],
   "source": [
    "sgs1PosDict[\"chrIV\"] #positions of sgs1 \n",
    "\n",
    "# creating the psl5 dataframe\n",
    "callset = allel.read_vcf('psl5.snp.vcf', fields = ['GT'])\n",
    "psl5 = allel.vcf_to_dataframe('psl5.snp.vcf', fields = ['CHROM', 'POS'])[7773:15437]\n",
    "gt = allel.GenotypeArray(callset['calldata/GT'][7773:15437]).tolist() # just the genotypes\n",
    "gt[0:4]\n",
    "chr4 = []\n",
    "for item in gt:\n",
    "    chr4.append(item[0])\n",
    "psl5[\"GT\"] = chr4 # positions of psl5 chrIV\n",
    "\n",
    "# creating the psl2 dataframe\n",
    "callset = allel.read_vcf('psl2.snp.vcf', fields = ['GT'])\n",
    "psl2 = allel.vcf_to_dataframe('psl2.snp.vcf', fields = ['CHROM', 'POS'])[1582:2318]\n",
    "gt = allel.GenotypeArray(callset['calldata/GT'][1582:2318]).tolist() # just the genotypes\n",
    "gt[0:4]\n",
    "chr4 = []\n",
    "for item in gt:\n",
    "    chr4.append(item[0])\n",
    "psl2[\"GT\"] = chr4 # positions of psl2 chrIV"
   ]
  },
  {
   "cell_type": "code",
   "execution_count": 27,
   "metadata": {
    "scrolled": true
   },
   "outputs": [
    {
     "data": {
      "text/html": [
       "<div>\n",
       "<style scoped>\n",
       "    .dataframe tbody tr th:only-of-type {\n",
       "        vertical-align: middle;\n",
       "    }\n",
       "\n",
       "    .dataframe tbody tr th {\n",
       "        vertical-align: top;\n",
       "    }\n",
       "\n",
       "    .dataframe thead th {\n",
       "        text-align: right;\n",
       "    }\n",
       "</style>\n",
       "<table border=\"1\" class=\"dataframe\">\n",
       "  <thead>\n",
       "    <tr style=\"text-align: right;\">\n",
       "      <th></th>\n",
       "      <th>CHROM</th>\n",
       "      <th>POS</th>\n",
       "      <th>GT</th>\n",
       "    </tr>\n",
       "  </thead>\n",
       "  <tbody>\n",
       "    <tr>\n",
       "      <th>7773</th>\n",
       "      <td>chrIV</td>\n",
       "      <td>181</td>\n",
       "      <td>[0, 1]</td>\n",
       "    </tr>\n",
       "    <tr>\n",
       "      <th>7774</th>\n",
       "      <td>chrIV</td>\n",
       "      <td>212</td>\n",
       "      <td>[1, 1]</td>\n",
       "    </tr>\n",
       "    <tr>\n",
       "      <th>7775</th>\n",
       "      <td>chrIV</td>\n",
       "      <td>757</td>\n",
       "      <td>[1, 0]</td>\n",
       "    </tr>\n",
       "    <tr>\n",
       "      <th>7776</th>\n",
       "      <td>chrIV</td>\n",
       "      <td>774</td>\n",
       "      <td>[0, 1]</td>\n",
       "    </tr>\n",
       "    <tr>\n",
       "      <th>7777</th>\n",
       "      <td>chrIV</td>\n",
       "      <td>778</td>\n",
       "      <td>[1, 0]</td>\n",
       "    </tr>\n",
       "  </tbody>\n",
       "</table>\n",
       "</div>"
      ],
      "text/plain": [
       "      CHROM  POS      GT\n",
       "7773  chrIV  181  [0, 1]\n",
       "7774  chrIV  212  [1, 1]\n",
       "7775  chrIV  757  [1, 0]\n",
       "7776  chrIV  774  [0, 1]\n",
       "7777  chrIV  778  [1, 0]"
      ]
     },
     "execution_count": 27,
     "metadata": {},
     "output_type": "execute_result"
    }
   ],
   "source": [
    "psl5.head()"
   ]
  },
  {
   "cell_type": "code",
   "execution_count": 28,
   "metadata": {},
   "outputs": [
    {
     "data": {
      "text/html": [
       "<div>\n",
       "<style scoped>\n",
       "    .dataframe tbody tr th:only-of-type {\n",
       "        vertical-align: middle;\n",
       "    }\n",
       "\n",
       "    .dataframe tbody tr th {\n",
       "        vertical-align: top;\n",
       "    }\n",
       "\n",
       "    .dataframe thead th {\n",
       "        text-align: right;\n",
       "    }\n",
       "</style>\n",
       "<table border=\"1\" class=\"dataframe\">\n",
       "  <thead>\n",
       "    <tr style=\"text-align: right;\">\n",
       "      <th></th>\n",
       "      <th>CHROM</th>\n",
       "      <th>POS</th>\n",
       "      <th>GT</th>\n",
       "    </tr>\n",
       "  </thead>\n",
       "  <tbody>\n",
       "    <tr>\n",
       "      <th>1582</th>\n",
       "      <td>chrIV</td>\n",
       "      <td>2008</td>\n",
       "      <td>[1, 1]</td>\n",
       "    </tr>\n",
       "    <tr>\n",
       "      <th>1583</th>\n",
       "      <td>chrIV</td>\n",
       "      <td>2009</td>\n",
       "      <td>[1, 1]</td>\n",
       "    </tr>\n",
       "    <tr>\n",
       "      <th>1584</th>\n",
       "      <td>chrIV</td>\n",
       "      <td>2035</td>\n",
       "      <td>[1, 1]</td>\n",
       "    </tr>\n",
       "    <tr>\n",
       "      <th>1585</th>\n",
       "      <td>chrIV</td>\n",
       "      <td>2151</td>\n",
       "      <td>[1, 1]</td>\n",
       "    </tr>\n",
       "    <tr>\n",
       "      <th>1586</th>\n",
       "      <td>chrIV</td>\n",
       "      <td>2152</td>\n",
       "      <td>[1, 1]</td>\n",
       "    </tr>\n",
       "  </tbody>\n",
       "</table>\n",
       "</div>"
      ],
      "text/plain": [
       "      CHROM   POS      GT\n",
       "1582  chrIV  2008  [1, 1]\n",
       "1583  chrIV  2009  [1, 1]\n",
       "1584  chrIV  2035  [1, 1]\n",
       "1585  chrIV  2151  [1, 1]\n",
       "1586  chrIV  2152  [1, 1]"
      ]
     },
     "execution_count": 28,
     "metadata": {},
     "output_type": "execute_result"
    }
   ],
   "source": [
    "psl2.head()"
   ]
  },
  {
   "cell_type": "code",
   "execution_count": 29,
   "metadata": {},
   "outputs": [],
   "source": [
    "freq = pd.DataFrame()\n",
    "freq[\"POS\"] = sgs1PosDict[\"chrIV\"]\n",
    "strain = []\n",
    "y = []\n",
    "\n",
    "for pos in freq[\"POS\"]:\n",
    "    if psl5[\"POS\"].isin([pos]).any() == True and psl2[\"POS\"].isin([pos]).any() == False:\n",
    "        strain.append(\"psl5A\")\n",
    "        y.append(1)\n",
    "        \n",
    "    elif psl2[\"POS\"].isin([pos]).any() == True and psl5[\"POS\"].isin([pos]).any() == False:\n",
    "        strain.append(\"psl5R\")\n",
    "        y.append(1)\n",
    "     \n",
    "freq[\"PSL5\"] = strain\n",
    "freq[\"Y\"] = y\n",
    "\n",
    "\n",
    "strain = []\n",
    "y = []\n",
    "\n",
    "freq2 = pd.DataFrame()\n",
    "freq2[\"POS\"] = sgs1PosDict[\"chrIV\"]\n",
    "for p in freq[\"PSL5\"]:\n",
    "    if p == \"psl5A\":\n",
    "        strain.append(\"psl2R\")\n",
    "        y.append(0)\n",
    "        \n",
    "    elif p == \"psl5R\":\n",
    "        strain.append(\"psl2A\")\n",
    "        y.append(0)\n",
    "        \n",
    "freq2[\"PSL2\"] = strain\n",
    "freq2[\"Y\"] = y\n"
   ]
  },
  {
   "cell_type": "code",
   "execution_count": 30,
   "metadata": {
    "scrolled": true
   },
   "outputs": [
    {
     "data": {
      "text/html": [
       "<div>\n",
       "<style scoped>\n",
       "    .dataframe tbody tr th:only-of-type {\n",
       "        vertical-align: middle;\n",
       "    }\n",
       "\n",
       "    .dataframe tbody tr th {\n",
       "        vertical-align: top;\n",
       "    }\n",
       "\n",
       "    .dataframe thead th {\n",
       "        text-align: right;\n",
       "    }\n",
       "</style>\n",
       "<table border=\"1\" class=\"dataframe\">\n",
       "  <thead>\n",
       "    <tr style=\"text-align: right;\">\n",
       "      <th></th>\n",
       "      <th>POS</th>\n",
       "      <th>PSL5</th>\n",
       "      <th>Y</th>\n",
       "    </tr>\n",
       "  </thead>\n",
       "  <tbody>\n",
       "    <tr>\n",
       "      <th>0</th>\n",
       "      <td>1647</td>\n",
       "      <td>psl5A</td>\n",
       "      <td>1</td>\n",
       "    </tr>\n",
       "    <tr>\n",
       "      <th>1</th>\n",
       "      <td>1875</td>\n",
       "      <td>psl5A</td>\n",
       "      <td>1</td>\n",
       "    </tr>\n",
       "    <tr>\n",
       "      <th>2</th>\n",
       "      <td>1993</td>\n",
       "      <td>psl5A</td>\n",
       "      <td>1</td>\n",
       "    </tr>\n",
       "    <tr>\n",
       "      <th>3</th>\n",
       "      <td>2002</td>\n",
       "      <td>psl5A</td>\n",
       "      <td>1</td>\n",
       "    </tr>\n",
       "    <tr>\n",
       "      <th>4</th>\n",
       "      <td>2256</td>\n",
       "      <td>psl5A</td>\n",
       "      <td>1</td>\n",
       "    </tr>\n",
       "  </tbody>\n",
       "</table>\n",
       "</div>"
      ],
      "text/plain": [
       "    POS   PSL5  Y\n",
       "0  1647  psl5A  1\n",
       "1  1875  psl5A  1\n",
       "2  1993  psl5A  1\n",
       "3  2002  psl5A  1\n",
       "4  2256  psl5A  1"
      ]
     },
     "execution_count": 30,
     "metadata": {},
     "output_type": "execute_result"
    }
   ],
   "source": [
    "freq.head()"
   ]
  },
  {
   "cell_type": "code",
   "execution_count": 31,
   "metadata": {},
   "outputs": [
    {
     "data": {
      "text/html": [
       "<div>\n",
       "<style scoped>\n",
       "    .dataframe tbody tr th:only-of-type {\n",
       "        vertical-align: middle;\n",
       "    }\n",
       "\n",
       "    .dataframe tbody tr th {\n",
       "        vertical-align: top;\n",
       "    }\n",
       "\n",
       "    .dataframe thead th {\n",
       "        text-align: right;\n",
       "    }\n",
       "</style>\n",
       "<table border=\"1\" class=\"dataframe\">\n",
       "  <thead>\n",
       "    <tr style=\"text-align: right;\">\n",
       "      <th></th>\n",
       "      <th>POS</th>\n",
       "      <th>PSL2</th>\n",
       "      <th>Y</th>\n",
       "    </tr>\n",
       "  </thead>\n",
       "  <tbody>\n",
       "    <tr>\n",
       "      <th>0</th>\n",
       "      <td>1647</td>\n",
       "      <td>psl2R</td>\n",
       "      <td>0</td>\n",
       "    </tr>\n",
       "    <tr>\n",
       "      <th>1</th>\n",
       "      <td>1875</td>\n",
       "      <td>psl2R</td>\n",
       "      <td>0</td>\n",
       "    </tr>\n",
       "    <tr>\n",
       "      <th>2</th>\n",
       "      <td>1993</td>\n",
       "      <td>psl2R</td>\n",
       "      <td>0</td>\n",
       "    </tr>\n",
       "    <tr>\n",
       "      <th>3</th>\n",
       "      <td>2002</td>\n",
       "      <td>psl2R</td>\n",
       "      <td>0</td>\n",
       "    </tr>\n",
       "    <tr>\n",
       "      <th>4</th>\n",
       "      <td>2256</td>\n",
       "      <td>psl2R</td>\n",
       "      <td>0</td>\n",
       "    </tr>\n",
       "  </tbody>\n",
       "</table>\n",
       "</div>"
      ],
      "text/plain": [
       "    POS   PSL2  Y\n",
       "0  1647  psl2R  0\n",
       "1  1875  psl2R  0\n",
       "2  1993  psl2R  0\n",
       "3  2002  psl2R  0\n",
       "4  2256  psl2R  0"
      ]
     },
     "execution_count": 31,
     "metadata": {},
     "output_type": "execute_result"
    }
   ],
   "source": [
    "freq2.head()"
   ]
  },
  {
   "cell_type": "code",
   "execution_count": 32,
   "metadata": {},
   "outputs": [],
   "source": [
    "# sns.set(rc={'figure.figsize':(15,4.27)})\n",
    "# p = sns.scatterplot(x = \"POS\",\n",
    "#                    y = \"Y\",\n",
    "#                    hue = \"Strain\",\n",
    "#                     palette= ['darkred','deeppink'],\n",
    "#                    data = freq,\n",
    "#                    alpha = 0.15)\n",
    "# p.set(xlabel = \"sgs1 positions on chrIV\", ylabel = \"origin strain\", \n",
    "#                 title = \"Chromosome IV sgs1 allele freq\");\n",
    "# #plt.savefig('Chromosome IV sgs1 allele freq (2)', dpi = 180, bbox_inches='tight')"
   ]
  },
  {
   "cell_type": "code",
   "execution_count": 123,
   "metadata": {
    "scrolled": true
   },
   "outputs": [
    {
     "data": {
      "image/png": "[encoded data removed]",
      "text/plain": [
       "<Figure size 1080x235.44 with 1 Axes>"
      ]
     },
     "metadata": {},
     "output_type": "display_data"
    }
   ],
   "source": [
    "sns.set(rc={'figure.figsize':(15,3.27)})\n",
    "sns.scatterplot(x = \"POS\",\n",
    "                   y = \"Y\",\n",
    "                   hue = \"PSL5\",\n",
    "                    palette= ['darkred','deeppink'],\n",
    "                   data = freq,\n",
    "                   alpha = 0.15,\n",
    "                   size = \"PSL5\",\n",
    "                   size_order = [\"psl5R\", \"psl5A\"])\n",
    "sns.scatterplot(x = \"POS\",\n",
    "                   y = \"Y\",\n",
    "                   hue = \"PSL2\",\n",
    "                    palette= ['skyblue','forestgreen'],\n",
    "                   data = freq2,\n",
    "                   alpha = 0.15,\n",
    "                   size = \"PSL2\",\n",
    "                   size_order = [\"psl2A\", \"psl2R\"])\n",
    "plt.yticks([0,0.5,1])\n",
    "plt.title(\"Chromosome IV sgs1\");\n",
    "plt.xlabel(\"sgs1 positions on chrIV\")\n",
    "plt.ylabel(\"% PSL5 allele\")\n",
    "plt.legend(ncol = 2,)\n",
    "plt.savefig('Chromosome IV sgs1 (PSL5)', dpi = 180, bbox_inches='tight')"
   ]
  },
  {
   "cell_type": "code",
   "execution_count": 110,
   "metadata": {},
   "outputs": [],
   "source": [
    "c = allel.read_vcf('psl2.snp.vcf', fields = ['GT'])\n",
    "IV = allel.vcf_to_dataframe('psl2.snp.vcf', fields = ['CHROM', 'POS'])"
   ]
  },
  {
   "cell_type": "code",
   "execution_count": 119,
   "metadata": {},
   "outputs": [
    {
     "data": {
      "text/plain": [
       "1582    chrIV\n",
       "1583    chrIV\n",
       "1584    chrIV\n",
       "1585    chrIV\n",
       "1586    chrIV\n",
       "        ...  \n",
       "2313    chrIV\n",
       "2314    chrIV\n",
       "2315    chrIV\n",
       "2316    chrIV\n",
       "2317    chrIV\n",
       "Name: CHROM, Length: 736, dtype: object"
      ]
     },
     "execution_count": 119,
     "metadata": {},
     "output_type": "execute_result"
    }
   ],
   "source": [
    "IV[\"CHROM\"][1582:2318]"
   ]
  },
  {
   "cell_type": "code",
   "execution_count": null,
   "metadata": {},
   "outputs": [],
   "source": []
  }
 ],
 "metadata": {
  "kernelspec": {
   "display_name": "Python 3",
   "language": "python",
   "name": "python3"
  },
  "language_info": {
   "codemirror_mode": {
    "name": "ipython",
    "version": 3
   },
   "file_extension": ".py",
   "mimetype": "text/x-python",
   "name": "python",
   "nbconvert_exporter": "python",
   "pygments_lexer": "ipython3",
   "version": "3.7.6"
  }
 },
 "nbformat": 4,
 "nbformat_minor": 4
}
